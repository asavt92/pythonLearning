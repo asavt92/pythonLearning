{
 "cells": [
  {
   "cell_type": "markdown",
   "metadata": {},
   "source": [
    "# Simple decorator "
   ]
  },
  {
   "cell_type": "code",
   "execution_count": 1,
   "metadata": {},
   "outputs": [
    {
     "name": "stdout",
     "output_type": "stream",
     "text": [
      "Я простая одинокая функция, ты ведь не посмеешь меня изменять?\n"
     ]
    }
   ],
   "source": [
    "def my_shiny_new_decorator(function_to_decorate):\n",
    "...     # Внутри себя декоратор определяет функцию-\"обёртку\". Она будет обёрнута вокруг декорируемой,\n",
    "...     # получая возможность исполнять произвольный код до и после неё.\n",
    "...     def the_wrapper_around_the_original_function():\n",
    "...         print(\"Я - код, который отработает до вызова функции\")\n",
    "...         function_to_decorate() # Сама функция\n",
    "...         print(\"А я - код, срабатывающий после\")\n",
    "...     # Вернём эту функцию\n",
    "...     return the_wrapper_around_the_original_function\n",
    "...\n",
    ">>> # Представим теперь, что у нас есть функция, которую мы не планируем больше трогать.\n",
    ">>> def stand_alone_function():\n",
    "...     print(\"Я простая одинокая функция, ты ведь не посмеешь меня изменять?\")\n",
    "...\n",
    ">>> stand_alone_function()"
   ]
  },
  {
   "cell_type": "code",
   "execution_count": 3,
   "metadata": {},
   "outputs": [
    {
     "name": "stdout",
     "output_type": "stream",
     "text": [
      "Я - код, который отработает до вызова функции\n",
      "Я простая одинокая функция, ты ведь не посмеешь меня изменять?\n",
      "А я - код, срабатывающий после\n"
     ]
    }
   ],
   "source": [
    "my_shiny_new_decorator(stand_alone_function)()"
   ]
  },
  {
   "cell_type": "code",
   "execution_count": 6,
   "metadata": {},
   "outputs": [
    {
     "name": "stdout",
     "output_type": "stream",
     "text": [
      "Я - код, который отработает до вызова функции\n",
      "some code\n",
      "А я - код, срабатывающий после\n"
     ]
    }
   ],
   "source": [
    "@my_shiny_new_decorator\n",
    "def another_code():\n",
    "    print(\"some code\")\n",
    "    \n",
    "another_code()"
   ]
  },
  {
   "cell_type": "markdown",
   "metadata": {},
   "source": [
    "# Cache Кэширование "
   ]
  },
  {
   "cell_type": "code",
   "execution_count": 7,
   "metadata": {},
   "outputs": [
    {
     "name": "stdout",
     "output_type": "stream",
     "text": [
      "calling fibonacci(1)\n",
      "calling fibonacci(2)\n",
      "calling fibonacci(0)\n",
      "calling fibonacci(3)\n",
      "calling fibonacci(4)\n",
      "calling fibonacci(5)\n",
      "calling fibonacci(6)\n",
      "calling fibonacci(7)\n",
      "calling fibonacci(8)\n",
      "[1, 1, 2, 3, 5, 8, 13, 21]\n"
     ]
    }
   ],
   "source": [
    "def cache(function):\n",
    "    cached_values = {}  # Cодержит уже посчитанные числа\n",
    "    def wrapping_function(*args):\n",
    "        if args not in cached_values:\n",
    "            # Вызывает функцию только если мы еще не сделали этого для этих параметров\n",
    "\n",
    "            cached_values[args] = function(*args)\n",
    "        return cached_values[args]\n",
    "    return wrapping_function\n",
    "\n",
    "@cache\n",
    "def fibonacci(n):\n",
    "    print('calling fibonacci(%d)' % n)\n",
    "    if n < 2:\n",
    "        return n\n",
    "    return fibonacci(n-1) + fibonacci(n-2)\n",
    "\n",
    "print([fibonacci(n) for n in range(1, 9)])"
   ]
  },
  {
   "cell_type": "code",
   "execution_count": 9,
   "metadata": {},
   "outputs": [
    {
     "name": "stdout",
     "output_type": "stream",
     "text": [
      "calling fibonacci(1)\n",
      "calling fibonacci(2)\n",
      "calling fibonacci(0)\n",
      "calling fibonacci(3)\n",
      "calling fibonacci(4)\n",
      "calling fibonacci(5)\n",
      "calling fibonacci(6)\n",
      "calling fibonacci(7)\n",
      "calling fibonacci(8)\n",
      "[1, 1, 2, 3, 5, 8, 13, 21]\n"
     ]
    }
   ],
   "source": [
    "from functools import lru_cache\n",
    "\n",
    "@lru_cache(maxsize=None)\n",
    "def fibonacci(n):\n",
    "    print('calling fibonacci(%d)' % n)\n",
    "    if n < 2:\n",
    "        return n\n",
    "    return fibonacci(n-1) + fibonacci(n-2)\n",
    "\n",
    "print([fibonacci(n) for n in range(1, 9)])"
   ]
  },
  {
   "cell_type": "code",
   "execution_count": null,
   "metadata": {},
   "outputs": [],
   "source": []
  },
  {
   "cell_type": "code",
   "execution_count": 13,
   "metadata": {},
   "outputs": [
    {
     "name": "stdout",
     "output_type": "stream",
     "text": [
      "Hello, World!\n",
      "\u001b[31mNow in color!\n",
      "\u001b[0mSo cool.\n"
     ]
    }
   ],
   "source": [
    "\n",
    "from contextlib import contextmanager\n",
    " \n",
    " \n",
    "@contextmanager\n",
    "def colored_output(color):\n",
    "    print(\"\\033[%sm\" % color, end=\"\")\n",
    "    yield\n",
    "    print(\"\\033[0m\", end=\"\")\n",
    " \n",
    " \n",
    "print(\"Hello, World!\")\n",
    "with colored_output(31):\n",
    "    print(\"Now in color!\")\n",
    "print(\"So cool.\")"
   ]
  },
  {
   "cell_type": "code",
   "execution_count": null,
   "metadata": {},
   "outputs": [],
   "source": []
  },
  {
   "cell_type": "code",
   "execution_count": null,
   "metadata": {},
   "outputs": [],
   "source": []
  },
  {
   "cell_type": "code",
   "execution_count": null,
   "metadata": {},
   "outputs": [],
   "source": []
  }
 ],
 "metadata": {
  "kernelspec": {
   "display_name": "Python 3",
   "language": "python",
   "name": "python3"
  },
  "language_info": {
   "codemirror_mode": {
    "name": "ipython",
    "version": 3
   },
   "file_extension": ".py",
   "mimetype": "text/x-python",
   "name": "python",
   "nbconvert_exporter": "python",
   "pygments_lexer": "ipython3",
   "version": "3.6.4"
  }
 },
 "nbformat": 4,
 "nbformat_minor": 2
}
