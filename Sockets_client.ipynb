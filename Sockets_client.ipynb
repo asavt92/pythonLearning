{
 "cells": [
  {
   "cell_type": "markdown",
   "metadata": {},
   "source": [
    "## SOCKETS CLIENT"
   ]
  },
  {
   "cell_type": "code",
   "execution_count": 1,
   "metadata": {},
   "outputs": [
    {
     "name": "stdout",
     "output_type": "stream",
     "text": [
      "Starting client  2018-04-17 23:31:47.618620\n",
      "2018-04-17 23:31:47.625468 ('127.0.0.1', 9988) b'Hi from serve'\n"
     ]
    }
   ],
   "source": [
    "import socket\n",
    "from datetime import datetime\n",
    "\n",
    "server_adr = (\"localhost\",9988)\n",
    "max_size = 5000\n",
    "print('Starting client ', datetime.now())\n",
    "client = socket.socket(socket.AF_INET,socket.SOCK_DGRAM)\n",
    "client.sendto(b\"Hi\",server_adr)\n",
    "data, server = client.recvfrom(max_size)\n",
    "print(datetime.now(), server, data)\n",
    "client.close()"
   ]
  },
  {
   "cell_type": "code",
   "execution_count": 4,
   "metadata": {},
   "outputs": [],
   "source": [
    "client.close()"
   ]
  },
  {
   "cell_type": "markdown",
   "metadata": {},
   "source": [
    "# RPC "
   ]
  },
  {
   "cell_type": "code",
   "execution_count": 2,
   "metadata": {},
   "outputs": [
    {
     "name": "stdout",
     "output_type": "stream",
     "text": [
      "9\n"
     ]
    }
   ],
   "source": [
    "import xmlrpc.client\n",
    "proxy = xmlrpc.client.ServerProxy(\"http://localhost:7777/\")\n",
    "a =3 \n",
    "print(proxy.finc(a))"
   ]
  },
  {
   "cell_type": "code",
   "execution_count": null,
   "metadata": {},
   "outputs": [],
   "source": []
  },
  {
   "cell_type": "code",
   "execution_count": null,
   "metadata": {},
   "outputs": [],
   "source": []
  },
  {
   "cell_type": "code",
   "execution_count": null,
   "metadata": {},
   "outputs": [],
   "source": []
  }
 ],
 "metadata": {
  "kernelspec": {
   "display_name": "Python 3",
   "language": "python",
   "name": "python3"
  },
  "language_info": {
   "codemirror_mode": {
    "name": "ipython",
    "version": 3
   },
   "file_extension": ".py",
   "mimetype": "text/x-python",
   "name": "python",
   "nbconvert_exporter": "python",
   "pygments_lexer": "ipython3",
   "version": "3.6.4"
  }
 },
 "nbformat": 4,
 "nbformat_minor": 2
}
