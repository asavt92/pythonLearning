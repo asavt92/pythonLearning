{
 "cells": [
  {
   "cell_type": "markdown",
   "metadata": {},
   "source": [
    "## Любанович "
   ]
  },
  {
   "cell_type": "markdown",
   "metadata": {},
   "source": [
    "# Юникод"
   ]
  },
  {
   "cell_type": "code",
   "execution_count": 18,
   "metadata": {},
   "outputs": [
    {
     "name": "stdout",
     "output_type": "stream",
     "text": [
      "SNOWMAN ☃\n"
     ]
    }
   ],
   "source": [
    "import unicodedata\n",
    "name = unicodedata.name(\"\\u2603\")\n",
    "value = unicodedata.lookup(name)\n",
    "print(name,value)"
   ]
  },
  {
   "cell_type": "code",
   "execution_count": 23,
   "metadata": {},
   "outputs": [
    {
     "data": {
      "text/plain": [
       "b'\\xe2\\x98\\x83'"
      ]
     },
     "execution_count": 23,
     "metadata": {},
     "output_type": "execute_result"
    }
   ],
   "source": [
    "\"\\u2603\".encode(\"utf-8\")\n",
    "#\"a\".encode(\"utf-8\")"
   ]
  },
  {
   "cell_type": "code",
   "execution_count": 28,
   "metadata": {},
   "outputs": [
    {
     "data": {
      "text/plain": [
       "b'\\x12'"
      ]
     },
     "execution_count": 28,
     "metadata": {},
     "output_type": "execute_result"
    }
   ],
   "source": [
    "\"\\u0012\".encode(\"ascii\",\"ignore\")"
   ]
  },
  {
   "cell_type": "markdown",
   "metadata": {},
   "source": [
    "## WEB SERVER\n",
    "!pip install bottle"
   ]
  },
  {
   "cell_type": "code",
   "execution_count": null,
   "metadata": {},
   "outputs": [
    {
     "name": "stderr",
     "output_type": "stream",
     "text": [
      "Bottle v0.12.13 server starting up (using WSGIRefServer())...\n",
      "Listening on http://localhost:9999/\n",
      "Hit Ctrl-C to quit.\n",
      "\n",
      "127.0.0.1 - - [15/Apr/2018 20:19:18] \"GET / HTTP/1.1\" 304 0\n",
      "127.0.0.1 - - [15/Apr/2018 20:19:28] \"GET /echo/ggggggggggggggtttttttttttaaaaaaa HTTP/1.1\" 200 37\n"
     ]
    }
   ],
   "source": [
    "from bottle import route,run,static_file\n",
    "@route(\"/\")\n",
    "def home():\n",
    "    return(static_file(\"index.html\", root=\".\"))\n",
    "@route(\"/echo/<thing>\")\n",
    "def echo(thing):\n",
    "    return(\"Echo {}\".format(thing))\n",
    "run(host = \"localhost\",port=9999)"
   ]
  },
  {
   "cell_type": "code",
   "execution_count": null,
   "metadata": {},
   "outputs": [
    {
     "name": "stderr",
     "output_type": "stream",
     "text": [
      "Bottle v0.12.13 server starting up (using WSGIRefServer())...\n",
      "Listening on http://localhost:9999/\n",
      "Hit Ctrl-C to quit.\n",
      "\n",
      "127.0.0.1 - - [15/Apr/2018 21:00:32] \"GET / HTTP/1.1\" 304 0\n",
      "127.0.0.1 - - [15/Apr/2018 21:00:39] \"GET /echo/ggggggggggggggtttttttttttaaaaaaa HTTP/1.1\" 404 794\n"
     ]
    }
   ],
   "source": [
    "from bottle import route,run,static_file\n",
    "@route(\"/\")\n",
    "def home():\n",
    "    return(static_file(\"index.html\", root=\".\"))\n",
    "@route(\"/echo/\")\n",
    "def echo():\n",
    "    kwargs={}\n",
    "    kwargs[\"thing\"]=requests.args.get(\"thing\")\n",
    "    thing = kwargs[\"thing\"]\n",
    "    return(\"Echo {}\".format(thing))\n",
    "run(host = \"localhost\",port=9999)"
   ]
  },
  {
   "cell_type": "markdown",
   "metadata": {},
   "source": [
    "#!pip install flask\n",
    "!pip install jinja2"
   ]
  },
  {
   "cell_type": "code",
   "execution_count": 11,
   "metadata": {},
   "outputs": [
    {
     "name": "stderr",
     "output_type": "stream",
     "text": [
      " * Restarting with stat\n"
     ]
    },
    {
     "ename": "SystemExit",
     "evalue": "1",
     "output_type": "error",
     "traceback": [
      "An exception has occurred, use %tb to see the full traceback.\n",
      "\u001b[1;31mSystemExit\u001b[0m\u001b[1;31m:\u001b[0m 1\n"
     ]
    },
    {
     "name": "stderr",
     "output_type": "stream",
     "text": [
      "C:\\Users\\Alex\\Anaconda3\\lib\\site-packages\\IPython\\core\\interactiveshell.py:2918: UserWarning: To exit: use 'exit', 'quit', or Ctrl-D.\n",
      "  warn(\"To exit: use 'exit', 'quit', or Ctrl-D.\", stacklevel=1)\n"
     ]
    }
   ],
   "source": [
    "from flask import Flask, render_template\n",
    "app = Flask(__name__)\n",
    "@app.route(\"/\")\n",
    "def home():\n",
    "    return(app.send_static_file(\"index.html\"))\n",
    "#@app.route(\"/echo/<thing>\")\n",
    "#def echo(thing):\n",
    " #   return(render_template(\"/web/templates/flask.html\",thing=thing))\n",
    "app.run(port=9999,debug=True)"
   ]
  },
  {
   "cell_type": "code",
   "execution_count": 13,
   "metadata": {},
   "outputs": [
    {
     "data": {
      "text/plain": [
       "True"
      ]
     },
     "execution_count": 13,
     "metadata": {},
     "output_type": "execute_result"
    }
   ],
   "source": [
    "import webbrowser\n",
    "url = \"http://www.python.org\"\n",
    "webbrowser.open_new(url)"
   ]
  },
  {
   "cell_type": "code",
   "execution_count": 15,
   "metadata": {},
   "outputs": [
    {
     "name": "stdout",
     "output_type": "stream",
     "text": [
      "Requirement already satisfied: beautifulsoup4 in c:\\users\\alex\\anaconda3\\lib\\site-packages\n"
     ]
    }
   ],
   "source": [
    "!pip install beautifulsoup4"
   ]
  },
  {
   "cell_type": "code",
   "execution_count": 16,
   "metadata": {},
   "outputs": [
    {
     "name": "stderr",
     "output_type": "stream",
     "text": [
      "C:\\Users\\Alex\\Anaconda3\\lib\\site-packages\\bs4\\__init__.py:181: UserWarning: No parser was explicitly specified, so I'm using the best available HTML parser for this system (\"lxml\"). This usually isn't a problem, but if you run this code on another system, or in a different virtual environment, it may use a different parser and behave differently.\n",
      "\n",
      "The code that caused this warning is on line 193 of the file C:\\Users\\Alex\\Anaconda3\\lib\\runpy.py. To get rid of this warning, change code that looks like this:\n",
      "\n",
      " BeautifulSoup(YOUR_MARKUP})\n",
      "\n",
      "to this:\n",
      "\n",
      " BeautifulSoup(YOUR_MARKUP, \"lxml\")\n",
      "\n",
      "  markup_type=markup_type))\n"
     ]
    },
    {
     "data": {
      "text/plain": [
       "['#content',\n",
       " '#python-network',\n",
       " '/',\n",
       " '/psf-landing/',\n",
       " 'https://docs.python.org',\n",
       " 'https://pypi.python.org/',\n",
       " '/jobs/',\n",
       " '/community/',\n",
       " '#top',\n",
       " '/',\n",
       " '#site-map',\n",
       " '#',\n",
       " 'javascript:;',\n",
       " 'javascript:;',\n",
       " 'javascript:;',\n",
       " '#',\n",
       " 'http://plus.google.com/+Python',\n",
       " 'http://www.facebook.com/pythonlang?fref=ts',\n",
       " 'http://twitter.com/ThePSF',\n",
       " '/community/irc/',\n",
       " '/accounts/login/',\n",
       " '/accounts/signup/',\n",
       " '/accounts/login/',\n",
       " '/about/',\n",
       " '/about/apps/',\n",
       " '/about/quotes/',\n",
       " '/about/gettingstarted/',\n",
       " '/about/help/',\n",
       " 'http://brochure.getpython.info/',\n",
       " '/downloads/',\n",
       " '/downloads/',\n",
       " '/downloads/source/',\n",
       " '/downloads/windows/',\n",
       " '/downloads/mac-osx/',\n",
       " '/download/other/',\n",
       " 'https://docs.python.org/3/license.html',\n",
       " '/download/alternatives',\n",
       " '/doc/',\n",
       " '/doc/',\n",
       " '/doc/av',\n",
       " 'https://wiki.python.org/moin/BeginnersGuide',\n",
       " 'https://devguide.python.org/',\n",
       " 'https://docs.python.org/faq/',\n",
       " 'http://wiki.python.org/moin/Languages',\n",
       " 'http://python.org/dev/peps/',\n",
       " 'https://wiki.python.org/moin/PythonBooks',\n",
       " '/doc/essays/',\n",
       " '/community/',\n",
       " '/community/diversity/',\n",
       " '/community/lists/',\n",
       " '/community/irc/',\n",
       " '/community/forums/',\n",
       " '/community/workshops/',\n",
       " '/community/sigs/',\n",
       " 'https://wiki.python.org/moin/',\n",
       " '/community/logos/',\n",
       " '/community/merchandise/',\n",
       " '/community/awards',\n",
       " 'https://www.python.org/psf/codeofconduct/',\n",
       " '/about/success/',\n",
       " '/about/success/#arts',\n",
       " '/about/success/#business',\n",
       " '/about/success/#education',\n",
       " '/about/success/#engineering',\n",
       " '/about/success/#government',\n",
       " '/about/success/#scientific',\n",
       " '/about/success/#software-development',\n",
       " '/blogs/',\n",
       " '/blogs/',\n",
       " 'http://planetpython.org/',\n",
       " 'http://pyfound.blogspot.com/',\n",
       " 'http://pycon.blogspot.com/',\n",
       " '/events/',\n",
       " '/events/python-events',\n",
       " '/events/python-user-group/',\n",
       " '/events/python-events/past/',\n",
       " '/events/python-user-group/past/',\n",
       " 'https://wiki.python.org/moin/PythonEventsCalendar#Submitting_an_Event',\n",
       " '/shell/',\n",
       " '//docs.python.org/3/tutorial/controlflow.html#defining-functions',\n",
       " '//docs.python.org/3/tutorial/introduction.html#lists',\n",
       " 'http://docs.python.org/3/tutorial/introduction.html#using-python-as-a-calculator',\n",
       " '//docs.python.org/3/tutorial/',\n",
       " '//docs.python.org/3/tutorial/controlflow.html',\n",
       " '/doc/',\n",
       " 'https://www.jetbrains.com/research/python-developers-survey-2017/',\n",
       " '/about/gettingstarted/',\n",
       " 'https://wiki.python.org/moin/Python2orPython3',\n",
       " '/downloads/release/python-365/',\n",
       " '/downloads/release/python-2714/',\n",
       " 'https://docs.python.org',\n",
       " '//jobs.python.org',\n",
       " 'http://blog.python.org',\n",
       " 'http://feedproxy.google.com/~r/PythonInsider/~3/MFwLlNq1pcw/python-2715-release-candidate-1-is-now.html',\n",
       " 'http://feedproxy.google.com/~r/PythonInsider/~3/XI1GsD8Xqpk/pip-10-has-been-released.html',\n",
       " 'http://feedproxy.google.com/~r/PythonInsider/~3/KbidVz_mYtE/beta-release-of-pip-version-10.html',\n",
       " 'http://feedproxy.google.com/~r/PythonInsider/~3/fX3AcI8XKGM/python-370b3-is-now-available-for.html',\n",
       " 'http://feedproxy.google.com/~r/PythonInsider/~3/IYL2xdpdWMY/python-365-is-now-available.html',\n",
       " '/events/calendars/',\n",
       " '/events/python-user-group/697/',\n",
       " '/events/python-events/585/',\n",
       " '/events/python-user-group/692/',\n",
       " '/events/python-events/693/',\n",
       " '/events/python-events/690/',\n",
       " '/success-stories/',\n",
       " '/success-stories/industrial-light-magic-runs-python/',\n",
       " '/success-stories/industrial-light-magic-runs-python/',\n",
       " '/about/apps',\n",
       " 'http://www.djangoproject.com/',\n",
       " 'http://www.pylonsproject.org/',\n",
       " 'http://bottlepy.org',\n",
       " 'http://tornadoweb.org',\n",
       " 'http://flask.pocoo.org/',\n",
       " 'http://www.web2py.com/',\n",
       " 'http://wiki.python.org/moin/TkInter',\n",
       " 'https://wiki.gnome.org/Projects/PyGObject',\n",
       " 'http://www.riverbankcomputing.co.uk/software/pyqt/intro',\n",
       " 'https://wiki.qt.io/PySide',\n",
       " 'https://kivy.org/',\n",
       " 'http://www.wxpython.org/',\n",
       " 'http://www.scipy.org',\n",
       " 'http://pandas.pydata.org/',\n",
       " 'http://ipython.org',\n",
       " 'http://buildbot.net/',\n",
       " 'http://trac.edgewall.org/',\n",
       " 'http://roundup.sourceforge.net/',\n",
       " 'http://www.ansible.com',\n",
       " 'http://www.saltstack.com',\n",
       " 'https://www.openstack.org',\n",
       " '/dev/peps/',\n",
       " '/dev/peps/peps.rss',\n",
       " '/psf/',\n",
       " '/psf/',\n",
       " '/users/membership/',\n",
       " '/psf/donations/',\n",
       " '#python-network',\n",
       " '/about/',\n",
       " '/about/apps/',\n",
       " '/about/quotes/',\n",
       " '/about/gettingstarted/',\n",
       " '/about/help/',\n",
       " 'http://brochure.getpython.info/',\n",
       " '/downloads/',\n",
       " '/downloads/',\n",
       " '/downloads/source/',\n",
       " '/downloads/windows/',\n",
       " '/downloads/mac-osx/',\n",
       " '/download/other/',\n",
       " 'https://docs.python.org/3/license.html',\n",
       " '/download/alternatives',\n",
       " '/doc/',\n",
       " '/doc/',\n",
       " '/doc/av',\n",
       " 'https://wiki.python.org/moin/BeginnersGuide',\n",
       " 'https://devguide.python.org/',\n",
       " 'https://docs.python.org/faq/',\n",
       " 'http://wiki.python.org/moin/Languages',\n",
       " 'http://python.org/dev/peps/',\n",
       " 'https://wiki.python.org/moin/PythonBooks',\n",
       " '/doc/essays/',\n",
       " '/community/',\n",
       " '/community/diversity/',\n",
       " '/community/lists/',\n",
       " '/community/irc/',\n",
       " '/community/forums/',\n",
       " '/community/workshops/',\n",
       " '/community/sigs/',\n",
       " 'https://wiki.python.org/moin/',\n",
       " '/community/logos/',\n",
       " '/community/merchandise/',\n",
       " '/community/awards',\n",
       " 'https://www.python.org/psf/codeofconduct/',\n",
       " '/about/success/',\n",
       " '/about/success/#arts',\n",
       " '/about/success/#business',\n",
       " '/about/success/#education',\n",
       " '/about/success/#engineering',\n",
       " '/about/success/#government',\n",
       " '/about/success/#scientific',\n",
       " '/about/success/#software-development',\n",
       " '/blogs/',\n",
       " '/blogs/',\n",
       " 'http://planetpython.org/',\n",
       " 'http://pyfound.blogspot.com/',\n",
       " 'http://pycon.blogspot.com/',\n",
       " '/events/',\n",
       " '/events/python-events',\n",
       " '/events/python-user-group/',\n",
       " '/events/python-events/past/',\n",
       " '/events/python-user-group/past/',\n",
       " 'https://wiki.python.org/moin/PythonEventsCalendar#Submitting_an_Event',\n",
       " '/dev/',\n",
       " 'https://devguide.python.org/',\n",
       " 'https://bugs.python.org/',\n",
       " 'https://mail.python.org/mailman/listinfo/python-dev',\n",
       " '/dev/core-mentorship/',\n",
       " '#python-network',\n",
       " '/about/help/',\n",
       " '/community/diversity/',\n",
       " 'https://github.com/python/pythondotorg/issues',\n",
       " 'https://status.python.org/',\n",
       " '/psf-landing/',\n",
       " '/about/legal/',\n",
       " '/privacy/',\n",
       " '/psf/sponsorship/sponsors/']"
      ]
     },
     "execution_count": 16,
     "metadata": {},
     "output_type": "execute_result"
    }
   ],
   "source": [
    "def get_links(url):\n",
    "    import requests\n",
    "    from bs4 import BeautifulSoup as soup\n",
    "    result = requests.get(url)\n",
    "    doc = soup(result.text)\n",
    "    links = [element.get('href') for element in doc.find_all('a')]\n",
    "    return(links)\n",
    "\n",
    "url = \"http://www.python.org\"\n",
    "get_links(url)"
   ]
  },
  {
   "cell_type": "code",
   "execution_count": null,
   "metadata": {},
   "outputs": [],
   "source": []
  }
 ],
 "metadata": {
  "kernelspec": {
   "display_name": "Python 3",
   "language": "python",
   "name": "python3"
  },
  "language_info": {
   "codemirror_mode": {
    "name": "ipython",
    "version": 3
   },
   "file_extension": ".py",
   "mimetype": "text/x-python",
   "name": "python",
   "nbconvert_exporter": "python",
   "pygments_lexer": "ipython3",
   "version": "3.6.4"
  }
 },
 "nbformat": 4,
 "nbformat_minor": 2
}
