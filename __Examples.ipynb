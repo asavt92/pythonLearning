{
 "cells": [
  {
   "cell_type": "code",
   "execution_count": 12,
   "metadata": {},
   "outputs": [
    {
     "data": {
      "text/plain": [
       "environ({'ALLUSERSPROFILE': 'C:\\\\ProgramData', 'APPDATA': 'C:\\\\Users\\\\Alex\\\\AppData\\\\Roaming', 'COMMONPROGRAMFILES': 'C:\\\\Program Files\\\\Common Files', 'COMMONPROGRAMFILES(X86)': 'C:\\\\Program Files (x86)\\\\Common Files', 'COMMONPROGRAMW6432': 'C:\\\\Program Files\\\\Common Files', 'COMPUTERNAME': 'DESKTOP-UEUN33K', 'COMSPEC': 'C:\\\\Windows\\\\system32\\\\cmd.exe', 'CONDA_ROOT': 'C:\\\\Users\\\\Alex\\\\Anaconda3', 'HOMEDRIVE': 'C:', 'HOMEPATH': '\\\\Users\\\\Alex', 'JAVA_HOME': 'C:\\\\Program Files\\\\Java\\\\jdk1.8.0_151', 'LOCALAPPDATA': 'C:\\\\Users\\\\Alex\\\\AppData\\\\Local', 'LOGONSERVER': '\\\\\\\\DESKTOP-UEUN33K', 'MAVEN_HOME': 'C:\\\\Program Files\\\\maven\\\\apache-maven-3.5.2', 'NUMBER_OF_PROCESSORS': '4', 'ONEDRIVE': 'C:\\\\Users\\\\Alex\\\\OneDrive', 'OS': 'Windows_NT', 'PATH': 'C:\\\\Users\\\\Alex\\\\Anaconda3;C:\\\\Users\\\\Alex\\\\Anaconda3\\\\Library\\\\mingw-w64\\\\bin;C:\\\\Users\\\\Alex\\\\Anaconda3\\\\Library\\\\usr\\\\bin;C:\\\\Users\\\\Alex\\\\Anaconda3\\\\Library\\\\bin;C:\\\\Users\\\\Alex\\\\Anaconda3\\\\Scripts;C:\\\\Users\\\\Alex\\\\Anaconda3\\\\Library\\\\bin;C:\\\\Program Files (x86)\\\\Common Files\\\\Oracle\\\\Java\\\\javapath;C:\\\\ProgramData\\\\Oracle\\\\Java\\\\javapath;C:\\\\Windows\\\\system32;C:\\\\Windows;C:\\\\Windows\\\\System32\\\\Wbem;C:\\\\Windows\\\\System32\\\\WindowsPowerShell\\\\v1.0\\\\;C:\\\\Users\\\\Alex\\\\AppData\\\\Local\\\\Programs\\\\Python\\\\Python36-32\\\\;C:\\\\Users\\\\Alex\\\\AppData\\\\Local\\\\Programs\\\\Python\\\\Python36-32\\\\Scripts\\\\;C:\\\\Program Files\\\\Java\\\\jdk1.8.0_151\\\\bin;C:\\\\Program Files\\\\maven\\\\apache-maven-3.5.2\\\\bin;C:\\\\Program Files\\\\Git\\\\cmd;C:\\\\Program Files (x86)\\\\Graphviz2.38\\\\bin;C:\\\\ProgramData\\\\Anaconda3\\\\Lib\\\\site-packages\\\\pip;C:\\\\Program Files\\\\PuTTY\\\\;C:\\\\Users\\\\Alex\\\\AppData\\\\Local\\\\Programs\\\\Python\\\\Python36-32\\\\Scripts\\\\;C:\\\\Users\\\\Alex\\\\AppData\\\\Local\\\\Programs\\\\Python\\\\Python36-32\\\\;C:\\\\Users\\\\Alex\\\\AppData\\\\Local\\\\Microsoft\\\\WindowsApps;C:\\\\Users\\\\Alex\\\\AppData\\\\Local\\\\GitHubDesktop\\\\bin;C:\\\\Program Files\\\\Java\\\\jdk1.8.0_151\\\\bin;;C:\\\\Program Files\\\\Microsoft VS Code\\\\bin', 'PATHEXT': '.COM;.EXE;.BAT;.CMD;.VBS;.VBE;.JS;.JSE;.WSF;.WSH;.MSC', 'PROCESSOR_ARCHITECTURE': 'AMD64', 'PROCESSOR_IDENTIFIER': 'Intel64 Family 6 Model 142 Stepping 9, GenuineIntel', 'PROCESSOR_LEVEL': '6', 'PROCESSOR_REVISION': '8e09', 'PROGRAMDATA': 'C:\\\\ProgramData', 'PROGRAMFILES': 'C:\\\\Program Files', 'PROGRAMFILES(X86)': 'C:\\\\Program Files (x86)', 'PROGRAMW6432': 'C:\\\\Program Files', 'PROMPT': '$P$G', 'PSMODULEPATH': 'C:\\\\Program Files\\\\WindowsPowerShell\\\\Modules;C:\\\\Windows\\\\system32\\\\WindowsPowerShell\\\\v1.0\\\\Modules', 'PUBLIC': 'C:\\\\Users\\\\Public', 'SESSIONNAME': 'Console', 'SYSTEMDRIVE': 'C:', 'SYSTEMROOT': 'C:\\\\Windows', 'TEMP': 'C:\\\\Users\\\\Alex\\\\AppData\\\\Local\\\\Temp', 'TMP': 'C:\\\\Users\\\\Alex\\\\AppData\\\\Local\\\\Temp', 'USERDOMAIN': 'DESKTOP-UEUN33K', 'USERDOMAIN_ROAMINGPROFILE': 'DESKTOP-UEUN33K', 'USERNAME': 'Alex', 'USERPROFILE': 'C:\\\\Users\\\\Alex', 'VBOX_MSI_INSTALL_PATH': 'C:\\\\Program Files\\\\Oracle\\\\VirtualBox\\\\', 'WINDIR': 'C:\\\\Windows', 'CONDA_PREFIX': 'C:\\\\Users\\\\Alex\\\\Anaconda3', 'JPY_INTERRUPT_EVENT': '1320', 'IPY_INTERRUPT_EVENT': '1320', 'JPY_PARENT_PID': '2596', 'TERM': 'xterm-color', 'CLICOLOR': '1', 'PAGER': 'cat', 'GIT_PAGER': 'cat', 'MPLBACKEND': 'module://ipykernel.pylab.backend_inline'})"
      ]
     },
     "execution_count": 12,
     "metadata": {},
     "output_type": "execute_result"
    }
   ],
   "source": [
    "import os\n",
    "from pprint import pprint\n",
    "os.environ"
   ]
  },
  {
   "cell_type": "code",
   "execution_count": 37,
   "metadata": {},
   "outputs": [
    {
     "name": "stdout",
     "output_type": "stream",
     "text": [
      "    #\n",
      "   ##\n",
      "  ###\n",
      " ####\n",
      "#####\n"
     ]
    }
   ],
   "source": [
    "n = 5\n",
    "\n",
    "for i in range(1,n+1):\n",
    "    s = \"#\"*i\n",
    "    print(\"{0:>{1}}\".format(s,n))"
   ]
  },
  {
   "cell_type": "code",
   "execution_count": 42,
   "metadata": {},
   "outputs": [
    {
     "data": {
      "text/plain": [
       "b't\\x00|\\x01|\\x02|\\x03|\\x04|\\x05d\\x01\\x8d\\x05}\\x06|\\x06j\\x01|\\x00\\x83\\x01\\x01\\x00d\\x02S\\x00'"
      ]
     },
     "execution_count": 42,
     "metadata": {},
     "output_type": "execute_result"
    }
   ],
   "source": [
    "#это байткод\n",
    "pprint.__code__.co_code"
   ]
  },
  {
   "cell_type": "code",
   "execution_count": 57,
   "metadata": {},
   "outputs": [
    {
     "name": "stdout",
     "output_type": "stream",
     "text": [
      "3\n",
      "2\n"
     ]
    },
    {
     "data": {
      "text/plain": [
       "6"
      ]
     },
     "execution_count": 57,
     "metadata": {},
     "output_type": "execute_result"
    }
   ],
   "source": [
    "def recur(x):\n",
    "    if(x==0):\n",
    "        return(0)\n",
    "    else:\n",
    "        return x + recur(x-1)\n",
    "\n",
    "def factor(x):\n",
    "    if(x==1):\n",
    "        return(1)\n",
    "    else:\n",
    "        print(x)\n",
    "        return x * factor(x-1)\n"
   ]
  },
  {
   "cell_type": "code",
   "execution_count": null,
   "metadata": {},
   "outputs": [],
   "source": []
  }
 ],
 "metadata": {
  "kernelspec": {
   "display_name": "Python 3",
   "language": "python",
   "name": "python3"
  },
  "language_info": {
   "codemirror_mode": {
    "name": "ipython",
    "version": 3
   },
   "file_extension": ".py",
   "mimetype": "text/x-python",
   "name": "python",
   "nbconvert_exporter": "python",
   "pygments_lexer": "ipython3",
   "version": "3.6.4"
  }
 },
 "nbformat": 4,
 "nbformat_minor": 2
}
