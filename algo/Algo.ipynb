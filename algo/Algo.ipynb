{
 "cells": [
  {
   "cell_type": "code",
   "execution_count": 37,
   "metadata": {},
   "outputs": [
    {
     "data": {
      "text/plain": [
       "29"
      ]
     },
     "execution_count": 37,
     "metadata": {},
     "output_type": "execute_result"
    }
   ],
   "source": [
    "def binary_search(nums,num,start,stop):\n",
    "    if (start >= stop):\n",
    "        print(\"Ничего не найдено\")\n",
    "        return(-1)\n",
    "    mid = (stop + start)//2\n",
    "    if(num < nums[mid]):\n",
    "        return binary_search(nums,num,start,mid-1)\n",
    "    elif(num > nums[mid]):\n",
    "        return binary_search(nums,num,mid+1,stop)\n",
    "    elif(num == nums[mid]):\n",
    "        return mid\n",
    "\n",
    "# Тест1\n",
    "nums = [-i for i in range(33,0,-1)]\n",
    "num = -4\n",
    "\n",
    "# Тест2\n",
    "nums = [i for i in range(33)]\n",
    "num = 4\n",
    "\n",
    "binary_search(nums,num,0,len(nums))"
   ]
  },
  {
   "cell_type": "code",
   "execution_count": 52,
   "metadata": {},
   "outputs": [
    {
     "data": {
      "text/plain": [
       "[1, 3, 7, 10, 17, 22, 27, 29, 29, 35]"
      ]
     },
     "execution_count": 52,
     "metadata": {},
     "output_type": "execute_result"
    }
   ],
   "source": [
    "import random\n",
    "\n",
    "def buble_sort(nums):\n",
    "    end = len(nums)-1\n",
    "    for i in range(0,end):\n",
    "        for j in range(0,end-i):\n",
    "            if(nums[j]>nums[j+1]):\n",
    "                nums[j],nums[j+1] = nums[j+1],nums[j]\n",
    "    return nums\n",
    "\n",
    "#test\n",
    "nums = [random.randint(0,35) for _ in range(1,11)]\n",
    "buble_sort(nums)\n",
    "nums"
   ]
  },
  {
   "cell_type": "markdown",
   "metadata": {},
   "source": [
    "# копирование массива"
   ]
  },
  {
   "cell_type": "code",
   "execution_count": 58,
   "metadata": {},
   "outputs": [
    {
     "data": {
      "text/plain": [
       "True"
      ]
     },
     "execution_count": 58,
     "metadata": {},
     "output_type": "execute_result"
    }
   ],
   "source": [
    "def copy_mas(A:list):\n",
    "    B = [0]*len(A)\n",
    "    for i in range(len(A)):\n",
    "        B[i]=A[i]\n",
    "    return B\n",
    "\n",
    "def test():\n",
    "    A = [random.randint(0,35) for _ in range(1,11)]\n",
    "    return(A==copy_mas(A))\n",
    "\n",
    "test()"
   ]
  },
  {
   "cell_type": "markdown",
   "metadata": {},
   "source": [
    "# задом-наперед"
   ]
  },
  {
   "cell_type": "code",
   "execution_count": 75,
   "metadata": {},
   "outputs": [
    {
     "data": {
      "text/plain": [
       "True"
      ]
     },
     "execution_count": 75,
     "metadata": {},
     "output_type": "execute_result"
    }
   ],
   "source": [
    "import unittest\n",
    "\n",
    "def naoborot(A:list):\n",
    "    for i in range(len(A)//2):\n",
    "        A[i],A[len(A)-1-i]=A[len(A)-1-i],A[i]\n",
    "    return A\n",
    "\n",
    "def test():\n",
    "    A = [random.randint(0,35) for _ in range(1,11)]\n",
    "    return(A[::-1]==naoborot(A))\n",
    "\n",
    "class Naoborotest(unittest.TestCase):\n",
    "    def test_0(self):\n",
    "        A = [random.randint(0,35) for _ in range(1,11)]\n",
    "        return(self.assertEqual(A[::-1],naoborot(A)))\n",
    "\n",
    "n = Naoborotest()\n",
    "n.test_0()"
   ]
  },
  {
   "cell_type": "markdown",
   "metadata": {},
   "source": [
    "# Циклические сдвиги"
   ]
  },
  {
   "cell_type": "code",
   "execution_count": 94,
   "metadata": {},
   "outputs": [],
   "source": [
    "def sdvig(A:list,step:int):\n",
    "    \"\"\"Циклический сдвиг вправо\"\"\"\n",
    "    for _ in range(step):\n",
    "        tmp = A[-1]\n",
    "        for i in range(len(A)-2,-1,-1):\n",
    "            A[i+1] = A[i]\n",
    "        A[0] = tmp\n",
    "    return A\n",
    "\n",
    "def shift(lst,steps): \n",
    "    \"\"\" Циклический кольцевой сдвиг списка до минимума\"\"\"\n",
    "    lst = lst[-steps:] + lst[:-steps]\n",
    "    return lst\n",
    "\n",
    "class Test(unittest.TestCase):\n",
    "    def test_0(self):\n",
    "        A = [random.randint(0,35) for _ in range(1,11)]\n",
    "        return(self.assertEqual(shift(A,1),sdvig(A,1)))\n",
    "\n",
    "n = Test()\n",
    "n.test_0()"
   ]
  },
  {
   "cell_type": "code",
   "execution_count": 91,
   "metadata": {},
   "outputs": [],
   "source": [
    "def sdvig(A:list,step:int):\n",
    "    \"\"\"Циклический сдвиг влево\"\"\"\n",
    "    for _ in range(step):\n",
    "        tmp = A[0]\n",
    "        for i in range(len(A)-1):\n",
    "            A[i] = A[i+1]\n",
    "        A[-1] = tmp\n",
    "    return A\n",
    "\n",
    "def shift(lst,steps): \n",
    "    \"\"\" Циклический кольцевой сдвиг списка до минимума\"\"\"\n",
    "    lst = lst[steps:] + lst[:steps]\n",
    "    return lst\n",
    "\n",
    "class Test(unittest.TestCase):\n",
    "    def test_0(self):\n",
    "        A = [random.randint(0,35) for _ in range(1,11)]\n",
    "        return(self.assertEqual(shift(A,1),sdvig(A,1)))\n",
    "\n",
    "n = Test()\n",
    "n.test_0()"
   ]
  },
  {
   "cell_type": "markdown",
   "metadata": {},
   "source": [
    "# Решето Эратосфена"
   ]
  },
  {
   "cell_type": "code",
   "execution_count": 110,
   "metadata": {},
   "outputs": [
    {
     "name": "stdout",
     "output_type": "stream",
     "text": [
      "0  -  простое\n",
      "1  -  простое\n",
      "2  -  простое\n",
      "3  -  простое\n",
      "4  -  составное\n",
      "5  -  простое\n",
      "6  -  составное\n",
      "7  -  простое\n",
      "8  -  составное\n",
      "9  -  составное\n"
     ]
    }
   ],
   "source": [
    "def eratos(n:int):\n",
    "    \"\"\"Решето Эратосфена, возвращает массив простых чисел < n\"\"\"\n",
    "    A = [True]*n\n",
    "    p = 2\n",
    "    for p in range(2,n):\n",
    "        if A[p]:\n",
    "            for i in range(2*p, n, p):\n",
    "                A[i]=False\n",
    "    return A\n",
    "\n",
    "#test\n",
    "for i,t in enumerate(eratos(10)):\n",
    "    print(i,\" - \", \"простое\" if t else \"составное\")"
   ]
  },
  {
   "cell_type": "markdown",
   "metadata": {},
   "source": [
    "# Квадратичные сортировки\n",
    "это алгоритмы, которые требуют n^2 операций\n",
    "- вставками (insert sort)\n",
    "- выбора (choise sort)\n",
    "- пузырька (bubble sort)"
   ]
  },
  {
   "cell_type": "code",
   "execution_count": 152,
   "metadata": {},
   "outputs": [],
   "source": [
    "def insert_sort(A:list):\n",
    "    \"\"\"Сортировка вставками\"\"\"\n",
    "    N = len(A)\n",
    "    for top in range(1,N):\n",
    "        k = top\n",
    "        while k > 0 and A[k-1]<A[k]:\n",
    "            A[k-1],A[k] = A[k],A[k-1]\n",
    "            k -= 1\n",
    "    return A\n",
    "            \n",
    "def choise_sort(A:list):\n",
    "    \"\"\"Choise sort\"\"\"\n",
    "    n = len(A)\n",
    "    for i in range(n-1):\n",
    "        m = i\n",
    "        for j in range(i,n):\n",
    "            if A[i]>A[j]:\n",
    "                m = j\n",
    "        A[i],A[m] = A[m],A[i]\n",
    "    return A"
   ]
  },
  {
   "cell_type": "code",
   "execution_count": 155,
   "metadata": {},
   "outputs": [
    {
     "name": "stdout",
     "output_type": "stream",
     "text": [
      "[29, 28, 22, 19, 17, 16, 13, 11, 9, 7]\n",
      "[7, 9, 11, 13, 16, 17, 19, 22, 28, 29]\n"
     ]
    }
   ],
   "source": [
    "A = [random.randint(0,35) for _ in range(1,11)]\n",
    "print(insert_sort(A))\n",
    "print(choise_sort(A))"
   ]
  },
  {
   "cell_type": "markdown",
   "metadata": {},
   "source": [
    "# Сортировка подсчётом\n",
    "О(n)\n",
    "\n",
    "O(M) M - кол-во элементов"
   ]
  },
  {
   "cell_type": "code",
   "execution_count": 151,
   "metadata": {},
   "outputs": [
    {
     "name": "stdout",
     "output_type": "stream",
     "text": [
      "[8, 3, 0, 2, 2, 8, 2, 6, 7, 5]\n"
     ]
    },
    {
     "data": {
      "text/plain": [
       "[1, 0, 3, 1, 0, 1, 1, 1, 2, 0]"
      ]
     },
     "execution_count": 151,
     "metadata": {},
     "output_type": "execute_result"
    }
   ],
   "source": [
    "def count_sort(A:list):\n",
    "    \"\"\"\"\"\"\n",
    "    F = [0]*10\n",
    "    for k in range(len(A)):\n",
    "        F[A[k]]+=1\n",
    "    return F\n",
    "\n",
    "A = [random.randint(0,9) for _ in range(1,11)]\n",
    "print(A)\n",
    "count_sort(A)"
   ]
  },
  {
   "cell_type": "markdown",
   "metadata": {},
   "source": [
    "# ~~~~~Рекурсия~~~~~"
   ]
  },
  {
   "cell_type": "markdown",
   "metadata": {},
   "source": [
    "# Алгоритм Евклида - наибольший общий делитель"
   ]
  },
  {
   "cell_type": "code",
   "execution_count": 159,
   "metadata": {},
   "outputs": [
    {
     "data": {
      "text/plain": [
       "6"
      ]
     },
     "execution_count": 159,
     "metadata": {},
     "output_type": "execute_result"
    }
   ],
   "source": [
    "def gcd(a,b):\n",
    "    return a if b == 0 else gcd(b,a%b)\n",
    "\n",
    "gcd(12,6)"
   ]
  },
  {
   "cell_type": "code",
   "execution_count": 163,
   "metadata": {},
   "outputs": [
    {
     "data": {
      "text/plain": [
       "15625"
      ]
     },
     "execution_count": 163,
     "metadata": {},
     "output_type": "execute_result"
    }
   ],
   "source": [
    "def pow_0(a,n):\n",
    "    if n==0:\n",
    "        return 1\n",
    "    elif n%2==0:\n",
    "        return pow_0(a**2,n//2)\n",
    "    else:\n",
    "        return pow_0(a,n-1)*a\n",
    "pow_0(5,6)"
   ]
  },
  {
   "cell_type": "markdown",
   "metadata": {},
   "source": [
    "# Комбинаторика \n",
    "Генерация перестановок *комбинаций"
   ]
  },
  {
   "cell_type": "code",
   "execution_count": 170,
   "metadata": {},
   "outputs": [
    {
     "name": "stdout",
     "output_type": "stream",
     "text": [
      "000\n",
      "001\n",
      "010\n",
      "011\n",
      "100\n",
      "101\n",
      "110\n",
      "111\n"
     ]
    }
   ],
   "source": [
    "def gen_nums(N,M,prefix=\"\"):\n",
    "    \"\"\"Выводит все возможные числа длиной М знаков\n",
    "       Н-ой системы счисления\n",
    "       работает для Н <= 10\"\"\"\n",
    "    if M == 0:\n",
    "        print(prefix)\n",
    "        return\n",
    "    for i in range(N):\n",
    "        prefix+=str(i)\n",
    "        gen_nums(N,M-1,prefix)\n",
    "        prefix=prefix[:-1]\n",
    "\n",
    "gen_nums(2,3)"
   ]
  },
  {
   "cell_type": "code",
   "execution_count": 186,
   "metadata": {},
   "outputs": [
    {
     "name": "stdout",
     "output_type": "stream",
     "text": [
      "123\n",
      "132\n",
      "213\n",
      "231\n",
      "312\n",
      "321\n"
     ]
    }
   ],
   "source": [
    "def find_0(number,A):\n",
    "    for x in A:\n",
    "        if str(number)==x:\n",
    "            return True\n",
    "    return False\n",
    "\n",
    "def gen_permutations(N,M=-1,prefix=\"\"):\n",
    "    \"\"\"\"\"\"\n",
    "    M = N if M==-1 else M\n",
    "    if M == 0:\n",
    "        print(prefix)\n",
    "        return\n",
    "    for i in range(1,N+1):\n",
    "        if (find_0(i,prefix)):\n",
    "            continue\n",
    "        prefix+=str(i)\n",
    "        gen_permutations(N,M-1,prefix)\n",
    "        prefix=prefix[:-1]\n",
    "\n",
    "gen_permutations(3)"
   ]
  },
  {
   "cell_type": "code",
   "execution_count": 188,
   "metadata": {},
   "outputs": [
    {
     "name": "stdout",
     "output_type": "stream",
     "text": [
      "1 2 4\n",
      "[1, 2, 4]\n"
     ]
    }
   ],
   "source": [
    "print(*[1,2,4])\n",
    "print([1,2,4])"
   ]
  },
  {
   "cell_type": "markdown",
   "metadata": {},
   "source": [
    "# Быстрая сотрировка\n",
    " - (разделяй и властвуй)\n",
    " - на случайной выборке n*log(n)\n",
    " - худший случай n**2\n",
    "\n",
    "# Слиянием сотрировка\n",
    " - худший случай n*log(n)\n",
    " - O(n) дополнительной памяти\n",
    "\n",
    "Сортировка называется устойчивой, если она не изменяет порядок равных элементов.\n"
   ]
  },
  {
   "cell_type": "code",
   "execution_count": 190,
   "metadata": {},
   "outputs": [],
   "source": [
    "def merge(A:list,B:list):\n",
    "    C[0]*(len(A)+len(B))\n",
    "    i = k = 0\n",
    "    while i<len(A) & k<len(B):\n",
    "        if A[i]<=B[k]:\n",
    "            C[n]=A[i]; i+=1; n+=1\n",
    "        else:\n",
    "            C[n]=B[k]; k+=1; n+=1\n",
    "        while i<len(A):\n",
    "            C[n]=A[i]; i+=1; n+=1\n",
    "        while k<len(B):\n",
    "            C[n]=B[k]; k+=1; n+=1\n",
    "    return C\n",
    "\n",
    "def merge_sort(A:list):\n",
    "    if len(A)<=1:\n",
    "        return\n",
    "    middle = len(A)//2\n",
    "    L = [A[i] for i in range(middle)]\n",
    "    R = [A[i] for i in range(middle, len(A))]\n",
    "    merge_sort(L)\n",
    "    merge_sort(R)\n",
    "    C = merge(L,R)\n",
    "    for i in range(len(A)):\n",
    "        A[i]=C[i]\n",
    "    return A"
   ]
  },
  {
   "cell_type": "code",
   "execution_count": 191,
   "metadata": {},
   "outputs": [],
   "source": [
    "def quick_sort(A:list):\n",
    "    if len(A)<=1:\n",
    "        return\n",
    "    barier = A[0]\n",
    "    L = []\n",
    "    M = []\n",
    "    R = []\n",
    "    for x in A:\n",
    "        if x<barier:\n",
    "            L.append(x)\n",
    "        elif x==barier:\n",
    "            M.append(x)\n",
    "        else:\n",
    "            R.append(x)\n",
    "    quick_sort(L)\n",
    "    quick_sort(R)\n",
    "    k=0\n",
    "    for x in L+M+R:\n",
    "        A[k]=x\n",
    "        k+=1\n",
    "    return A"
   ]
  },
  {
   "cell_type": "markdown",
   "metadata": {},
   "source": [
    "# Динамическое программирование\n",
    "число Фиббоначи"
   ]
  },
  {
   "cell_type": "code",
   "execution_count": 198,
   "metadata": {},
   "outputs": [
    {
     "data": {
      "text/plain": [
       "2"
      ]
     },
     "execution_count": 198,
     "metadata": {},
     "output_type": "execute_result"
    }
   ],
   "source": [
    "def fib(n):\n",
    "    A = [0,1]+[0]*(n-1)\n",
    "    for i in range(2,n+1):\n",
    "        A[i] = A[i-1]+A[i-2]\n",
    "    return A[n]\n",
    "\n",
    "fib(3)"
   ]
  },
  {
   "cell_type": "code",
   "execution_count": 204,
   "metadata": {},
   "outputs": [],
   "source": [
    "#кузнечик\n",
    "def count_traectories(N,allowed:list):\n",
    "    K =[0,1,int(allowed[2])]+[0]*(N-3)\n",
    "    for i in range(3,N+1):\n",
    "        if allowed[i]:\n",
    "            K[i] = K[i-1]+K[i-2]+K[i-3]\n",
    "    return K\n",
    "\n",
    "#мин стоимость достижения клетки\n",
    "#price[i] - стоимость клетки\n",
    "#C[i] - минимальная стоимость достижения клетки\n",
    "\n",
    "\n",
    "def count_min_cost(N,price:list):\n",
    "    C = [float(\"-inf\"),price[1],price[1]+price[2]] + [0]*(n-2)\n",
    "    for i in range(3,N+1):\n",
    "        C[i]=price[i]+min(C[i-1],C[i-2]) #кузнечик прыгает на 1 или 2 клетки.\n",
    "    return C[N]"
   ]
  },
  {
   "cell_type": "markdown",
   "metadata": {},
   "source": [
    "# Массивы\n",
    "двумерное программирование"
   ]
  },
  {
   "cell_type": "code",
   "execution_count": 222,
   "metadata": {},
   "outputs": [
    {
     "name": "stdout",
     "output_type": "stream",
     "text": [
      "[[0, 0, 0, 0], [0, 1, 1, 1], [0, 1, 2, 3], [0, 1, 3, 6], [0, 1, 4, 10]]\n",
      "10\n"
     ]
    }
   ],
   "source": [
    "from pprint import pprint\n",
    "\n",
    "#сколько путей попасть в точку\n",
    "\n",
    "def path_num(x,y):\n",
    "    A = [[0]*(x+1) for i in range(y+1)]\n",
    "    for i in range(1,y+1):\n",
    "        A[i][1]=1\n",
    "    for i in range(1,x+1):\n",
    "        A[1][i]=1\n",
    "    for i in range(2,y+1):\n",
    "        for j in range(2,x+1):\n",
    "            A[i][j] = A[i-1][j] + A[i][j-1]\n",
    "    pprint(A)\n",
    "    return A[y][x]\n",
    "\n",
    "print(path_num(3,4))"
   ]
  },
  {
   "cell_type": "code",
   "execution_count": 5,
   "metadata": {},
   "outputs": [
    {
     "name": "stdout",
     "output_type": "stream",
     "text": [
      "[0, 0, 0, 0, 0, 0, 0, 0, 0]\n",
      "[0, 1, 1, 1, 1, 1, 1, 1, 1]\n",
      "[0, 1, 2, 2, 2, 2, 2, 2, 2]\n",
      "[0, 1, 2, 3, 3, 3, 3, 3, 3]\n",
      "[0, 1, 2, 3, 4, 4, 4, 4, 4]\n",
      "[0, 1, 2, 3, 4, 4, 4, 4, 4]\n",
      "[0, 1, 2, 3, 4, 4, 5, 5, 5]\n",
      "[0, 1, 2, 3, 4, 5, 5, 5, 5]\n",
      "[0, 1, 2, 3, 4, 5, 5, 5, 6]\n"
     ]
    },
    {
     "data": {
      "text/plain": [
       "6"
      ]
     },
     "execution_count": 5,
     "metadata": {},
     "output_type": "execute_result"
    }
   ],
   "source": [
    "# наибольшая общая подпоследовательность largest common subsequence\n",
    "def lcs(A,B):\n",
    "    F = [[0]*(len(B)+1) for _ in range((len(A)+1))]\n",
    "    for i in range(1,len(A)+1):\n",
    "        for j in range(1,len(B)+1):\n",
    "            if A[i-1]==B[j-1]:\n",
    "                F[i][j]=1+F[i-1][j-1]\n",
    "            else:\n",
    "                F[i][j]=max(F[i-1][j],F[i][j-1])\n",
    "    for f in F:\n",
    "        print(f)\n",
    "    return F[-1][-1]\n",
    "\n",
    "lcs(\"aser1a2s\",\"aser2a3s\")\n",
    "\n",
    "# вывести наибольшую последовательность- сами\n"
   ]
  },
  {
   "cell_type": "code",
   "execution_count": 255,
   "metadata": {},
   "outputs": [
    {
     "name": "stdout",
     "output_type": "stream",
     "text": [
      "[0, 1, 2, 2, 2, 2, 3, 4, 5, 6, 3]\n"
     ]
    },
    {
     "data": {
      "text/plain": [
       "3"
      ]
     },
     "execution_count": 255,
     "metadata": {},
     "output_type": "execute_result"
    }
   ],
   "source": [
    "# наибольшая возрастающая подпоследовательность largest common subsequence\n",
    "def gis(A):\n",
    "    F = [0]*(len(A)+1)\n",
    "    for i in range(1, len(A)+1):\n",
    "        m=0\n",
    "        for j in range(0,i):\n",
    "            if A[i-1]>A[j-1] and F[j]>m:\n",
    "                m = F[j]\n",
    "        F[i]=m+1\n",
    "    print(F)\n",
    "    return F[len(A)]\n",
    "\n",
    "gis([0,2,2,2,1,2,3,4,5,2])\n",
    "                \n",
    "    "
   ]
  },
  {
   "cell_type": "code",
   "execution_count": null,
   "metadata": {},
   "outputs": [],
   "source": [
    "# алгоритм укладки рюкзака\n",
    "\n"
   ]
  },
  {
   "cell_type": "markdown",
   "metadata": {},
   "source": [
    "# Расстояние Левенштейна (редакционное расстояние)\n",
    "len(A) = N\n",
    "\n",
    "len(B) = M\n",
    "\n",
    "Fij - min ред расстояние между срезами А[:i] B[:j]\n",
    "\n",
    "Fnm - ответ\n",
    "\n",
    "если Аi = Bj, значит Fij = F(i-1)(j-1),\n",
    "\n",
    "иначе Fij = 1 + min( F(i)(j-1),  F(i-1)(j) ,  F(i-1)(j-1) )\n",
    "\n",
    "крайний случай F0j = j | Fi0 = i | F00 = 0"
   ]
  },
  {
   "cell_type": "code",
   "execution_count": 22,
   "metadata": {},
   "outputs": [
    {
     "data": {
      "text/plain": [
       "1"
      ]
     },
     "execution_count": 22,
     "metadata": {},
     "output_type": "execute_result"
    }
   ],
   "source": [
    "def levenstein(A,B):\n",
    "    F = [ [i+j if i*j==0 else 0 for j in range(len(B)+1)] for i in range(len(A)+1)]\n",
    "    for i in range(2,len(A)+1):\n",
    "        for j in range(2,len(B)+1):\n",
    "            if A[i-1] == B[j-1]:\n",
    "                F[i][j] = F[i-1][j-1]\n",
    "            else:\n",
    "                F[i][j] =1+ min(F[i-1][j],F[i][j-1],F[i-1][j-1])\n",
    "    return F[len(A)][len(B)]\n",
    "\n",
    "levenstein(\"фыр\", \"вфыс\")"
   ]
  },
  {
   "cell_type": "markdown",
   "metadata": {},
   "source": [
    "# Поиск подстроки\n",
    "## префикс функция\n",
    "\n",
    "собственный суффикс = суффикс, не равный самой строке\n",
    "\n",
    "префикс функция - длина макс собственного суффикса, который является префиксом"
   ]
  },
  {
   "cell_type": "code",
   "execution_count": 38,
   "metadata": {},
   "outputs": [
    {
     "data": {
      "text/plain": [
       "0"
      ]
     },
     "execution_count": 38,
     "metadata": {},
     "output_type": "execute_result"
    }
   ],
   "source": [
    "def equal(a,b):\n",
    "    if len(a)!=len(b):\n",
    "        return False\n",
    "    for x in range(len(a)):\n",
    "        if a[x]!=b[x]:\n",
    "            return False\n",
    "    return True\n",
    "\n",
    "def find_substring(sub,s):\n",
    "    if len(sub)>len(s):\n",
    "        return None\n",
    "    for i in range(len(s)-len(sub)+1):\n",
    "        if equal(sub,s[i:i+len(sub)]):\n",
    "            return i\n",
    "        \n",
    "find_substring(\"sub\",\"sub1\")"
   ]
  },
  {
   "cell_type": "code",
   "execution_count": 45,
   "metadata": {},
   "outputs": [
    {
     "data": {
      "text/plain": [
       "[0, 0, 0, 0, 1, 2, 3, 0, 1, 2, 3, 0, 0, 0, 1, 2]"
      ]
     },
     "execution_count": 45,
     "metadata": {},
     "output_type": "execute_result"
    }
   ],
   "source": [
    "#префик функция от строки\n",
    "# Ps_i - префикс функция среза [:i]\n",
    "\n",
    "def pref(s):\n",
    "    pi = [0]*(len(s))\n",
    "    for i in range(1,len(s)):\n",
    "        p = pi[i-1]\n",
    "        while p>0 and s[p]!=s[i]:\n",
    "            p = pi[p-1]\n",
    "        if s[p]==s[i]:\n",
    "            p += 1\n",
    "        pi[i] = p\n",
    "    return pi\n",
    "\n",
    "pref(\"124#124312400012\")"
   ]
  },
  {
   "cell_type": "code",
   "execution_count": 49,
   "metadata": {},
   "outputs": [
    {
     "data": {
      "text/plain": [
       "[0, 6]"
      ]
     },
     "execution_count": 49,
     "metadata": {},
     "output_type": "execute_result"
    }
   ],
   "source": [
    "#алгоритм Кнут Моррис Пратт\n",
    "\n",
    "def kmp(sub, s):\n",
    "    s = sub + \"#\" + s\n",
    "    indexes = []\n",
    "    pi = [0]*(len(s))\n",
    "    for i in range(1,len(s)):\n",
    "        p = pi[i-1]\n",
    "        while p>0 and s[p]!=s[i]:\n",
    "            p = pi[p-1]\n",
    "        if s[p]==s[i]:\n",
    "            p += 1\n",
    "        pi[i] = p\n",
    "        \n",
    "        if p == len(sub):\n",
    "            indexes.append(i-2-len(sub))\n",
    "    return indexes\n",
    "\n",
    "kmp(\"12\",\"12000012\")\n",
    "    "
   ]
  },
  {
   "cell_type": "markdown",
   "metadata": {},
   "source": [
    "# Индуктивные функции Однопроходные алгоритмы"
   ]
  },
  {
   "cell_type": "code",
   "execution_count": 57,
   "metadata": {},
   "outputs": [
    {
     "data": {
      "text/plain": [
       "1"
      ]
     },
     "execution_count": 57,
     "metadata": {},
     "output_type": "execute_result"
    }
   ],
   "source": [
    "# рекурсия + динами программирование (кэш)\n",
    "\n",
    "F = [None]*10000\n",
    "\n",
    "def fib(n):\n",
    "    if F[n] != None:\n",
    "        return F[n]\n",
    "    elif n<=1:\n",
    "        F[n] = n\n",
    "    else:\n",
    "        F[n] = fib(n-1)+fib(n-2)\n",
    "    return F[n]\n",
    "    \n",
    "fib(1)"
   ]
  },
  {
   "cell_type": "code",
   "execution_count": null,
   "metadata": {},
   "outputs": [],
   "source": [
    "#рюкзак\n",
    "# 2^n если полный перебор\n",
    "# жадный алгоритм n^2\n",
    "\n",
    "# дискретная задача \n",
    "# F(k,i) - макс стоимость, кот помещается в рюкзак емкости к до i - предмета\n",
    "\n",
    "def ruk(N, values, M):\n",
    "    F =[[0]*(N+1) for i in range(M+1)]\n",
    "    for i in range(N+1):\n",
    "        for k in range(M+1):\n",
    "            if m[i]<=k:\n",
    "                F[i][k] = max(F[i-1][k],v[i]+F[k-m[i]][i-1])\n",
    "            else:\n",
    "                F[i][k] F[i-1][k]\n",
    "    return(F[M][N])\n",
    "        "
   ]
  },
  {
   "cell_type": "code",
   "execution_count": null,
   "metadata": {},
   "outputs": [],
   "source": []
  },
  {
   "cell_type": "code",
   "execution_count": null,
   "metadata": {},
   "outputs": [],
   "source": []
  },
  {
   "cell_type": "code",
   "execution_count": null,
   "metadata": {},
   "outputs": [],
   "source": []
  },
  {
   "cell_type": "code",
   "execution_count": null,
   "metadata": {},
   "outputs": [],
   "source": []
  },
  {
   "cell_type": "code",
   "execution_count": null,
   "metadata": {},
   "outputs": [],
   "source": []
  },
  {
   "cell_type": "code",
   "execution_count": null,
   "metadata": {},
   "outputs": [],
   "source": []
  }
 ],
 "metadata": {
  "kernelspec": {
   "display_name": "Python 3",
   "language": "python",
   "name": "python3"
  },
  "language_info": {
   "codemirror_mode": {
    "name": "ipython",
    "version": 3
   },
   "file_extension": ".py",
   "mimetype": "text/x-python",
   "name": "python",
   "nbconvert_exporter": "python",
   "pygments_lexer": "ipython3",
   "version": "3.6.4"
  }
 },
 "nbformat": 4,
 "nbformat_minor": 2
}
