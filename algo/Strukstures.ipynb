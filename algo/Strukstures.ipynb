{
 "cells": [
  {
   "cell_type": "markdown",
   "metadata": {},
   "source": [
    "# Stack Queue"
   ]
  },
  {
   "cell_type": "code",
   "execution_count": 28,
   "metadata": {},
   "outputs": [
    {
     "name": "stdout",
     "output_type": "stream",
     "text": [
      "Trying:\n",
      "    s = My_stack()\n",
      "Expecting nothing\n",
      "ok\n",
      "Trying:\n",
      "    s.push(12)\n",
      "Expecting nothing\n",
      "ok\n",
      "Trying:\n",
      "    s.push(13)\n",
      "Expecting nothing\n",
      "ok\n",
      "Trying:\n",
      "    print(s.pop())\n",
      "Expecting:\n",
      "    13\n",
      "ok\n",
      "Trying:\n",
      "    print(s.pop())\n",
      "Expecting:\n",
      "    12\n",
      "ok\n",
      "Trying:\n",
      "    s = My_stack()\n",
      "Expecting nothing\n",
      "ok\n",
      "Trying:\n",
      "    s.push(5)\n",
      "Expecting nothing\n",
      "ok\n",
      "Trying:\n",
      "    s._stack[-1]\n",
      "Expecting:\n",
      "    5\n",
      "ok\n",
      "6 items had no tests:\n",
      "    __main__\n",
      "    __main__.My_stack.__init__\n",
      "    __main__.My_stack.clear\n",
      "    __main__.My_stack.is_empty\n",
      "    __main__.My_stack.pop\n",
      "    __main__.My_stack.top\n",
      "2 items passed all tests:\n",
      "   5 tests in __main__.My_stack\n",
      "   3 tests in __main__.My_stack.push\n",
      "8 tests in 8 items.\n",
      "8 passed and 0 failed.\n",
      "Test passed.\n"
     ]
    }
   ],
   "source": [
    "class My_stack():\n",
    "    \n",
    "    #можно тестировать докстринг\n",
    "    \"\"\"\n",
    "    >>> s = My_stack()\n",
    "    >>> s.push(12)\n",
    "    >>> s.push(13)\n",
    "    >>> print(s.pop())\n",
    "    13\n",
    "    >>> print(s.pop())\n",
    "    12\n",
    "    \"\"\"\n",
    "    def __init__(self):\n",
    "        self._stack =[]\n",
    "        pass\n",
    "    def clear(self):\n",
    "        self._stack.clear()\n",
    "        \n",
    "    def is_empty(self):\n",
    "        if self._stack == []:\n",
    "            return True\n",
    "        return False\n",
    "    \n",
    "    def push(self,a):\n",
    "        \"\"\"\n",
    "        Add element to stack\n",
    "        >>> s = My_stack()\n",
    "        >>> s.push(5)\n",
    "        >>> s._stack[-1]\n",
    "        5\n",
    "        \"\"\"\n",
    "        self._stack.append(a)\n",
    "        \n",
    "    def pop(self):\n",
    "        if not self.is_empty():\n",
    "            self._stack, result = self._stack[:-1],self._stack[-1]\n",
    "            return result\n",
    "        return None\n",
    "        \n",
    "    def top(self):\n",
    "        return self._stack[-1]\n",
    "\n",
    "    if __name__ == \"__main__\":\n",
    "        import doctest\n",
    "        doctest.testmod(verbose=True)"
   ]
  },
  {
   "cell_type": "markdown",
   "metadata": {},
   "source": [
    "## Проверка корректности скобочной последовательности"
   ]
  },
  {
   "cell_type": "code",
   "execution_count": 44,
   "metadata": {},
   "outputs": [],
   "source": [
    "def check(ss):\n",
    "    \"\"\"\n",
    "    Проверяет корректность скобочной последовательности из [{( ]})\n",
    "    >>> check(\")\")\n",
    "    False\n",
    "    >>> check(\"(){}]}]\")\n",
    "    False\n",
    "    >>> check(\"(){}\")\n",
    "    True\n",
    "    \"\"\"\n",
    "    \n",
    "    stack = My_stack()\n",
    "    op = \"[{(\"\n",
    "    cl = \"]})\"\n",
    "    for s in ss:\n",
    "        if s not in (op+cl):\n",
    "            continue\n",
    "        if s in op:\n",
    "            stack.push(s)\n",
    "        else:\n",
    "            if stack.is_empty():\n",
    "                return False\n",
    "            for n,i in enumerate(cl):\n",
    "                if s == i and stack.top()==op[n]:\n",
    "                    stack.pop()\n",
    "    return stack.is_empty()\n",
    "        \n",
    "\n",
    "    \n",
    "if __name__ == \"__main__\":\n",
    "    import doctest\n",
    "    doctest.testmod()"
   ]
  },
  {
   "cell_type": "code",
   "execution_count": 49,
   "metadata": {},
   "outputs": [
    {
     "data": {
      "text/plain": [
       "37"
      ]
     },
     "execution_count": 49,
     "metadata": {},
     "output_type": "execute_result"
    }
   ],
   "source": [
    "#ОПН обратная польская нотация\n",
    "def opn(ss):\n",
    "    stack = My_stack()\n",
    "    for s in ss:\n",
    "        if s.isdigit():\n",
    "            stack.push(int(s))\n",
    "        else:\n",
    "            y = stack.pop()\n",
    "            x = stack.pop()\n",
    "            if s == \"+\":\n",
    "                stack.push((x + y))\n",
    "            elif s == \"-\":\n",
    "                stack.push((x - y))\n",
    "            elif s == \"*\":\n",
    "                stack.push((x * y))\n",
    "            elif s == \"/\":\n",
    "                stack.push((x / y))\n",
    "    return stack.pop()\n",
    "\n",
    "opn(\"275*+\")"
   ]
  },
  {
   "cell_type": "code",
   "execution_count": 52,
   "metadata": {},
   "outputs": [],
   "source": [
    "# Linked list\n",
    "\n",
    "class LinkedList:\n",
    "    \n",
    "    \"\"\"\n",
    "    >>> a = LinkedList()\n",
    "    >>> a.insert(10)\n",
    "    >>> a.pop()\n",
    "    10\n",
    "    \"\"\"\n",
    "    def __init__(self):\n",
    "        self._begin = None\n",
    "        \n",
    "    def insert(self, x):\n",
    "        self._begin = [x, self._begin]\n",
    "        \n",
    "    def pop(self):\n",
    "        assert self._begin != None , \"List is empty\"\n",
    "        x = self._begin[0]\n",
    "        self._begin = self._begin[1]\n",
    "        return x\n",
    "\n",
    "if __name__ == \"__main__\":\n",
    "    import doctest\n",
    "    doctest.testmod()"
   ]
  },
  {
   "cell_type": "code",
   "execution_count": 55,
   "metadata": {},
   "outputs": [
    {
     "data": {
      "text/plain": [
       "[1, 3, 1, 12, 55, 2, 34]"
      ]
     },
     "execution_count": 55,
     "metadata": {},
     "output_type": "execute_result"
    }
   ],
   "source": [
    "#Heap\n",
    "class Heap():\n",
    "    def __init__(self):\n",
    "        self.values = []\n",
    "        self.size = 0\n",
    "        \n",
    "    def insert(self, x):\n",
    "        self.values.append(x)\n",
    "        self.size += 1\n",
    "        self.lift_up(self.size - 1)\n",
    "        \n",
    "    def lift_up(self,i):\n",
    "        while i!=0 and self.values[i]<self.values[(i-1)//2]:\n",
    "            self.values[i],self.values[(i-1)//2] = self.values[(i-1)//2], self.values[i]\n",
    "            \n",
    "    def pop_min(self):\n",
    "        if not self.size:\n",
    "            return None\n",
    "        tmp = self.values[0]\n",
    "        self.values[0] = self.values[-1]\n",
    "        self.values.pop()\n",
    "        self.size -= 1\n",
    "        self.lift_down(0)\n",
    "        return tmp\n",
    "    \n",
    "    def lift_down(self, i):\n",
    "        while 2*i+1 < self.size:\n",
    "            j=i\n",
    "            if self.values[2*i+1] < self.values[i]:\n",
    "                j=2*i+1\n",
    "            if j==2*i+2<self.size and self.values[2*i+2] < self.values[j]:\n",
    "                j=2*i+2\n",
    "            if i==j:\n",
    "                break\n",
    "            self.values[i],self.values[j] = self.values[j],self.values[i]\n",
    "\n",
    "h = Heap()\n",
    "h.insert(1)\n",
    "h.insert(12)\n",
    "h.insert(2)\n",
    "h.insert(3)\n",
    "h.insert(55)\n",
    "h.insert(1)\n",
    "h.insert(34)\n",
    "h.values"
   ]
  },
  {
   "cell_type": "code",
   "execution_count": null,
   "metadata": {},
   "outputs": [],
   "source": [
    "#heapsort O(n*log n)\n",
    "def heapify(arr:list):\n",
    "    h = Heap()\n",
    "    for i in arr:\n",
    "        h.insert(i)\n",
    "    return h\n",
    "# O(n*log n)\n",
    "def get_sorted_array(heap):\n",
    "    arr = []\n",
    "    while heap.size:\n",
    "        arr.append(heap.pop_min())\n",
    "    return arr\n",
    "\n",
    "\n",
    "#O(2n)\n",
    "def heapify_fast(arr:list):\n",
    "    h = Heap()\n",
    "    h.values = arr\n",
    "    h.size = len(arr)\n",
    "    for i in reversed(range(h.size//2)):\n",
    "        heap.lift_down(i)\n",
    "    return heap"
   ]
  },
  {
   "cell_type": "code",
   "execution_count": null,
   "metadata": {},
   "outputs": [],
   "source": [
    "#модуль позволяет делать то же самое\n",
    "import heapq"
   ]
  },
  {
   "cell_type": "markdown",
   "metadata": {},
   "source": [
    "# Dict\n"
   ]
  },
  {
   "cell_type": "code",
   "execution_count": 56,
   "metadata": {},
   "outputs": [],
   "source": [
    "# подсчёт совпадений - в одну строчку\n",
    "d = dict()\n",
    "name = \"name\"\n",
    "d[name]=d.pop(name,0)+1"
   ]
  },
  {
   "cell_type": "markdown",
   "metadata": {},
   "source": [
    "# Graphs"
   ]
  },
  {
   "cell_type": "code",
   "execution_count": 59,
   "metadata": {},
   "outputs": [],
   "source": [
    "# 1 - set вершин + set ребер\n",
    "# 2 - матрица смежности \n",
    "V = [\"A\",\"B\",\"C\"]\n",
    "index = {V[i]:i for i in range(len(V))}\n",
    "A = [[0,1,0],\n",
    "    [1,0,1],\n",
    "    [0,1,0]]\n",
    "# 3 - списки смежности dict(вершина - соседи вершины) - самый оптимальный варинат О(1)\n",
    "G = {\"A\":{\"A\",\"B\"},\n",
    "    \"B\":{\"C\",\"D\"}}\n",
    "#библиотека\n",
    "import networkx"
   ]
  },
  {
   "cell_type": "code",
   "execution_count": 62,
   "metadata": {},
   "outputs": [],
   "source": [
    "#DFS обход в глубину\n",
    "\n",
    "def dfs(vertex,G,used=None):\n",
    "    used = used or set()\n",
    "    used.add(vertex)\n",
    "    for neighbour in G[vertex]:\n",
    "        if neighbour not in used:\n",
    "            dfs(neighbour,G,used)\n",
    "\n",
    "#найти количество компонент\n",
    "def comp(vertex,G,used):\n",
    "    used = {}\n",
    "    N=0\n",
    "    for vertex in G:\n",
    "        if vertex not in used:\n",
    "            dfs(vertex,G,used)\n",
    "            N+=1\n",
    "            \n",
    "# алгоритм Косарайю - выделение компонент сильной связности ориентированного графа\n"
   ]
  },
  {
   "cell_type": "code",
   "execution_count": null,
   "metadata": {},
   "outputs": [],
   "source": [
    "# топологическая сортировка алгоритм Тарьяна О(н)\n",
    "def tarjan():\n",
    "    n = len(G)\n",
    "    visited = [False]*(n+1)\n",
    "    ans = []\n",
    "    for i in range(1,1+n):\n",
    "        if not visited[i]:\n",
    "            dfs(i,G,visited,ans)\n",
    "    ans = ans[::-1]\n",
    "    \n",
    "    \n",
    "def dfs(start, G, visited,ans):\n",
    "    visited[start]=True\n",
    "    for u in G[start]:\n",
    "        if not visited[u]:\n",
    "            dfs(u,G,visited,ans)\n",
    "    ans.append(start)"
   ]
  },
  {
   "cell_type": "code",
   "execution_count": null,
   "metadata": {},
   "outputs": [],
   "source": []
  },
  {
   "cell_type": "code",
   "execution_count": null,
   "metadata": {},
   "outputs": [],
   "source": []
  },
  {
   "cell_type": "code",
   "execution_count": null,
   "metadata": {},
   "outputs": [],
   "source": []
  },
  {
   "cell_type": "code",
   "execution_count": null,
   "metadata": {},
   "outputs": [],
   "source": []
  }
 ],
 "metadata": {
  "kernelspec": {
   "display_name": "Python 3",
   "language": "python",
   "name": "python3"
  },
  "language_info": {
   "codemirror_mode": {
    "name": "ipython",
    "version": 3
   },
   "file_extension": ".py",
   "mimetype": "text/x-python",
   "name": "python",
   "nbconvert_exporter": "python",
   "pygments_lexer": "ipython3",
   "version": "3.6.4"
  }
 },
 "nbformat": 4,
 "nbformat_minor": 2
}
