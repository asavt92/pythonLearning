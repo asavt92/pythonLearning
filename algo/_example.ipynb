{
 "cells": [
  {
   "cell_type": "code",
   "execution_count": 3,
   "metadata": {},
   "outputs": [
    {
     "name": "stdout",
     "output_type": "stream",
     "text": [
      "46549\n",
      "0b1011010111010101\n",
      "0o132725\n",
      "0xb5d5\n"
     ]
    }
   ],
   "source": [
    "x = int(\"zx1\", base = 36)\n",
    "print(x)\n",
    "print(bin(x))\n",
    "print(oct(x))\n",
    "print(hex(x))"
   ]
  },
  {
   "cell_type": "code",
   "execution_count": 10,
   "metadata": {},
   "outputs": [],
   "source": [
    "import turtle\n",
    "\n",
    "def square(x,n):\n",
    "\n",
    "    \n",
    "    for _ in range(n):\n",
    "        turtle.shape('turtle')\n",
    "        turtle.goto(0, 0)\n",
    "        turtle.forward(x)\n",
    "        turtle.left(90)\n",
    "        turtle.forward(x)\n",
    "        turtle.left(90)\n",
    "        turtle.forward(x)\n",
    "        turtle.left(90)\n",
    "        turtle.forward(x)\n",
    "        x += 10\n",
    "\n",
    "square(5,3)"
   ]
  },
  {
   "cell_type": "code",
   "execution_count": 31,
   "metadata": {},
   "outputs": [],
   "source": [
    "turtle.clear()\n",
    "turtle.bye()"
   ]
  },
  {
   "cell_type": "code",
   "execution_count": 6,
   "metadata": {},
   "outputs": [
    {
     "name": "stderr",
     "output_type": "stream",
     "text": [
      "Enabling notebook extension jupyter-js-widgets/extension...\n",
      "      - Validating: ok\n"
     ]
    },
    {
     "data": {
      "application/vnd.jupyter.widget-view+json": {
       "model_id": "b385250a7cb040b6a191ef12b22a1fde",
       "version_major": 2,
       "version_minor": 0
      },
      "text/html": [
       "<p>Failed to display Jupyter Widget of type <code>Turtle</code>.</p>\n",
       "<p>\n",
       "  If you're reading this message in the Jupyter Notebook or JupyterLab Notebook, it may mean\n",
       "  that the widgets JavaScript is still loading. If this message persists, it\n",
       "  likely means that the widgets JavaScript library is either not installed or\n",
       "  not enabled. See the <a href=\"https://ipywidgets.readthedocs.io/en/stable/user_install.html\">Jupyter\n",
       "  Widgets Documentation</a> for setup instructions.\n",
       "</p>\n",
       "<p>\n",
       "  If you're reading this message in another frontend (for example, a static\n",
       "  rendering on GitHub or <a href=\"https://nbviewer.jupyter.org/\">NBViewer</a>),\n",
       "  it may mean that your frontend doesn't currently support widgets.\n",
       "</p>\n"
      ],
      "text/plain": [
       "Turtle()"
      ]
     },
     "metadata": {},
     "output_type": "display_data"
    }
   ],
   "source": [
    "from mobilechelonian import Turtle\n",
    "!jupyter nbextension enable --py widgetsnbextension\n",
    "\n",
    "t = Turtle()\n",
    "t.speed(5)\n",
    "colours=[\"red\",\"blue\",\"yellow\",\"brown\",\"black\",\"purple\",\"green\"]\n",
    "\n",
    "t.penup(); t.left(90); t.forward(200);t.right(90);t.pendown()\n",
    "for i in range (0,18):\n",
    "    t.pencolor(colours[i%7])\n",
    "    t.right(20)\n",
    "    t.forward(50)\n",
    "\n",
    "t.right(180)\n",
    "t.home()"
   ]
  },
  {
   "cell_type": "code",
   "execution_count": 8,
   "metadata": {},
   "outputs": [
    {
     "data": {
      "text/plain": [
       "[0, 1, 2, 3, 4]"
      ]
     },
     "execution_count": 8,
     "metadata": {},
     "output_type": "execute_result"
    }
   ],
   "source": [
    "ss = [i for i in range(5)]\n",
    "for x in ss:\n",
    "    x = x*3\n",
    "ss"
   ]
  },
  {
   "cell_type": "code",
   "execution_count": 14,
   "metadata": {},
   "outputs": [
    {
     "data": {
      "text/plain": [
       "[22, 5, 5, 5, 5, 5, 5, 5, 5, 5]"
      ]
     },
     "execution_count": 14,
     "metadata": {},
     "output_type": "execute_result"
    }
   ],
   "source": [
    "import random\n",
    "ss = [random.randint(0,9)]*10\n",
    "ss[0] = 22\n",
    "ss"
   ]
  },
  {
   "cell_type": "code",
   "execution_count": 16,
   "metadata": {},
   "outputs": [
    {
     "name": "stdout",
     "output_type": "stream",
     "text": [
      "('sdf', 22)\n"
     ]
    }
   ],
   "source": [
    "def some_function(i:int):\n",
    "    print(str(i))\n",
    "    \n",
    "some_function((\"sdf\",22))"
   ]
  },
  {
   "cell_type": "markdown",
   "metadata": {},
   "source": [
    "# Graphics http://judge.mipt.ru/mipt_cs_on_python3/labs/lab5.html"
   ]
  },
  {
   "cell_type": "code",
   "execution_count": null,
   "metadata": {},
   "outputs": [],
   "source": [
    "import graphics as gr\n",
    "\n",
    "SIZE_X = 800\n",
    "SIZE_Y = 800\n",
    "\n",
    "window = gr.GraphWin(\"Model\", SIZE_X, SIZE_Y)\n",
    "\n",
    "coords = gr.Point(400, 700)\n",
    "velocity = gr.Point(2, 0)\n",
    "acceleration = gr.Point(0, 0)\n",
    "\n",
    "\n",
    "def add(point_1, point_2):\n",
    "    new_point = gr.Point(point_1.x + point_2.x,\n",
    "                         point_1.y + point_2.y)\n",
    "\n",
    "    return new_point\n",
    "\n",
    "\n",
    "def sub (point_1, point_2):\n",
    "    new_point = gr.Point(point_1.x - point_2.x,\n",
    "                         point_1.y - point_2.y)\n",
    "\n",
    "    return new_point\n",
    "\n",
    "\n",
    "def clear_window():\n",
    "    rectangle = gr.Rectangle(gr.Point(0, 0), gr.Point(SIZE_X, SIZE_Y))\n",
    "    rectangle.setFill('green')\n",
    "    rectangle.draw(window)\n",
    "\n",
    "    sun = gr.Circle(gr.Point(400, 400), 50)\n",
    "    sun.setFill('yellow')\n",
    "    sun.draw(window)\n",
    "\n",
    "\n",
    "def draw_ball(coords):\n",
    "    circle = gr.Circle(coords, 10)\n",
    "    circle.setFill('red')\n",
    "\n",
    "    circle.draw(window)\n",
    "\n",
    "\n",
    "def check_coords(coords, velocity):\n",
    "    if coords.x < 0 or coords.x > SIZE_X:\n",
    "        velocity.x = -velocity.x\n",
    "\n",
    "    if coords.y < 0 or coords.y > SIZE_Y:\n",
    "        velocity.y = -velocity.y\n",
    "\n",
    "\n",
    "def update_coords(coords, velocity):\n",
    "    return add(coords, velocity)\n",
    "\n",
    "\n",
    "def update_velocity(velocity, acceleration):\n",
    "    return add(velocity, acceleration)\n",
    "\n",
    "\n",
    "def update_acceleration(ball_coords, center_coords):\n",
    "    diff = sub(ball_coords, center_coords)\n",
    "    distance_2 = (diff.x ** 2 + diff.y ** 2) ** (3/2)\n",
    "\n",
    "    G = 2000\n",
    "\n",
    "    return gr.Point(-diff.x*G/distance_2, -diff.y*G/distance_2)\n",
    "\n",
    "\n",
    "while True:\n",
    "    clear_window()\n",
    "    draw_ball(coords)\n",
    "\n",
    "    acceleration = update_acceleration(coords, gr.Point(400, 400))\n",
    "\n",
    "    coords = update_coords(coords, velocity)\n",
    "    velocity = update_velocity(velocity, acceleration)\n",
    "    check_coords(coords, velocity)\n",
    "\n",
    "    gr.time.sleep(0.02)\n"
   ]
  },
  {
   "cell_type": "code",
   "execution_count": null,
   "metadata": {},
   "outputs": [],
   "source": [
    "import graphics as gr\n",
    "\n",
    "SIZE_X = 800\n",
    "SIZE_Y = 800\n",
    "\n",
    "window = gr.GraphWin(\"Model\", SIZE_X, SIZE_Y)\n",
    "\n",
    "coords = gr.Point(400, 700)\n",
    "velocity = gr.Point(2, 0)\n",
    "acceleration = gr.Point(0, 0)\n",
    "\n",
    "#Обьект Circle создается здесь лишь ОДИН раз\n",
    "circle = gr.Circle(gr.Point(400, 400), 10)\n",
    "circle.draw(window)\n",
    "\n",
    "sun = gr.Circle(gr.Point(400, 400), 50)\n",
    "sun.setFill('yellow')\n",
    "sun.draw(window)\n",
    "\n",
    "\n",
    "def add(point_1, point_2):\n",
    "    new_point = gr.Point(point_1.x + point_2.x,\n",
    "                         point_1.y + point_2.y)\n",
    "\n",
    "    return new_point\n",
    "\n",
    "\n",
    "def sub (point_1, point_2):\n",
    "    new_point = gr.Point(point_1.x - point_2.x,\n",
    "                         point_1.y - point_2.y)\n",
    "\n",
    "    return new_point\n",
    "\n",
    "\n",
    "def clear_window():\n",
    "    rectangle = gr.Rectangle(gr.Point(0, 0), gr.Point(SIZE_X, SIZE_Y))\n",
    "    rectangle.setFill('green')\n",
    "    rectangle.draw(window)\n",
    "\n",
    "    sun = gr.Circle(gr.Point(400, 400), 50)\n",
    "    sun.setFill('yellow')\n",
    "    sun.draw(window)\n",
    "\n",
    "\n",
    "def draw_ball(coords):\n",
    "    circle = gr.Circle(coords, 10)\n",
    "    circle.setFill('red')\n",
    "\n",
    "    circle.draw(window)\n",
    "\n",
    "\n",
    "def check_coords(coords, velocity):\n",
    "    if coords.x < 0 or coords.x > SIZE_X:\n",
    "        velocity.x = -velocity.x\n",
    "\n",
    "    if coords.y < 0 or coords.y > SIZE_Y:\n",
    "        velocity.y = -velocity.y\n",
    "\n",
    "\n",
    "def update_coords(coords, velocity):\n",
    "    return add(coords, velocity)\n",
    "\n",
    "\n",
    "def update_velocity(velocity, acceleration):\n",
    "    return add(velocity, acceleration)\n",
    "\n",
    "\n",
    "def update_acceleration(ball_coords, center_coords):\n",
    "    diff = sub(ball_coords, center_coords)\n",
    "    distance_2 = (diff.x ** 2 + diff.y ** 2) ** (3/2)\n",
    "    G = 2000\n",
    "    return gr.Point(-diff.x*G/distance_2, -diff.y*G/distance_2)\n",
    "\n",
    "\n",
    "while True:\n",
    "    #clear_window()\n",
    "    #draw_ball(coords)\n",
    "    old_coords = coords\n",
    "    acceleration = update_acceleration(coords, gr.Point(400, 400))\n",
    "    coords = update_coords(coords, velocity)\n",
    "    velocity = update_velocity(velocity, acceleration)\n",
    "    check_coords(coords, velocity)\n",
    "    circle.move(coords.x - old_coords.x,coords.y - old_coords.y)    \n",
    "\n",
    "    gr.time.sleep(0.02)\n"
   ]
  },
  {
   "cell_type": "code",
   "execution_count": 2,
   "metadata": {},
   "outputs": [
    {
     "ename": "GraphicsError",
     "evalue": "Can't draw to closed window",
     "output_type": "error",
     "traceback": [
      "\u001b[1;31m---------------------------------------------------------------------------\u001b[0m",
      "\u001b[1;31mGraphicsError\u001b[0m                             Traceback (most recent call last)",
      "\u001b[1;32m<ipython-input-2-fe06a72ca61b>\u001b[0m in \u001b[0;36m<module>\u001b[1;34m()\u001b[0m\n\u001b[0;32m     68\u001b[0m \u001b[1;33m\u001b[0m\u001b[0m\n\u001b[0;32m     69\u001b[0m \u001b[1;32mwhile\u001b[0m \u001b[1;32mTrue\u001b[0m\u001b[1;33m:\u001b[0m\u001b[1;33m\u001b[0m\u001b[0m\n\u001b[1;32m---> 70\u001b[1;33m     \u001b[0mclear_window\u001b[0m\u001b[1;33m(\u001b[0m\u001b[1;33m)\u001b[0m\u001b[1;33m\u001b[0m\u001b[0m\n\u001b[0m\u001b[0;32m     71\u001b[0m     \u001b[0mdraw_ball\u001b[0m\u001b[1;33m(\u001b[0m\u001b[0mcoords\u001b[0m\u001b[1;33m)\u001b[0m\u001b[1;33m\u001b[0m\u001b[0m\n\u001b[0;32m     72\u001b[0m \u001b[1;33m\u001b[0m\u001b[0m\n",
      "\u001b[1;32m<ipython-input-2-fe06a72ca61b>\u001b[0m in \u001b[0;36mclear_window\u001b[1;34m()\u001b[0m\n\u001b[0;32m     32\u001b[0m     \u001b[0msun\u001b[0m \u001b[1;33m=\u001b[0m \u001b[0mgr\u001b[0m\u001b[1;33m.\u001b[0m\u001b[0mCircle\u001b[0m\u001b[1;33m(\u001b[0m\u001b[0mgr\u001b[0m\u001b[1;33m.\u001b[0m\u001b[0mPoint\u001b[0m\u001b[1;33m(\u001b[0m\u001b[1;36m400\u001b[0m\u001b[1;33m,\u001b[0m \u001b[1;36m400\u001b[0m\u001b[1;33m)\u001b[0m\u001b[1;33m,\u001b[0m \u001b[1;36m50\u001b[0m\u001b[1;33m)\u001b[0m\u001b[1;33m\u001b[0m\u001b[0m\n\u001b[0;32m     33\u001b[0m     \u001b[0msun\u001b[0m\u001b[1;33m.\u001b[0m\u001b[0msetFill\u001b[0m\u001b[1;33m(\u001b[0m\u001b[1;34m'yellow'\u001b[0m\u001b[1;33m)\u001b[0m\u001b[1;33m\u001b[0m\u001b[0m\n\u001b[1;32m---> 34\u001b[1;33m     \u001b[0msun\u001b[0m\u001b[1;33m.\u001b[0m\u001b[0mdraw\u001b[0m\u001b[1;33m(\u001b[0m\u001b[0mwindow\u001b[0m\u001b[1;33m)\u001b[0m\u001b[1;33m\u001b[0m\u001b[0m\n\u001b[0m\u001b[0;32m     35\u001b[0m \u001b[1;33m\u001b[0m\u001b[0m\n\u001b[0;32m     36\u001b[0m \u001b[1;33m\u001b[0m\u001b[0m\n",
      "\u001b[1;32m~\\Desktop\\Обучение\\Python\\algo\\graphics.py\u001b[0m in \u001b[0;36mdraw\u001b[1;34m(self, graphwin)\u001b[0m\n\u001b[0;32m    480\u001b[0m \u001b[1;33m\u001b[0m\u001b[0m\n\u001b[0;32m    481\u001b[0m         \u001b[1;32mif\u001b[0m \u001b[0mself\u001b[0m\u001b[1;33m.\u001b[0m\u001b[0mcanvas\u001b[0m \u001b[1;32mand\u001b[0m \u001b[1;32mnot\u001b[0m \u001b[0mself\u001b[0m\u001b[1;33m.\u001b[0m\u001b[0mcanvas\u001b[0m\u001b[1;33m.\u001b[0m\u001b[0misClosed\u001b[0m\u001b[1;33m(\u001b[0m\u001b[1;33m)\u001b[0m\u001b[1;33m:\u001b[0m \u001b[1;32mraise\u001b[0m \u001b[0mGraphicsError\u001b[0m\u001b[1;33m(\u001b[0m\u001b[0mOBJ_ALREADY_DRAWN\u001b[0m\u001b[1;33m)\u001b[0m\u001b[1;33m\u001b[0m\u001b[0m\n\u001b[1;32m--> 482\u001b[1;33m         \u001b[1;32mif\u001b[0m \u001b[0mgraphwin\u001b[0m\u001b[1;33m.\u001b[0m\u001b[0misClosed\u001b[0m\u001b[1;33m(\u001b[0m\u001b[1;33m)\u001b[0m\u001b[1;33m:\u001b[0m \u001b[1;32mraise\u001b[0m \u001b[0mGraphicsError\u001b[0m\u001b[1;33m(\u001b[0m\u001b[1;34m\"Can't draw to closed window\"\u001b[0m\u001b[1;33m)\u001b[0m\u001b[1;33m\u001b[0m\u001b[0m\n\u001b[0m\u001b[0;32m    483\u001b[0m         \u001b[0mself\u001b[0m\u001b[1;33m.\u001b[0m\u001b[0mcanvas\u001b[0m \u001b[1;33m=\u001b[0m \u001b[0mgraphwin\u001b[0m\u001b[1;33m\u001b[0m\u001b[0m\n\u001b[0;32m    484\u001b[0m         \u001b[0mself\u001b[0m\u001b[1;33m.\u001b[0m\u001b[0mid\u001b[0m \u001b[1;33m=\u001b[0m \u001b[0mself\u001b[0m\u001b[1;33m.\u001b[0m\u001b[0m_draw\u001b[0m\u001b[1;33m(\u001b[0m\u001b[0mgraphwin\u001b[0m\u001b[1;33m,\u001b[0m \u001b[0mself\u001b[0m\u001b[1;33m.\u001b[0m\u001b[0mconfig\u001b[0m\u001b[1;33m)\u001b[0m\u001b[1;33m\u001b[0m\u001b[0m\n",
      "\u001b[1;31mGraphicsError\u001b[0m: Can't draw to closed window"
     ]
    }
   ],
   "source": []
  },
  {
   "cell_type": "code",
   "execution_count": null,
   "metadata": {},
   "outputs": [],
   "source": []
  },
  {
   "cell_type": "code",
   "execution_count": null,
   "metadata": {},
   "outputs": [],
   "source": []
  },
  {
   "cell_type": "code",
   "execution_count": null,
   "metadata": {},
   "outputs": [],
   "source": []
  },
  {
   "cell_type": "code",
   "execution_count": 15,
   "metadata": {},
   "outputs": [
    {
     "name": "stdout",
     "output_type": "stream",
     "text": [
      "[1, 2, 3]\n",
      "[32, 2, 3]\n"
     ]
    }
   ],
   "source": [
    "class C():\n",
    "    attr = [1,2,3]\n",
    "    \n",
    "    def aa(self):\n",
    "        return self.attr\n",
    "c = C()\n",
    "b = C()\n",
    "print(b.aa())\n",
    "c.attr[0] = 32\n",
    "print(b.aa())"
   ]
  },
  {
   "cell_type": "code",
   "execution_count": 1,
   "metadata": {},
   "outputs": [],
   "source": [
    "def make_code_tree(left, right):\n",
    "    return (left, right, append(symbols(left), symbols(right)), weight(left)+weight(right))\n",
    "\n",
    "def left_branch(tree):\n",
    "    return car(tree)\n",
    "\n",
    "def right_branch(tree):\n",
    "    return cdr(tree)\n",
    "\n",
    "def symbols(tree):\n",
    "    if isLeaf(tree)==True:\n",
    "        return symbLeaf(tree)\n",
    "    return cddr(tree)\n",
    "\n",
    "def weight(tree):\n",
    "    if isLeaf(tree)==True:\n",
    "        return weightLeaf(tree)\n",
    "    return cdddr(tree)\n",
    "\n",
    "def isLeaf(obj):\n",
    "    if car(obj)=='leaf':\n",
    "        return True\n",
    "    return False\n",
    "\n",
    "def symbLeaf(x):\n",
    "    return cdr(x)\n",
    "\n",
    "def weightLeaf(x):\n",
    "    return cddr(x)"
   ]
  },
  {
   "cell_type": "code",
   "execution_count": 2,
   "metadata": {},
   "outputs": [
    {
     "ename": "NameError",
     "evalue": "name 'append' is not defined",
     "output_type": "error",
     "traceback": [
      "\u001b[1;31m---------------------------------------------------------------------------\u001b[0m",
      "\u001b[1;31mNameError\u001b[0m                                 Traceback (most recent call last)",
      "\u001b[1;32m<ipython-input-2-616550d5f5d6>\u001b[0m in \u001b[0;36m<module>\u001b[1;34m()\u001b[0m\n\u001b[1;32m----> 1\u001b[1;33m \u001b[0mtree\u001b[0m\u001b[1;33m=\u001b[0m\u001b[0mmake_code_tree\u001b[0m\u001b[1;33m(\u001b[0m\u001b[1;33m(\u001b[0m\u001b[1;34m'leaf'\u001b[0m\u001b[1;33m,\u001b[0m \u001b[1;33m(\u001b[0m\u001b[1;34m'A'\u001b[0m\u001b[1;33m,\u001b[0m \u001b[1;32mNone\u001b[0m\u001b[1;33m)\u001b[0m\u001b[1;33m,\u001b[0m \u001b[1;36m8\u001b[0m\u001b[1;33m)\u001b[0m\u001b[1;33m,\u001b[0m \u001b[1;33m(\u001b[0m\u001b[1;33m(\u001b[0m\u001b[1;34m'leaf'\u001b[0m\u001b[1;33m,\u001b[0m \u001b[1;33m(\u001b[0m\u001b[1;34m'B'\u001b[0m\u001b[1;33m,\u001b[0m \u001b[1;32mNone\u001b[0m\u001b[1;33m)\u001b[0m\u001b[1;33m,\u001b[0m \u001b[1;36m3\u001b[0m\u001b[1;33m)\u001b[0m\u001b[1;33m,\u001b[0m \u001b[1;33m(\u001b[0m\u001b[1;34m'leaf'\u001b[0m\u001b[1;33m,\u001b[0m \u001b[1;33m(\u001b[0m\u001b[1;34m'E'\u001b[0m\u001b[1;33m,\u001b[0m \u001b[1;32mNone\u001b[0m\u001b[1;33m)\u001b[0m\u001b[1;33m,\u001b[0m \u001b[1;36m1\u001b[0m\u001b[1;33m)\u001b[0m\u001b[1;33m,\u001b[0m \u001b[1;33m(\u001b[0m\u001b[1;34m'B'\u001b[0m\u001b[1;33m,\u001b[0m \u001b[1;34m'E'\u001b[0m\u001b[1;33m)\u001b[0m\u001b[1;33m,\u001b[0m \u001b[1;36m4\u001b[0m\u001b[1;33m)\u001b[0m\u001b[1;33m)\u001b[0m\u001b[1;33m\u001b[0m\u001b[0m\n\u001b[0m",
      "\u001b[1;32m<ipython-input-1-4372dbc54ec3>\u001b[0m in \u001b[0;36mmake_code_tree\u001b[1;34m(left, right)\u001b[0m\n\u001b[0;32m      1\u001b[0m \u001b[1;32mdef\u001b[0m \u001b[0mmake_code_tree\u001b[0m\u001b[1;33m(\u001b[0m\u001b[0mleft\u001b[0m\u001b[1;33m,\u001b[0m \u001b[0mright\u001b[0m\u001b[1;33m)\u001b[0m\u001b[1;33m:\u001b[0m\u001b[1;33m\u001b[0m\u001b[0m\n\u001b[1;32m----> 2\u001b[1;33m     \u001b[1;32mreturn\u001b[0m \u001b[1;33m(\u001b[0m\u001b[0mleft\u001b[0m\u001b[1;33m,\u001b[0m \u001b[0mright\u001b[0m\u001b[1;33m,\u001b[0m \u001b[0mappend\u001b[0m\u001b[1;33m(\u001b[0m\u001b[0msymbols\u001b[0m\u001b[1;33m(\u001b[0m\u001b[0mleft\u001b[0m\u001b[1;33m)\u001b[0m\u001b[1;33m,\u001b[0m \u001b[0msymbols\u001b[0m\u001b[1;33m(\u001b[0m\u001b[0mright\u001b[0m\u001b[1;33m)\u001b[0m\u001b[1;33m)\u001b[0m\u001b[1;33m,\u001b[0m \u001b[0mweight\u001b[0m\u001b[1;33m(\u001b[0m\u001b[0mleft\u001b[0m\u001b[1;33m)\u001b[0m\u001b[1;33m+\u001b[0m\u001b[0mweight\u001b[0m\u001b[1;33m(\u001b[0m\u001b[0mright\u001b[0m\u001b[1;33m)\u001b[0m\u001b[1;33m)\u001b[0m\u001b[1;33m\u001b[0m\u001b[0m\n\u001b[0m\u001b[0;32m      3\u001b[0m \u001b[1;33m\u001b[0m\u001b[0m\n\u001b[0;32m      4\u001b[0m \u001b[1;32mdef\u001b[0m \u001b[0mleft_branch\u001b[0m\u001b[1;33m(\u001b[0m\u001b[0mtree\u001b[0m\u001b[1;33m)\u001b[0m\u001b[1;33m:\u001b[0m\u001b[1;33m\u001b[0m\u001b[0m\n\u001b[0;32m      5\u001b[0m     \u001b[1;32mreturn\u001b[0m \u001b[0mcar\u001b[0m\u001b[1;33m(\u001b[0m\u001b[0mtree\u001b[0m\u001b[1;33m)\u001b[0m\u001b[1;33m\u001b[0m\u001b[0m\n",
      "\u001b[1;31mNameError\u001b[0m: name 'append' is not defined"
     ]
    }
   ],
   "source": [
    "tree=make_code_tree(('leaf', ('A', None), 8), (('leaf', ('B', None), 3), ('leaf', ('E', None), 1), ('B', 'E'), 4))"
   ]
  },
  {
   "cell_type": "code",
   "execution_count": 3,
   "metadata": {},
   "outputs": [
    {
     "ename": "NameError",
     "evalue": "name 'cddr' is not defined",
     "output_type": "error",
     "traceback": [
      "\u001b[1;31m---------------------------------------------------------------------------\u001b[0m",
      "\u001b[1;31mNameError\u001b[0m                                 Traceback (most recent call last)",
      "\u001b[1;32m<ipython-input-3-3a4bf63c35dd>\u001b[0m in \u001b[0;36m<module>\u001b[1;34m()\u001b[0m\n\u001b[1;32m----> 1\u001b[1;33m \u001b[0mhelp\u001b[0m\u001b[1;33m(\u001b[0m\u001b[0mcddr\u001b[0m\u001b[1;33m)\u001b[0m\u001b[1;33m\u001b[0m\u001b[0m\n\u001b[0m",
      "\u001b[1;31mNameError\u001b[0m: name 'cddr' is not defined"
     ]
    }
   ],
   "source": [
    "help(cddr)"
   ]
  },
  {
   "cell_type": "code",
   "execution_count": null,
   "metadata": {},
   "outputs": [],
   "source": []
  },
  {
   "cell_type": "code",
   "execution_count": null,
   "metadata": {},
   "outputs": [],
   "source": []
  },
  {
   "cell_type": "code",
   "execution_count": 3,
   "metadata": {},
   "outputs": [
    {
     "data": {
      "text/plain": [
       "3000"
      ]
     },
     "execution_count": 3,
     "metadata": {},
     "output_type": "execute_result"
    }
   ],
   "source": [
    "import sys\n"
   ]
  }
 ],
 "metadata": {
  "kernelspec": {
   "display_name": "Python 3",
   "language": "python",
   "name": "python3"
  },
  "language_info": {
   "codemirror_mode": {
    "name": "ipython",
    "version": 3
   },
   "file_extension": ".py",
   "mimetype": "text/x-python",
   "name": "python",
   "nbconvert_exporter": "python",
   "pygments_lexer": "ipython3",
   "version": "3.6.4"
  }
 },
 "nbformat": 4,
 "nbformat_minor": 2
}
