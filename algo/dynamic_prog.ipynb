{
 "cells": [
  {
   "cell_type": "code",
   "execution_count": 34,
   "metadata": {},
   "outputs": [
    {
     "data": {
      "text/plain": [
       "3"
      ]
     },
     "execution_count": 34,
     "metadata": {},
     "output_type": "execute_result"
    }
   ],
   "source": [
    "def fib(n):\n",
    "    F = [-1]*(n+1)\n",
    "    F[0] = 0\n",
    "    F[1] = 1\n",
    "    for i in range(2, n+1):\n",
    "        F[i] = F[i - 1] + F[i - 2]\n",
    "    return F[n]\n",
    "\n",
    "fib(4)"
   ]
  },
  {
   "cell_type": "code",
   "execution_count": 6,
   "metadata": {},
   "outputs": [
    {
     "name": "stdout",
     "output_type": "stream",
     "text": [
      "[0, 1, 2, 3, 6, 11]\n"
     ]
    },
    {
     "data": {
      "text/plain": [
       "11"
      ]
     },
     "execution_count": 6,
     "metadata": {},
     "output_type": "execute_result"
    }
   ],
   "source": [
    "#Решите задачу о количестве способов достичь точки n из точки 1, если кузнечик умеет прыгать +1, +2 и +3.\n",
    "def kuz(n):\n",
    "    F = [-1]*(n+1)\n",
    "    F[0] = 0\n",
    "    F[1] = 1\n",
    "    F[2] = 2\n",
    "    for i in range(3, n+1):\n",
    "        F[i] = F[i - 1] + F[i - 2] + F[i - 3]\n",
    "    print( F)\n",
    "    return F[n]\n",
    "\n",
    "kuz(5)"
   ]
  },
  {
   "cell_type": "code",
   "execution_count": 37,
   "metadata": {},
   "outputs": [
    {
     "name": "stdout",
     "output_type": "stream",
     "text": [
      "else\n"
     ]
    },
    {
     "data": {
      "text/plain": [
       "6"
      ]
     },
     "execution_count": 37,
     "metadata": {},
     "output_type": "execute_result"
    }
   ],
   "source": [
    "#Решите задачу о количестве способов достичь точки n из точки 1, если кузнечик умеет прыгать +1, +2 и *3.\n",
    "def kuz(n):\n",
    "    F = [-1]*(n+1)\n",
    "    F[0] = 0\n",
    "    F[1] = 1\n",
    "    F[2] = 2\n",
    "    F[3] = 4\n",
    "    for i in range(4, n+1):\n",
    "        if i%3 == 0:\n",
    "            F[i] = F[i - 1] + F[i - 2] + F[int(i/3)]\n",
    "            print (F[i])\n",
    "        else:\n",
    "            F[i] = F[i - 1] + F[i - 2]\n",
    "            print(\"else\")\n",
    "    return F[n]\n",
    "\n",
    "kuz(4)"
   ]
  },
  {
   "cell_type": "code",
   "execution_count": 40,
   "metadata": {},
   "outputs": [
    {
     "data": {
      "text/plain": [
       "6"
      ]
     },
     "execution_count": 40,
     "metadata": {},
     "output_type": "execute_result"
    }
   ],
   "source": [
    "#Напишите функцию calculate_min_cost(n, price) вычисления наименьшей стоимость достижения клетки n из клетки 1\n",
    "def count_min_cost(N,price:list):\n",
    "    C = [0,price[1],price[1]+price[2]] + [0]*(N-2)\n",
    "    for i in range(3,N+1):\n",
    "        C[i]=price[i]+min(C[i-1],C[i-2]) #кузнечик прыгает на 1 или 2 клетки.\n",
    "    return C[N]\n",
    "\n",
    "count_min_cost(3,[1,1,2,5,4,2,1,2,3])"
   ]
  },
  {
   "cell_type": "code",
   "execution_count": 63,
   "metadata": {},
   "outputs": [
    {
     "name": "stdout",
     "output_type": "stream",
     "text": [
      "[0, 11, 11, 21, 15, 17]\n",
      "[0, 2, 4, 5]\n"
     ]
    },
    {
     "data": {
      "text/plain": [
       "17"
      ]
     },
     "execution_count": 63,
     "metadata": {},
     "output_type": "execute_result"
    }
   ],
   "source": [
    "#Модифицируйте алгоритм вычисления значений целевой функции так, чтобы вычислить значения prev[i], \n",
    "#и восстановите траекторию наименьшей стоимости из точки 1 в точку n.\n",
    "def path(N,price:list):\n",
    "    C = [0,price[1],price[1]+price[2]] + [0]*(N-2)\n",
    "    for i in range(3,N+1):\n",
    "        C[i]=price[i]+min(C[i-1],C[i-2]) #кузнечик прыгает на 1 или 2 клетки.\n",
    "    \n",
    "    print(C)\n",
    "    \n",
    "    path = [N]\n",
    "    i = N\n",
    "    while i != 0:\n",
    "        if C[i-1] < C[i-2]:\n",
    "            path.append(i-1)\n",
    "            i-=1\n",
    "        else:\n",
    "            path.append(i-2)\n",
    "            i-=2\n",
    "    print(path[::-1])\n",
    "    return C[N]\n",
    "\n",
    "path(5,[5,11,0,10,4,2,1,2,3])"
   ]
  },
  {
   "cell_type": "code",
   "execution_count": 91,
   "metadata": {},
   "outputs": [
    {
     "name": "stdout",
     "output_type": "stream",
     "text": [
      "- + + + +\n",
      "+ + - - -\n",
      "+ - + - -\n",
      "+ - - + -\n",
      "+ - - - +\n"
     ]
    }
   ],
   "source": [
    "#Реализовать алгоритм поиска выигрышных и проигрышных позиций в игре с ферзём на прямоугольном поле M на N, где N — высота, а M — ширина поля.\n",
    "\n",
    "def fer(N,M):\n",
    "    F = [[\"+\" if i==j or i*j == 0 else \" \" for j in range(M)] for i in range(N)]\n",
    "    F[0][0] = \"-\"\n",
    "    \n",
    "    C = [[\" \" for j in range(M)] for i in range(N)]\n",
    "    C[0][0]=\"d\"\n",
    "    C[1][0]=\"v\"\n",
    "    C[0][1]=\"g\"\n",
    "    \n",
    "    for i in range(1,N):\n",
    "        for j in range(1,M):\n",
    "            if C[i-1][j-1]==\"d\":\n",
    "                F[i][j] = \"+\"\n",
    "                C[i][j] = \"d\"\n",
    "            elif C[i][j-1]==\"v\":\n",
    "                F[i][j] = \"+\"\n",
    "                C[i][j] = \"v\"\n",
    "            elif C[i-1][j]==\"g\":\n",
    "                F[i][j] = \"+\"\n",
    "                C[i][j] = \"g\"\n",
    "            else:\n",
    "                F[i][j] = \"-\"\n",
    "    \n",
    "    for f in F:\n",
    "        print(*f)\n",
    "    \n",
    "fer(5,5)"
   ]
  },
  {
   "cell_type": "code",
   "execution_count": null,
   "metadata": {},
   "outputs": [],
   "source": []
  },
  {
   "cell_type": "code",
   "execution_count": null,
   "metadata": {},
   "outputs": [],
   "source": []
  },
  {
   "cell_type": "code",
   "execution_count": null,
   "metadata": {},
   "outputs": [],
   "source": []
  },
  {
   "cell_type": "code",
   "execution_count": null,
   "metadata": {},
   "outputs": [],
   "source": []
  }
 ],
 "metadata": {
  "kernelspec": {
   "display_name": "Python 3",
   "language": "python",
   "name": "python3"
  },
  "language_info": {
   "codemirror_mode": {
    "name": "ipython",
    "version": 3
   },
   "file_extension": ".py",
   "mimetype": "text/x-python",
   "name": "python",
   "nbconvert_exporter": "python",
   "pygments_lexer": "ipython3",
   "version": "3.6.4"
  }
 },
 "nbformat": 4,
 "nbformat_minor": 2
}
