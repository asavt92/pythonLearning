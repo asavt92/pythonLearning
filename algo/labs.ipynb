{
 "cells": [
  {
   "cell_type": "markdown",
   "metadata": {},
   "source": [
    "# http://judge.mipt.ru/mipt_cs_on_python3/labs/lab8.html"
   ]
  },
  {
   "cell_type": "code",
   "execution_count": 2,
   "metadata": {},
   "outputs": [],
   "source": [
    "import turtle\n",
    "\n",
    "def draw(l, n):\n",
    "    if n == 0:\n",
    "        return\n",
    "\n",
    "    x = l / (n + 1)\n",
    "    for i in range(n):\n",
    "        turtle.forward(x)\n",
    "        turtle.left(45)\n",
    "        draw(0.5 * x * (n - i - 1), n - i - 1)\n",
    "        turtle.left(90)\n",
    "        draw(0.5 * x * (n - i - 1), n - i - 1)\n",
    "        turtle.right(135)\n",
    "\n",
    "    turtle.forward(x)\n",
    "    turtle.left(180)\n",
    "    turtle.forward(l)\n",
    "\n",
    "draw(400, 2)"
   ]
  },
  {
   "cell_type": "code",
   "execution_count": 19,
   "metadata": {},
   "outputs": [],
   "source": [
    "import turtle\n",
    "turtle.speed('fastest')\n",
    "\n",
    "#Рисуем фракталы\n",
    "def draw(l, n):\n",
    "    if n == 0:\n",
    "        turtle.forward(l)\n",
    "        return\n",
    "    x = l/(3)\n",
    "    draw(x, n-1)\n",
    "    turtle.left(60)\n",
    "    draw(x, n-1)\n",
    "    turtle.right(120)\n",
    "    draw(x, n-1)\n",
    "    turtle.left(60)\n",
    "    draw(x, n-1)\n",
    "\n",
    "draw(300, 4)"
   ]
  },
  {
   "cell_type": "code",
   "execution_count": 2,
   "metadata": {},
   "outputs": [],
   "source": [
    "import turtle\n",
    "turtle.speed('fastest')\n",
    "\n",
    "def draw(l, n):\n",
    "    if n == 0:\n",
    "        turtle.forward(l)\n",
    "        return\n",
    "    x = l/(3)\n",
    "    draw(x, n-1)\n",
    "    turtle.left(60)\n",
    "    draw(x, n-1)\n",
    "    turtle.right(120)\n",
    "    draw(x, n-1)\n",
    "    turtle.left(60)\n",
    "    draw(x, n-1)\n",
    "\n",
    "# снежинкa Коха    \n",
    "def draw_snow(l,n):\n",
    "    for _ in range(3):\n",
    "        draw(l, n)\n",
    "        turtle.right(120)\n",
    "\n",
    "draw_snow(300,4)"
   ]
  },
  {
   "cell_type": "code",
   "execution_count": 23,
   "metadata": {},
   "outputs": [],
   "source": [
    "# снежинкa Коха \n",
    "import turtle\n",
    "\n",
    "koch_flake = \"FRFRF\"\n",
    "iterations = 2\n",
    "\n",
    "for i in range(iterations):\n",
    "    koch_flake = koch_flake.replace(\"F\",\"FLFRFLF\")\n",
    "\n",
    "turtle.down()\n",
    "\n",
    "for move in koch_flake:\n",
    "    if move == \"F\":\n",
    "        turtle.forward(100.0 / (3 ** (iterations - 1)))\n",
    "    elif move == \"L\":\n",
    "        turtle.left(60)\n",
    "    elif move == \"R\":\n",
    "        turtle.right(120)"
   ]
  },
  {
   "cell_type": "code",
   "execution_count": 8,
   "metadata": {},
   "outputs": [],
   "source": [
    "import turtle\n",
    "turtle.speed('fastest')\n",
    "\n",
    "def minovsky(l,n):\n",
    "    if n == 0:\n",
    "        turtle.forward(l)\n",
    "        return\n",
    "    \n",
    "    x = l/(8)\n",
    "    \n",
    "    minovsky(x,n-1)\n",
    "    turtle.left(90)\n",
    "    minovsky(x,n-1)\n",
    "    turtle.right(90)\n",
    "    minovsky(x,n-1)\n",
    "    turtle.right(90)\n",
    "    minovsky(x,n-1)\n",
    "    minovsky(x,n-1)\n",
    "    turtle.left(90)\n",
    "    minovsky(x,n-1)\n",
    "    turtle.left(90)\n",
    "    minovsky(x,n-1)\n",
    "    turtle.right(90)\n",
    "    minovsky(x,n-1)\n",
    "\n",
    "minovsky(800,3)"
   ]
  },
  {
   "cell_type": "code",
   "execution_count": 19,
   "metadata": {},
   "outputs": [],
   "source": [
    "import turtle\n",
    "turtle.speed('fastest')\n",
    "\n",
    "def levi(l,n):\n",
    "    if n == 0:\n",
    "        turtle.forward(l)\n",
    "        return\n",
    "    \n",
    "    x = l/2\n",
    "    turtle.left(45)\n",
    "    levi(x,n-1)\n",
    "    turtle.right(90)\n",
    "    levi(x,n-1)\n",
    "    turtle.left(45)\n",
    "\n",
    "levi(400,3)"
   ]
  },
  {
   "cell_type": "code",
   "execution_count": 39,
   "metadata": {},
   "outputs": [],
   "source": [
    "import turtle\n",
    "turtle.speed('fastest')\n",
    "\n",
    "def dragon(l,n,s=1):\n",
    "    if n == 0:\n",
    "        turtle.forward(l)\n",
    "        return\n",
    "    \n",
    "    x = l/2\n",
    "    turtle.right(45*s)\n",
    "    dragon(x,n-1,1)\n",
    "    turtle.left(90*s)\n",
    "    dragon(x,n-1,-1)\n",
    "    turtle.right(45*s)\n",
    "\n",
    "\n",
    "dragon(400,5)"
   ]
  },
  {
   "cell_type": "code",
   "execution_count": 71,
   "metadata": {},
   "outputs": [],
   "source": [
    "#??????????????????????????????????\n",
    "#канторово множество - не понял как реализовать с рекурсией \n",
    "\n",
    "import turtle\n",
    "turtle.speed('fastest')\n",
    "\n",
    "def cant(l,n,x=0,y=0):\n",
    "    if n == 0:\n",
    "        turtle.forward(l)\n",
    "        return\n",
    "    x = l*3\n",
    "    cant(x,n-1)\n",
    "    turtle.forward(x)\n",
    "    cant(x,n-1)\n",
    "\n",
    "cant(300,1)"
   ]
  },
  {
   "cell_type": "code",
   "execution_count": 47,
   "metadata": {},
   "outputs": [],
   "source": [
    "x = turtle.xcor()\n",
    "y = turtle.ycor()\n",
    "turtle.goto(x-200,y+120)"
   ]
  },
  {
   "cell_type": "code",
   "execution_count": 69,
   "metadata": {},
   "outputs": [],
   "source": [
    "#cantorovo через циклы\n",
    "\n",
    "import turtle\n",
    "turtle.speed('fastest')\n",
    "\n",
    "def cant_circle(l,n):\n",
    "    ss = [\"1\"]\n",
    "    for i in range(n):\n",
    "        s = ss[-1].replace(\"0\",\"000\")\n",
    "        s = s.replace(\"1\",\"101\")\n",
    "        ss.append(s)\n",
    "    \n",
    "    for actions in ss:\n",
    "        x = l/len(actions)\n",
    "        for act in actions:\n",
    "            if act == \"1\":\n",
    "                turtle.pendown()\n",
    "                turtle.forward(x)\n",
    "            if act == \"0\":\n",
    "                turtle.penup()\n",
    "                turtle.forward(x)\n",
    "        turtle.penup()\n",
    "        turtle.goto(0,turtle.ycor()-10)\n",
    "\n",
    "cant_circle(300,5)"
   ]
  },
  {
   "cell_type": "code",
   "execution_count": 40,
   "metadata": {},
   "outputs": [
    {
     "data": {
      "text/plain": [
       "[12, 3, 2, 1, 0, 0, 6, 3, 2, 1, 0, 0]"
      ]
     },
     "execution_count": 40,
     "metadata": {},
     "output_type": "execute_result"
    }
   ],
   "source": [
    "def z_func(s):\n",
    "    n = len(s)\n",
    "    z = [0]*(n)\n",
    "    \n",
    "    for i in range(n):\n",
    "        while i + z[i] < n and s[z[i]]==s[z[i]+i]:\n",
    "            z[i]+=1\n",
    "    return z\n",
    "    \n",
    "z_func(\"qweqweqwe\")\n",
    "\n",
    "#???? Для данной строки s найти строку p минимальной длины, такую что s можно предстваить как конкатенацию одной или нескольких копий p.\n",
    "def foo(s):\n",
    "    z = z_func(s)\n",
    "    for i in range(1,len(z)):\n",
    "        if z[i] != 0:\n",
    "            if len(z) - i != z[i]:\n",
    "                return False\n",
    "    return True\n",
    "\n",
    "z_func(\"qqqqwwqqqqww\")"
   ]
  },
  {
   "cell_type": "code",
   "execution_count": 43,
   "metadata": {},
   "outputs": [
    {
     "data": {
      "text/plain": [
       "[10, 2, 1, 0, 0, 5, 2, 1, 0, 0]"
      ]
     },
     "execution_count": 43,
     "metadata": {},
     "output_type": "execute_result"
    }
   ],
   "source": [
    ">>> def zfun(s):\n",
    "...     out = []\n",
    "...     if not s: return out\n",
    "...     i, slen = 1, len(s)\n",
    "...     out.append(slen)\n",
    "...     while i < slen:\n",
    "...         left, right = 0, i\n",
    "...         while right < slen and s[left] == s[right]:\n",
    "...             left += 1\n",
    "...             right += 1\n",
    "...         out.append(left)\n",
    "...         i += 1\n",
    "...     return out\n",
    "\n",
    "zfun(\"qqqweqqqwe\")"
   ]
  },
  {
   "cell_type": "code",
   "execution_count": null,
   "metadata": {},
   "outputs": [],
   "source": []
  },
  {
   "cell_type": "code",
   "execution_count": null,
   "metadata": {},
   "outputs": [],
   "source": []
  },
  {
   "cell_type": "code",
   "execution_count": null,
   "metadata": {},
   "outputs": [],
   "source": []
  }
 ],
 "metadata": {
  "kernelspec": {
   "display_name": "Python 3",
   "language": "python",
   "name": "python3"
  },
  "language_info": {
   "codemirror_mode": {
    "name": "ipython",
    "version": 3
   },
   "file_extension": ".py",
   "mimetype": "text/x-python",
   "name": "python",
   "nbconvert_exporter": "python",
   "pygments_lexer": "ipython3",
   "version": "3.6.4"
  }
 },
 "nbformat": 4,
 "nbformat_minor": 2
}
