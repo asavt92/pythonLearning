{
 "cells": [
  {
   "cell_type": "markdown",
   "metadata": {},
   "source": [
    "# Base \n",
    "Bite code https://www.coursera.org/learn/programming-in-python/lecture/LlnDU/baitkod"
   ]
  },
  {
   "cell_type": "code",
   "execution_count": 5,
   "metadata": {},
   "outputs": [
    {
     "name": "stdout",
     "output_type": "stream",
     "text": [
      "байт код b'|\\x02j\\x00d\\x01d\\x02\\x83\\x02\\x01\\x00t\\x01d\\x03|\\x00f\\x02d\\x04|\\x01i\\x01|\\x02\\x97\\x02\\x8e\\x01S\\x00'\n",
      " 71           0 LOAD_FAST                2 (kwargs)\n",
      "              2 LOAD_ATTR                0 (setdefault)\n",
      "              4 LOAD_CONST               1 ('allow_redirects')\n",
      "              6 LOAD_CONST               2 (True)\n",
      "              8 CALL_FUNCTION            2\n",
      "             10 POP_TOP\n",
      "\n",
      " 72          12 LOAD_GLOBAL              1 (request)\n",
      "             14 LOAD_CONST               3 ('get')\n",
      "             16 LOAD_FAST                0 (url)\n",
      "             18 BUILD_TUPLE              2\n",
      "             20 LOAD_CONST               4 ('params')\n",
      "             22 LOAD_FAST                1 (params)\n",
      "             24 BUILD_MAP                1\n",
      "             26 LOAD_FAST                2 (kwargs)\n",
      "             28 BUILD_MAP_UNPACK_WITH_CALL     2\n",
      "             30 CALL_FUNCTION_EX         1\n",
      "             32 RETURN_VALUE\n"
     ]
    }
   ],
   "source": [
    "import dis\n",
    "import requests\n",
    "\n",
    "print(\"байт код\", requests.get.__code__.co_code)\n",
    "dis.dis(requests.get)"
   ]
  },
  {
   "cell_type": "code",
   "execution_count": 8,
   "metadata": {},
   "outputs": [
    {
     "name": "stdout",
     "output_type": "stream",
     "text": [
      "байт код b'|\\x00|\\x01\\x17\\x00S\\x00'\n",
      "  2           0 LOAD_FAST                0 (a)\n",
      "              2 LOAD_FAST                1 (b)\n",
      "              4 BINARY_ADD\n",
      "              6 RETURN_VALUE\n"
     ]
    }
   ],
   "source": [
    "def summator_1(a,b):\n",
    "    return(a+b)\n",
    "\n",
    "print(\"байт код\",summator_1.__code__.co_code)\n",
    "dis.dis(summator_1)"
   ]
  },
  {
   "cell_type": "code",
   "execution_count": 9,
   "metadata": {},
   "outputs": [
    {
     "data": {
      "text/plain": [
       "{'BEFORE_ASYNC_WITH': 52,\n",
       " 'BINARY_ADD': 23,\n",
       " 'BINARY_AND': 64,\n",
       " 'BINARY_FLOOR_DIVIDE': 26,\n",
       " 'BINARY_LSHIFT': 62,\n",
       " 'BINARY_MATRIX_MULTIPLY': 16,\n",
       " 'BINARY_MODULO': 22,\n",
       " 'BINARY_MULTIPLY': 20,\n",
       " 'BINARY_OR': 66,\n",
       " 'BINARY_POWER': 19,\n",
       " 'BINARY_RSHIFT': 63,\n",
       " 'BINARY_SUBSCR': 25,\n",
       " 'BINARY_SUBTRACT': 24,\n",
       " 'BINARY_TRUE_DIVIDE': 27,\n",
       " 'BINARY_XOR': 65,\n",
       " 'BREAK_LOOP': 80,\n",
       " 'BUILD_CONST_KEY_MAP': 156,\n",
       " 'BUILD_LIST': 103,\n",
       " 'BUILD_LIST_UNPACK': 149,\n",
       " 'BUILD_MAP': 105,\n",
       " 'BUILD_MAP_UNPACK': 150,\n",
       " 'BUILD_MAP_UNPACK_WITH_CALL': 151,\n",
       " 'BUILD_SET': 104,\n",
       " 'BUILD_SET_UNPACK': 153,\n",
       " 'BUILD_SLICE': 133,\n",
       " 'BUILD_STRING': 157,\n",
       " 'BUILD_TUPLE': 102,\n",
       " 'BUILD_TUPLE_UNPACK': 152,\n",
       " 'BUILD_TUPLE_UNPACK_WITH_CALL': 158,\n",
       " 'CALL_FUNCTION': 131,\n",
       " 'CALL_FUNCTION_EX': 142,\n",
       " 'CALL_FUNCTION_KW': 141,\n",
       " 'COMPARE_OP': 107,\n",
       " 'CONTINUE_LOOP': 119,\n",
       " 'DELETE_ATTR': 96,\n",
       " 'DELETE_DEREF': 138,\n",
       " 'DELETE_FAST': 126,\n",
       " 'DELETE_GLOBAL': 98,\n",
       " 'DELETE_NAME': 91,\n",
       " 'DELETE_SUBSCR': 61,\n",
       " 'DUP_TOP': 4,\n",
       " 'DUP_TOP_TWO': 5,\n",
       " 'END_FINALLY': 88,\n",
       " 'EXTENDED_ARG': 144,\n",
       " 'FORMAT_VALUE': 155,\n",
       " 'FOR_ITER': 93,\n",
       " 'GET_AITER': 50,\n",
       " 'GET_ANEXT': 51,\n",
       " 'GET_AWAITABLE': 73,\n",
       " 'GET_ITER': 68,\n",
       " 'GET_YIELD_FROM_ITER': 69,\n",
       " 'IMPORT_FROM': 109,\n",
       " 'IMPORT_NAME': 108,\n",
       " 'IMPORT_STAR': 84,\n",
       " 'INPLACE_ADD': 55,\n",
       " 'INPLACE_AND': 77,\n",
       " 'INPLACE_FLOOR_DIVIDE': 28,\n",
       " 'INPLACE_LSHIFT': 75,\n",
       " 'INPLACE_MATRIX_MULTIPLY': 17,\n",
       " 'INPLACE_MODULO': 59,\n",
       " 'INPLACE_MULTIPLY': 57,\n",
       " 'INPLACE_OR': 79,\n",
       " 'INPLACE_POWER': 67,\n",
       " 'INPLACE_RSHIFT': 76,\n",
       " 'INPLACE_SUBTRACT': 56,\n",
       " 'INPLACE_TRUE_DIVIDE': 29,\n",
       " 'INPLACE_XOR': 78,\n",
       " 'JUMP_ABSOLUTE': 113,\n",
       " 'JUMP_FORWARD': 110,\n",
       " 'JUMP_IF_FALSE_OR_POP': 111,\n",
       " 'JUMP_IF_TRUE_OR_POP': 112,\n",
       " 'LIST_APPEND': 145,\n",
       " 'LOAD_ATTR': 106,\n",
       " 'LOAD_BUILD_CLASS': 71,\n",
       " 'LOAD_CLASSDEREF': 148,\n",
       " 'LOAD_CLOSURE': 135,\n",
       " 'LOAD_CONST': 100,\n",
       " 'LOAD_DEREF': 136,\n",
       " 'LOAD_FAST': 124,\n",
       " 'LOAD_GLOBAL': 116,\n",
       " 'LOAD_NAME': 101,\n",
       " 'MAKE_FUNCTION': 132,\n",
       " 'MAP_ADD': 147,\n",
       " 'NOP': 9,\n",
       " 'POP_BLOCK': 87,\n",
       " 'POP_EXCEPT': 89,\n",
       " 'POP_JUMP_IF_FALSE': 114,\n",
       " 'POP_JUMP_IF_TRUE': 115,\n",
       " 'POP_TOP': 1,\n",
       " 'PRINT_EXPR': 70,\n",
       " 'RAISE_VARARGS': 130,\n",
       " 'RETURN_VALUE': 83,\n",
       " 'ROT_THREE': 3,\n",
       " 'ROT_TWO': 2,\n",
       " 'SETUP_ANNOTATIONS': 85,\n",
       " 'SETUP_ASYNC_WITH': 154,\n",
       " 'SETUP_EXCEPT': 121,\n",
       " 'SETUP_FINALLY': 122,\n",
       " 'SETUP_LOOP': 120,\n",
       " 'SETUP_WITH': 143,\n",
       " 'SET_ADD': 146,\n",
       " 'STORE_ANNOTATION': 127,\n",
       " 'STORE_ATTR': 95,\n",
       " 'STORE_DEREF': 137,\n",
       " 'STORE_FAST': 125,\n",
       " 'STORE_GLOBAL': 97,\n",
       " 'STORE_NAME': 90,\n",
       " 'STORE_SUBSCR': 60,\n",
       " 'UNARY_INVERT': 15,\n",
       " 'UNARY_NEGATIVE': 11,\n",
       " 'UNARY_NOT': 12,\n",
       " 'UNARY_POSITIVE': 10,\n",
       " 'UNPACK_EX': 94,\n",
       " 'UNPACK_SEQUENCE': 92,\n",
       " 'WITH_CLEANUP_FINISH': 82,\n",
       " 'WITH_CLEANUP_START': 81,\n",
       " 'YIELD_FROM': 72,\n",
       " 'YIELD_VALUE': 86}"
      ]
     },
     "execution_count": 9,
     "metadata": {},
     "output_type": "execute_result"
    }
   ],
   "source": [
    "import opcode\n",
    "#список инструкций байт код\n",
    "opcode.opmap"
   ]
  },
  {
   "cell_type": "code",
   "execution_count": 10,
   "metadata": {},
   "outputs": [],
   "source": [
    "def mult_1(num):\n",
    "    def inner(a):\n",
    "        return(a*num)\n",
    "    return(inner)"
   ]
  },
  {
   "cell_type": "code",
   "execution_count": 13,
   "metadata": {},
   "outputs": [
    {
     "data": {
      "text/plain": [
       "6"
      ]
     },
     "execution_count": 13,
     "metadata": {},
     "output_type": "execute_result"
    }
   ],
   "source": [
    "m = mult_1(2)\n",
    "m(3)"
   ]
  },
  {
   "cell_type": "code",
   "execution_count": 20,
   "metadata": {},
   "outputs": [
    {
     "data": {
      "text/plain": [
       "['0', '1', '2', '3', '4']"
      ]
     },
     "execution_count": 20,
     "metadata": {},
     "output_type": "execute_result"
    }
   ],
   "source": [
    "l = [i for i in range(5)]\n",
    "s = list(map(str, l))\n",
    "s"
   ]
  },
  {
   "cell_type": "code",
   "execution_count": 25,
   "metadata": {},
   "outputs": [
    {
     "data": {
      "text/plain": [
       "25"
      ]
     },
     "execution_count": 25,
     "metadata": {},
     "output_type": "execute_result"
    }
   ],
   "source": [
    "from functools import partial\n",
    "\n",
    "def mult_1(a,b):\n",
    "    return(a*b)\n",
    "\n",
    "foo = partial(mult_1, b =5 )\n",
    "foo(5)"
   ]
  },
  {
   "cell_type": "markdown",
   "metadata": {},
   "source": [
    "# Generator"
   ]
  },
  {
   "cell_type": "code",
   "execution_count": 29,
   "metadata": {},
   "outputs": [
    {
     "data": {
      "text/plain": [
       "[0, 4, 8, 12]"
      ]
     },
     "execution_count": 29,
     "metadata": {},
     "output_type": "execute_result"
    }
   ],
   "source": [
    "def range_4(start,stop):\n",
    "    current = start\n",
    "    while(current < stop):        \n",
    "        yield(current)\n",
    "        current+=4\n",
    "        \n",
    "[i for i in range_4(0,15)]"
   ]
  },
  {
   "cell_type": "code",
   "execution_count": 39,
   "metadata": {},
   "outputs": [
    {
     "name": "stdout",
     "output_type": "stream",
     "text": [
      "0\n",
      "4\n",
      "8\n"
     ]
    }
   ],
   "source": [
    "ff = range_4(0,12)\n",
    "\n",
    "while(True):\n",
    "    try: \n",
    "        print(next(ff))\n",
    "    except:\n",
    "        break"
   ]
  },
  {
   "cell_type": "markdown",
   "metadata": {},
   "source": [
    "# Classes"
   ]
  },
  {
   "cell_type": "code",
   "execution_count": 64,
   "metadata": {},
   "outputs": [
    {
     "name": "stdout",
     "output_type": "stream",
     "text": [
      "new obj\n",
      "init obj\n",
      "(34234234,)\n",
      "(3333,)\n"
     ]
    }
   ],
   "source": [
    "class Clazz():\n",
    "    def __new__(cls,name):\n",
    "        print(\"new obj\")\n",
    "        return super(Clazz, cls).__new__(cls)\n",
    "        \n",
    "    \n",
    "    def __init__(self,name):\n",
    "        print(\"init obj\")\n",
    "        _name = name\n",
    "    \n",
    "    @classmethod\n",
    "    def class_foo(cls,*args):\n",
    "        print(args)\n",
    "        \n",
    "    @staticmethod\n",
    "    def static_met(*args):\n",
    "        print(args)\n",
    "    \n",
    "o = Clazz(\"dsfds\")\n",
    "\n",
    "Clazz.class_foo(34234234)\n",
    "\n",
    "Clazz.static_met(3333)"
   ]
  },
  {
   "cell_type": "code",
   "execution_count": null,
   "metadata": {},
   "outputs": [],
   "source": []
  },
  {
   "cell_type": "code",
   "execution_count": null,
   "metadata": {},
   "outputs": [],
   "source": []
  },
  {
   "cell_type": "code",
   "execution_count": null,
   "metadata": {},
   "outputs": [],
   "source": []
  },
  {
   "cell_type": "code",
   "execution_count": null,
   "metadata": {},
   "outputs": [],
   "source": []
  },
  {
   "cell_type": "code",
   "execution_count": null,
   "metadata": {},
   "outputs": [],
   "source": []
  },
  {
   "cell_type": "code",
   "execution_count": null,
   "metadata": {},
   "outputs": [],
   "source": []
  },
  {
   "cell_type": "code",
   "execution_count": null,
   "metadata": {},
   "outputs": [],
   "source": []
  },
  {
   "cell_type": "code",
   "execution_count": null,
   "metadata": {},
   "outputs": [],
   "source": []
  },
  {
   "cell_type": "code",
   "execution_count": null,
   "metadata": {},
   "outputs": [],
   "source": []
  },
  {
   "cell_type": "code",
   "execution_count": null,
   "metadata": {},
   "outputs": [],
   "source": []
  }
 ],
 "metadata": {
  "kernelspec": {
   "display_name": "Python 3",
   "language": "python",
   "name": "python3"
  },
  "language_info": {
   "codemirror_mode": {
    "name": "ipython",
    "version": 3
   },
   "file_extension": ".py",
   "mimetype": "text/x-python",
   "name": "python",
   "nbconvert_exporter": "python",
   "pygments_lexer": "ipython3",
   "version": "3.6.4"
  }
 },
 "nbformat": 4,
 "nbformat_minor": 2
}
