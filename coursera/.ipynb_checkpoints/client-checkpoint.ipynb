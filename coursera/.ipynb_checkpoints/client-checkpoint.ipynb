{
 "cells": [
  {
   "cell_type": "code",
   "execution_count": 23,
   "metadata": {},
   "outputs": [
    {
     "ename": "TypeError",
     "evalue": "must be str, not bytes",
     "output_type": "error",
     "traceback": [
      "\u001b[1;31m---------------------------------------------------------------------------\u001b[0m",
      "\u001b[1;31mTypeError\u001b[0m                                 Traceback (most recent call last)",
      "\u001b[1;32m<ipython-input-23-aee884a9a385>\u001b[0m in \u001b[0;36m<module>\u001b[1;34m()\u001b[0m\n\u001b[0;32m     50\u001b[0m \u001b[0mclient\u001b[0m\u001b[1;33m.\u001b[0m\u001b[0mput\u001b[0m\u001b[1;33m(\u001b[0m\u001b[1;34m\"eardrum.memory\"\u001b[0m\u001b[1;33m,\u001b[0m \u001b[1;36m4200000\u001b[0m\u001b[1;33m)\u001b[0m\u001b[1;33m\u001b[0m\u001b[0m\n\u001b[0;32m     51\u001b[0m \u001b[1;33m\u001b[0m\u001b[0m\n\u001b[1;32m---> 52\u001b[1;33m \u001b[0mprint\u001b[0m\u001b[1;33m(\u001b[0m\u001b[0mclient\u001b[0m\u001b[1;33m.\u001b[0m\u001b[0mget\u001b[0m\u001b[1;33m(\u001b[0m\u001b[1;34m\"*\"\u001b[0m\u001b[1;33m)\u001b[0m\u001b[1;33m)\u001b[0m\u001b[1;33m\u001b[0m\u001b[0m\n\u001b[0m",
      "\u001b[1;32m<ipython-input-23-aee884a9a385>\u001b[0m in \u001b[0;36mget\u001b[1;34m(self, name)\u001b[0m\n\u001b[0;32m     33\u001b[0m             \u001b[1;32mif\u001b[0m \u001b[1;32mnot\u001b[0m \u001b[0mdata\u001b[0m\u001b[1;33m:\u001b[0m\u001b[1;33m\u001b[0m\u001b[0m\n\u001b[0;32m     34\u001b[0m                 \u001b[1;32mbreak\u001b[0m\u001b[1;33m\u001b[0m\u001b[0m\n\u001b[1;32m---> 35\u001b[1;33m             \u001b[0mdatas\u001b[0m \u001b[1;33m+=\u001b[0m \u001b[0mdata\u001b[0m\u001b[1;33m\u001b[0m\u001b[0m\n\u001b[0m\u001b[0;32m     36\u001b[0m         \u001b[1;32mreturn\u001b[0m \u001b[0mdatas\u001b[0m\u001b[1;33m\u001b[0m\u001b[0m\n\u001b[0;32m     37\u001b[0m \u001b[1;33m\u001b[0m\u001b[0m\n",
      "\u001b[1;31mTypeError\u001b[0m: must be str, not bytes"
     ]
    }
   ],
   "source": [
    "# создание сокета, клиент\n",
    "\n",
    "import socket\n",
    "import time\n",
    "\n",
    "class Client():\n",
    "    \n",
    "    def __init__(self, url, port,timeout=None):\n",
    "        self.sock = socket.socket()\n",
    "        self.sock.settimeout(timeout)\n",
    "        self.sock.connect((str(url), port))\n",
    "        \n",
    "    def put(self,name,metric,timestamp = None):\n",
    "        times = timestamp or time.time()\n",
    "        message = \"put\" + str(name) + str(metric) + str(times) + \"\\n\"\n",
    "        self.sock.sendall(message.encode(\"utf8\"))\n",
    "        try:\n",
    "            data = self.sock.recv(1024)\n",
    "            if \"ok\" in str(data):\n",
    "                pass\n",
    "            else:\n",
    "                raise Exception\n",
    "        except:\n",
    "            raise Exception\n",
    "                \n",
    "        \n",
    "    def get(self, name):\n",
    "        message = \"get\" + str(name) + \"\\n\"\n",
    "        self.sock.sendall(message.encode(\"utf8\"))\n",
    "        datas = \"\"\n",
    "        while True:\n",
    "            data = self.sock.recv(1024)\n",
    "            if not data:\n",
    "                break\n",
    "            datas += str(data)\n",
    "        return datas\n",
    "        \n",
    "    def __del__(self):\n",
    "        self.sock.close()\n",
    "\n",
    "        \n",
    "client = Client(\"127.0.0.1\", 8889, timeout=15)\n",
    "\n",
    "client.put(\"palm.cpu\", 0.5, timestamp=1150864247)\n",
    "client.put(\"palm.cpu\", 2.0, timestamp=1150864248)\n",
    "client.put(\"palm.cpu\", 0.5, timestamp=1150864248)\n",
    "\n",
    "client.put(\"eardrum.cpu\", 3, timestamp=1150864250)\n",
    "client.put(\"eardrum.cpu\", 4, timestamp=1150864251)\n",
    "client.put(\"eardrum.memory\", 4200000)\n",
    "\n",
    "print(client.get(\"*\"))"
   ]
  },
  {
   "cell_type": "code",
   "execution_count": 13,
   "metadata": {},
   "outputs": [],
   "source": [
    "sock = socket.socket()\n",
    "sock."
   ]
  }
 ],
 "metadata": {
  "kernelspec": {
   "display_name": "Python 3",
   "language": "python",
   "name": "python3"
  },
  "language_info": {
   "codemirror_mode": {
    "name": "ipython",
    "version": 3
   },
   "file_extension": ".py",
   "mimetype": "text/x-python",
   "name": "python",
   "nbconvert_exporter": "python",
   "pygments_lexer": "ipython3",
   "version": "3.6.4"
  }
 },
 "nbformat": 4,
 "nbformat_minor": 2
}
