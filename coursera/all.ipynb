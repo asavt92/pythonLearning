{
 "cells": [
  {
   "cell_type": "markdown",
   "metadata": {},
   "source": [
    "# Base \n",
    "Bite code https://www.coursera.org/learn/programming-in-python/lecture/LlnDU/baitkod"
   ]
  },
  {
   "cell_type": "code",
   "execution_count": 5,
   "metadata": {},
   "outputs": [
    {
     "name": "stdout",
     "output_type": "stream",
     "text": [
      "байт код b'|\\x02j\\x00d\\x01d\\x02\\x83\\x02\\x01\\x00t\\x01d\\x03|\\x00f\\x02d\\x04|\\x01i\\x01|\\x02\\x97\\x02\\x8e\\x01S\\x00'\n",
      " 71           0 LOAD_FAST                2 (kwargs)\n",
      "              2 LOAD_ATTR                0 (setdefault)\n",
      "              4 LOAD_CONST               1 ('allow_redirects')\n",
      "              6 LOAD_CONST               2 (True)\n",
      "              8 CALL_FUNCTION            2\n",
      "             10 POP_TOP\n",
      "\n",
      " 72          12 LOAD_GLOBAL              1 (request)\n",
      "             14 LOAD_CONST               3 ('get')\n",
      "             16 LOAD_FAST                0 (url)\n",
      "             18 BUILD_TUPLE              2\n",
      "             20 LOAD_CONST               4 ('params')\n",
      "             22 LOAD_FAST                1 (params)\n",
      "             24 BUILD_MAP                1\n",
      "             26 LOAD_FAST                2 (kwargs)\n",
      "             28 BUILD_MAP_UNPACK_WITH_CALL     2\n",
      "             30 CALL_FUNCTION_EX         1\n",
      "             32 RETURN_VALUE\n"
     ]
    }
   ],
   "source": [
    "import dis\n",
    "import requests\n",
    "\n",
    "print(\"байт код\", requests.get.__code__.co_code)\n",
    "dis.dis(requests.get)"
   ]
  },
  {
   "cell_type": "code",
   "execution_count": 8,
   "metadata": {},
   "outputs": [
    {
     "name": "stdout",
     "output_type": "stream",
     "text": [
      "байт код b'|\\x00|\\x01\\x17\\x00S\\x00'\n",
      "  2           0 LOAD_FAST                0 (a)\n",
      "              2 LOAD_FAST                1 (b)\n",
      "              4 BINARY_ADD\n",
      "              6 RETURN_VALUE\n"
     ]
    }
   ],
   "source": [
    "def summator_1(a,b):\n",
    "    return(a+b)\n",
    "\n",
    "print(\"байт код\",summator_1.__code__.co_code)\n",
    "dis.dis(summator_1)"
   ]
  },
  {
   "cell_type": "code",
   "execution_count": 9,
   "metadata": {},
   "outputs": [
    {
     "data": {
      "text/plain": [
       "{'BEFORE_ASYNC_WITH': 52,\n",
       " 'BINARY_ADD': 23,\n",
       " 'BINARY_AND': 64,\n",
       " 'BINARY_FLOOR_DIVIDE': 26,\n",
       " 'BINARY_LSHIFT': 62,\n",
       " 'BINARY_MATRIX_MULTIPLY': 16,\n",
       " 'BINARY_MODULO': 22,\n",
       " 'BINARY_MULTIPLY': 20,\n",
       " 'BINARY_OR': 66,\n",
       " 'BINARY_POWER': 19,\n",
       " 'BINARY_RSHIFT': 63,\n",
       " 'BINARY_SUBSCR': 25,\n",
       " 'BINARY_SUBTRACT': 24,\n",
       " 'BINARY_TRUE_DIVIDE': 27,\n",
       " 'BINARY_XOR': 65,\n",
       " 'BREAK_LOOP': 80,\n",
       " 'BUILD_CONST_KEY_MAP': 156,\n",
       " 'BUILD_LIST': 103,\n",
       " 'BUILD_LIST_UNPACK': 149,\n",
       " 'BUILD_MAP': 105,\n",
       " 'BUILD_MAP_UNPACK': 150,\n",
       " 'BUILD_MAP_UNPACK_WITH_CALL': 151,\n",
       " 'BUILD_SET': 104,\n",
       " 'BUILD_SET_UNPACK': 153,\n",
       " 'BUILD_SLICE': 133,\n",
       " 'BUILD_STRING': 157,\n",
       " 'BUILD_TUPLE': 102,\n",
       " 'BUILD_TUPLE_UNPACK': 152,\n",
       " 'BUILD_TUPLE_UNPACK_WITH_CALL': 158,\n",
       " 'CALL_FUNCTION': 131,\n",
       " 'CALL_FUNCTION_EX': 142,\n",
       " 'CALL_FUNCTION_KW': 141,\n",
       " 'COMPARE_OP': 107,\n",
       " 'CONTINUE_LOOP': 119,\n",
       " 'DELETE_ATTR': 96,\n",
       " 'DELETE_DEREF': 138,\n",
       " 'DELETE_FAST': 126,\n",
       " 'DELETE_GLOBAL': 98,\n",
       " 'DELETE_NAME': 91,\n",
       " 'DELETE_SUBSCR': 61,\n",
       " 'DUP_TOP': 4,\n",
       " 'DUP_TOP_TWO': 5,\n",
       " 'END_FINALLY': 88,\n",
       " 'EXTENDED_ARG': 144,\n",
       " 'FORMAT_VALUE': 155,\n",
       " 'FOR_ITER': 93,\n",
       " 'GET_AITER': 50,\n",
       " 'GET_ANEXT': 51,\n",
       " 'GET_AWAITABLE': 73,\n",
       " 'GET_ITER': 68,\n",
       " 'GET_YIELD_FROM_ITER': 69,\n",
       " 'IMPORT_FROM': 109,\n",
       " 'IMPORT_NAME': 108,\n",
       " 'IMPORT_STAR': 84,\n",
       " 'INPLACE_ADD': 55,\n",
       " 'INPLACE_AND': 77,\n",
       " 'INPLACE_FLOOR_DIVIDE': 28,\n",
       " 'INPLACE_LSHIFT': 75,\n",
       " 'INPLACE_MATRIX_MULTIPLY': 17,\n",
       " 'INPLACE_MODULO': 59,\n",
       " 'INPLACE_MULTIPLY': 57,\n",
       " 'INPLACE_OR': 79,\n",
       " 'INPLACE_POWER': 67,\n",
       " 'INPLACE_RSHIFT': 76,\n",
       " 'INPLACE_SUBTRACT': 56,\n",
       " 'INPLACE_TRUE_DIVIDE': 29,\n",
       " 'INPLACE_XOR': 78,\n",
       " 'JUMP_ABSOLUTE': 113,\n",
       " 'JUMP_FORWARD': 110,\n",
       " 'JUMP_IF_FALSE_OR_POP': 111,\n",
       " 'JUMP_IF_TRUE_OR_POP': 112,\n",
       " 'LIST_APPEND': 145,\n",
       " 'LOAD_ATTR': 106,\n",
       " 'LOAD_BUILD_CLASS': 71,\n",
       " 'LOAD_CLASSDEREF': 148,\n",
       " 'LOAD_CLOSURE': 135,\n",
       " 'LOAD_CONST': 100,\n",
       " 'LOAD_DEREF': 136,\n",
       " 'LOAD_FAST': 124,\n",
       " 'LOAD_GLOBAL': 116,\n",
       " 'LOAD_NAME': 101,\n",
       " 'MAKE_FUNCTION': 132,\n",
       " 'MAP_ADD': 147,\n",
       " 'NOP': 9,\n",
       " 'POP_BLOCK': 87,\n",
       " 'POP_EXCEPT': 89,\n",
       " 'POP_JUMP_IF_FALSE': 114,\n",
       " 'POP_JUMP_IF_TRUE': 115,\n",
       " 'POP_TOP': 1,\n",
       " 'PRINT_EXPR': 70,\n",
       " 'RAISE_VARARGS': 130,\n",
       " 'RETURN_VALUE': 83,\n",
       " 'ROT_THREE': 3,\n",
       " 'ROT_TWO': 2,\n",
       " 'SETUP_ANNOTATIONS': 85,\n",
       " 'SETUP_ASYNC_WITH': 154,\n",
       " 'SETUP_EXCEPT': 121,\n",
       " 'SETUP_FINALLY': 122,\n",
       " 'SETUP_LOOP': 120,\n",
       " 'SETUP_WITH': 143,\n",
       " 'SET_ADD': 146,\n",
       " 'STORE_ANNOTATION': 127,\n",
       " 'STORE_ATTR': 95,\n",
       " 'STORE_DEREF': 137,\n",
       " 'STORE_FAST': 125,\n",
       " 'STORE_GLOBAL': 97,\n",
       " 'STORE_NAME': 90,\n",
       " 'STORE_SUBSCR': 60,\n",
       " 'UNARY_INVERT': 15,\n",
       " 'UNARY_NEGATIVE': 11,\n",
       " 'UNARY_NOT': 12,\n",
       " 'UNARY_POSITIVE': 10,\n",
       " 'UNPACK_EX': 94,\n",
       " 'UNPACK_SEQUENCE': 92,\n",
       " 'WITH_CLEANUP_FINISH': 82,\n",
       " 'WITH_CLEANUP_START': 81,\n",
       " 'YIELD_FROM': 72,\n",
       " 'YIELD_VALUE': 86}"
      ]
     },
     "execution_count": 9,
     "metadata": {},
     "output_type": "execute_result"
    }
   ],
   "source": [
    "import opcode\n",
    "#список инструкций байт код\n",
    "opcode.opmap"
   ]
  },
  {
   "cell_type": "code",
   "execution_count": 10,
   "metadata": {},
   "outputs": [],
   "source": [
    "def mult_1(num):\n",
    "    def inner(a):\n",
    "        return(a*num)\n",
    "    return(inner)"
   ]
  },
  {
   "cell_type": "code",
   "execution_count": 13,
   "metadata": {},
   "outputs": [
    {
     "data": {
      "text/plain": [
       "6"
      ]
     },
     "execution_count": 13,
     "metadata": {},
     "output_type": "execute_result"
    }
   ],
   "source": [
    "m = mult_1(2)\n",
    "m(3)"
   ]
  },
  {
   "cell_type": "code",
   "execution_count": 20,
   "metadata": {},
   "outputs": [
    {
     "data": {
      "text/plain": [
       "['0', '1', '2', '3', '4']"
      ]
     },
     "execution_count": 20,
     "metadata": {},
     "output_type": "execute_result"
    }
   ],
   "source": [
    "l = [i for i in range(5)]\n",
    "s = list(map(str, l))\n",
    "s"
   ]
  },
  {
   "cell_type": "code",
   "execution_count": 25,
   "metadata": {},
   "outputs": [
    {
     "data": {
      "text/plain": [
       "25"
      ]
     },
     "execution_count": 25,
     "metadata": {},
     "output_type": "execute_result"
    }
   ],
   "source": [
    "from functools import partial\n",
    "\n",
    "def mult_1(a,b):\n",
    "    return(a*b)\n",
    "\n",
    "foo = partial(mult_1, b =5 )\n",
    "foo(5)"
   ]
  },
  {
   "cell_type": "markdown",
   "metadata": {},
   "source": [
    "# Generator"
   ]
  },
  {
   "cell_type": "code",
   "execution_count": 29,
   "metadata": {},
   "outputs": [
    {
     "data": {
      "text/plain": [
       "[0, 4, 8, 12]"
      ]
     },
     "execution_count": 29,
     "metadata": {},
     "output_type": "execute_result"
    }
   ],
   "source": [
    "def range_4(start,stop):\n",
    "    current = start\n",
    "    while(current < stop):        \n",
    "        yield(current)\n",
    "        current+=4\n",
    "        \n",
    "[i for i in range_4(0,15)]"
   ]
  },
  {
   "cell_type": "code",
   "execution_count": 39,
   "metadata": {},
   "outputs": [
    {
     "name": "stdout",
     "output_type": "stream",
     "text": [
      "0\n",
      "4\n",
      "8\n"
     ]
    }
   ],
   "source": [
    "ff = range_4(0,12)\n",
    "\n",
    "while(True):\n",
    "    try: \n",
    "        print(next(ff))\n",
    "    except:\n",
    "        break"
   ]
  },
  {
   "cell_type": "markdown",
   "metadata": {},
   "source": [
    "# Classes"
   ]
  },
  {
   "cell_type": "code",
   "execution_count": 72,
   "metadata": {},
   "outputs": [
    {
     "name": "stdout",
     "output_type": "stream",
     "text": [
      "new obj\n",
      "init obj\n",
      "war\n",
      "(34234234,)\n",
      "(3333,)\n"
     ]
    }
   ],
   "source": [
    "class Clazz():\n",
    "    def __new__(cls,name=None):\n",
    "        print(\"new obj\")\n",
    "        return super(Clazz, cls).__new__(cls)\n",
    "        \n",
    "    \n",
    "    def __init__(self,name=None):\n",
    "        print(\"init obj\")\n",
    "        self._name = name or \"war\"\n",
    "    \n",
    "    @classmethod\n",
    "    def class_foo(cls,*args):\n",
    "        print(args)\n",
    "        \n",
    "    @staticmethod\n",
    "    def static_met(*args):\n",
    "        print(args)\n",
    "    \n",
    "o = Clazz()\n",
    "print(o._name)\n",
    "Clazz.class_foo(34234234)\n",
    "\n",
    "Clazz.static_met(3333)"
   ]
  },
  {
   "cell_type": "markdown",
   "metadata": {},
   "source": [
    "# Property"
   ]
  },
  {
   "cell_type": "code",
   "execution_count": 100,
   "metadata": {},
   "outputs": [
    {
     "name": "stdout",
     "output_type": "stream",
     "text": [
      "{'_OurClass__OurAtt': 1000}\n",
      "1000\n",
      "{}\n"
     ]
    }
   ],
   "source": [
    "class OurClass:\n",
    "\n",
    "    def __init__(self, a):\n",
    "        self.OurAtt = a\n",
    "\n",
    "    @property\n",
    "    def OurAtt(self):\n",
    "        return self.__OurAtt\n",
    "\n",
    "    @OurAtt.setter\n",
    "    def OurAtt(self, val):\n",
    "        if val < 0:\n",
    "            self.__OurAtt = 0\n",
    "        elif val > 1000:\n",
    "            self.__OurAtt = 1000\n",
    "        else:\n",
    "            self.__OurAtt = val\n",
    "\n",
    "    @OurAtt.deleter\n",
    "    def OurAtt(self):\n",
    "        del (self.__OurAtt)\n",
    "\n",
    "x = OurClass(10)\n",
    "x.OurAtt = 330000\n",
    "print(x.__dict__)\n",
    "print(x.OurAtt)\n",
    "\n",
    "del x.OurAtt\n",
    "print(x.__dict__)"
   ]
  },
  {
   "cell_type": "code",
   "execution_count": 104,
   "metadata": {},
   "outputs": [
    {
     "name": "stdout",
     "output_type": "stream",
     "text": [
      "[Errno 2] No such file or directory: 'example.txt'\n",
      "+\n"
     ]
    }
   ],
   "source": [
    "class FileReader():\n",
    "    def __init__(self, path):\n",
    "        self.path = path\n",
    "    \n",
    "    def read(self):\n",
    "        try:\n",
    "            with open(self.path, \"r\") as f:\n",
    "                result = \"\".join(f.readlines())\n",
    "            return(result)\n",
    "        except IOError as err:\n",
    "            print(err)\n",
    "            return(\"+\")\n",
    "\n",
    "\n",
    "reader = FileReader(\"example.txt\")\n",
    "print(reader.read())"
   ]
  },
  {
   "cell_type": "markdown",
   "metadata": {},
   "source": [
    "# Задачка на наследование "
   ]
  },
  {
   "cell_type": "code",
   "execution_count": 189,
   "metadata": {},
   "outputs": [
    {
     "name": "stdout",
     "output_type": "stream",
     "text": [
      "{'brand': 'Nissan xTtrail', 'photo_file_name': 'f1.jpeg', 'carrying': '2.5', 'passenger_seats_count': '4'}\n",
      "{'brand': 'Man', 'photo_file_name': 'f2.png', 'carrying': '20', 'body_whl': '8x3x2.5'}\n",
      "{'brand': 'Mazda 6', 'photo_file_name': 'f3.jpeg', 'carrying': '2.5', 'passenger_seats_count': '4'}\n",
      "{'brand': 'Hitachi', 'photo_file_name': 'f4', 'carrying': '1.2', 'extra': 'Р›РµРіРєР°СЏ С‚РµС…РЅРёРєР° РґР»СЏ СѓР±РѕСЂРєРё СЃРЅРµРіР°'}\n"
     ]
    }
   ],
   "source": [
    "class CarBase:\n",
    "    def __init__(self, brand=None, photo_file_name=None, carrying=None):\n",
    "        self.brand = brand\n",
    "        self.photo_file_name = photo_file_name\n",
    "        self.carrying = carrying\n",
    "\n",
    "\n",
    "class Car(CarBase):\n",
    "    def __init__(self, brand, photo_file_name, carrying, passenger_seats_count, *args, **kwargs):\n",
    "        super().__init__( brand, photo_file_name, carrying)\n",
    "        self.passenger_seats_count = passenger_seats_count\n",
    "\n",
    "\n",
    "class Truck(CarBase):\n",
    "    def __init__(self, brand, photo_file_name, carrying, body_whl, *args, **kwargs):\n",
    "        super().__init__( brand, photo_file_name, carrying)\n",
    "        self.body_whl = body_whl\n",
    "\n",
    "\n",
    "class SpecMachine(CarBase):\n",
    "    def __init__(self, brand, photo_file_name, carrying, extra, *args, **kwargs):\n",
    "        super().__init__( brand, photo_file_name, carrying)\n",
    "        self.extra = extra\n",
    "\n",
    "constr = {\"car\":Car,\"truck\":Truck,\"spec_machine\":SpecMachine}\n",
    "\n",
    "def get_car_list(csv_filename):\n",
    "    car_list = []\n",
    "    with open(csv_filename) as f_obj:\n",
    "        reader = csv.DictReader(f_obj, delimiter=';')\n",
    "        for line in reader:\n",
    "            try:\n",
    "                dictionary = {k:line[k] for k in dict(line) if line[k] != \"\"}\n",
    "                car = constr[line[\"car_type\"]](**dict(dictionary))\n",
    "                car_list.append(car)\n",
    "            except:\n",
    "                pass\n",
    "        \n",
    "    return car_list\n",
    "\n",
    "if __name__ == \"__main__\":\n",
    "    cars = get_car_list(\"car.csv\")\n",
    "    for car in cars:\n",
    "        print(car.__dict__)\n"
   ]
  },
  {
   "cell_type": "markdown",
   "metadata": {},
   "source": [
    "# Context Manager \n",
    "Timer"
   ]
  },
  {
   "cell_type": "code",
   "execution_count": 197,
   "metadata": {},
   "outputs": [
    {
     "name": "stdout",
     "output_type": "stream",
     "text": [
      "1.0448987483978271\n"
     ]
    }
   ],
   "source": [
    "import time \n",
    "\n",
    "class timer():\n",
    "    def __init__(self):\n",
    "        self.start = time.time()\n",
    "        \n",
    "    def __enter__(self):\n",
    "        pass\n",
    "    \n",
    "    def __exit__(self,*args):\n",
    "        print(time.time()-self.start)\n",
    "        \n",
    "if __name__ == \"__main__\":\n",
    "    with timer():\n",
    "        time.sleep(1)\n",
    "        for i in range(10**5):\n",
    "            a = i**2"
   ]
  },
  {
   "cell_type": "markdown",
   "metadata": {},
   "source": [
    "# Magic methods \n",
    "В этом задании вам нужно создать интерфейс для работы с файлами. Класс File должен поддерживать несколько необычных операций.\n",
    "\n",
    "Класс инициализируется полным путем.\n",
    "\n",
    "\n",
    "\u0001\u0001\n",
    "Класс должен поддерживать метод write.\n",
    "\n",
    "\n",
    "\u0001\u0001\n",
    "Объекты типа File должны поддерживать сложение.\n",
    "\n",
    "\n",
    "\u0001\u0001\n",
    "В этом случае создается новый файл и файловый объект, в котором содержимое второго файла добавляется к содержимому первого файла. Новый файл должен создаваться в директории, полученной с помощью tempfile.gettempdir. Для получения нового пути можно использовать os.path.join.\n",
    "\n",
    "Объекты типа File должны поддерживать протокол итерации, причем итерация проходит по строкам файла.\n",
    "\n",
    "\n",
    "\u0001\u0001\n",
    "И наконец, при выводе файла с помощью функции print должен печататься его полный путь, переданный при инициализации.\n",
    "\n",
    "\n",
    "\u0001\u0001\n"
   ]
  },
  {
   "cell_type": "code",
   "execution_count": 234,
   "metadata": {},
   "outputs": [],
   "source": [
    "import os\n",
    "import tempfile\n",
    "\n",
    "class File():\n",
    "    def __init__(self, path):\n",
    "        self.path = os.path.join(tempfile.gettempdir(), path)\n",
    "        try:\n",
    "            with open(self.path, \"r\") as f:\n",
    "                self.texts = f.readlines()\n",
    "        except Exception as e:\n",
    "            print(e)\n",
    "            self.texts = None\n",
    "        self.current = 0\n",
    "    \n",
    "    def __iter__(self):\n",
    "        return self\n",
    "    \n",
    "    def __next__(self):\n",
    "        if self.current >= len(self.texts):\n",
    "            raise StopIteration\n",
    "        result = self.texts[self.current]\n",
    "        self.current += 1\n",
    "        return(result)\n",
    "\n",
    "    \n",
    "    def write(self, text):\n",
    "        with open(self.path, \"a\") as f:\n",
    "            f.write(text)"
   ]
  },
  {
   "cell_type": "code",
   "execution_count": 209,
   "metadata": {},
   "outputs": [
    {
     "data": {
      "text/plain": [
       "'C:\\\\Users\\\\Alex\\\\AppData\\\\Local\\\\Temp'"
      ]
     },
     "execution_count": 209,
     "metadata": {},
     "output_type": "execute_result"
    }
   ],
   "source": [
    "tempfile.TemporaryDirectory(dir = r'C:/Users/Alex/Desktop/Обучение/Python/coursera/').name\n",
    " def __enter__(self):\n",
    "        return self.f\n",
    "    \n",
    "    def __exit__(self, *args):\n",
    "        self.f.close()"
   ]
  },
  {
   "cell_type": "code",
   "execution_count": 244,
   "metadata": {},
   "outputs": [],
   "source": [
    "ffff = File(\"1.txt\")\n",
    "ffff.write(\"fdfdfdfdff\\n\")\n",
    "ffff.write(\"fdfdfdfdff\\n\")\n",
    "ffff.write(\"fdfdfdfdff\")"
   ]
  },
  {
   "cell_type": "code",
   "execution_count": 245,
   "metadata": {},
   "outputs": [
    {
     "name": "stdout",
     "output_type": "stream",
     "text": [
      "fdfdfdfdfffdfdfdfdfffdfdfdfdfffdfdfdfdfffdfdfdfdfffdfdfdfdfffdfdfdfdfffdfdfdfdff\n",
      "\n",
      "fdfdfdfdff\n",
      "\n",
      "fdfdfdfdfffdfdfdfdff\n",
      "\n",
      "fdfdfdfdff\n",
      "\n",
      "fdfdfdfdff\n"
     ]
    }
   ],
   "source": [
    "ffff = File(\"1.txt\")\n",
    "for f in ffff:\n",
    "    print(f)"
   ]
  },
  {
   "cell_type": "markdown",
   "metadata": {},
   "source": [
    "# Descriptors\n",
    "Часто при зачислении каких-то средств на счет с нас берут комиссию. Давайте реализуем похожий механизм с помощью дескрипторов. Напишите дескриптор Value, который будет использоваться в нашем классе Account.\n",
    "\n",
    "\n",
    "\u0001\u0001\n",
    "У аккаунта будет атрибут commission. Именно эту коммиссию и нужно вычитать при присваивании значений в amount.\n",
    "\n",
    "\n",
    "\u0001\u0001\n"
   ]
  },
  {
   "cell_type": "code",
   "execution_count": 250,
   "metadata": {},
   "outputs": [],
   "source": [
    "class Value:\n",
    "    def __get__(self, obj, obj_type):\n",
    "        return(self.value*(1-obj.commission))\n",
    "    \n",
    "    def __set__(self, obj, value):\n",
    "        self.value = value\n",
    "\n",
    "class Account:\n",
    "    amount = Value()\n",
    "    \n",
    "    def __init__(self, commission):\n",
    "        self.commission = commission\n"
   ]
  },
  {
   "cell_type": "code",
   "execution_count": 253,
   "metadata": {},
   "outputs": [
    {
     "name": "stdout",
     "output_type": "stream",
     "text": [
      "606.0\n"
     ]
    }
   ],
   "source": [
    "new_account = Account(0.4)\n",
    "new_account.amount = 1010\n",
    "\n",
    "print(new_account.amount)"
   ]
  },
  {
   "cell_type": "markdown",
   "metadata": {},
   "source": [
    "# PDB Отладка\n",
    "\n",
    "!python -m pdb script_name.py"
   ]
  },
  {
   "cell_type": "code",
   "execution_count": 254,
   "metadata": {},
   "outputs": [
    {
     "name": "stdout",
     "output_type": "stream",
     "text": [
      "--Call--\n",
      "> c:\\users\\alex\\anaconda3\\lib\\site-packages\\ipython\\core\\displayhook.py(247)__call__()\n",
      "-> def __call__(self, result=None):\n",
      "*** NameError: name 'h' is not defined\n",
      "247  ->\t    def __call__(self, result=None):\n",
      "248  \t        \"\"\"Printing with history cache management.\n",
      "249  \t\n",
      "250  \t        This is invoked everytime the interpreter needs to print, and is\n",
      "251  \t        activated by setting the variable sys.displayhook to it.\n",
      "252  \t        \"\"\"\n",
      "253  \t        self.check_for_underscore()\n",
      "254  \t        if result is not None and not self.quiet():\n",
      "255  \t            self.start_displayhook()\n",
      "256  \t            self.write_output_prompt()\n",
      "257  \t            format_dict, md_dict = self.compute_format_data(result)\n",
      "258  \t            self.update_user_ns(result)\n",
      "259  \t            self.fill_exec_result(result)\n",
      "260  \t            if format_dict:\n",
      "261  \t                self.write_format_data(format_dict, md_dict)\n",
      "262  \t                self.log_output(format_dict)\n",
      "263  \t            self.finish_displayhook()\n",
      "\n",
      "Documented commands (type help <topic>):\n",
      "========================================\n",
      "EOF    c          d        h         list      q        rv       undisplay\n",
      "a      cl         debug    help      ll        quit     s        unt      \n",
      "alias  clear      disable  ignore    longlist  r        source   until    \n",
      "args   commands   display  interact  n         restart  step     up       \n",
      "b      condition  down     j         next      return   tbreak   w        \n",
      "break  cont       enable   jump      p         retval   u        whatis   \n",
      "bt     continue   exit     l         pp        run      unalias  where    \n",
      "\n",
      "Miscellaneous help topics:\n",
      "==========================\n",
      "exec  pdb\n",
      "\n",
      "p expression\n",
      "        Print the value of the expression.\n",
      "self = <ipykernel.displayhook.ZMQShellDisplayHook object at 0x00000140CFB1B9E8>\n",
      "result = None\n"
     ]
    }
   ],
   "source": [
    "import pdb\n",
    "pdb.set_trace()"
   ]
  },
  {
   "cell_type": "code",
   "execution_count": null,
   "metadata": {},
   "outputs": [],
   "source": []
  },
  {
   "cell_type": "code",
   "execution_count": null,
   "metadata": {},
   "outputs": [],
   "source": []
  },
  {
   "cell_type": "code",
   "execution_count": null,
   "metadata": {},
   "outputs": [],
   "source": []
  }
 ],
 "metadata": {
  "kernelspec": {
   "display_name": "Python 3",
   "language": "python",
   "name": "python3"
  },
  "language_info": {
   "codemirror_mode": {
    "name": "ipython",
    "version": 3
   },
   "file_extension": ".py",
   "mimetype": "text/x-python",
   "name": "python",
   "nbconvert_exporter": "python",
   "pygments_lexer": "ipython3",
   "version": "3.6.4"
  }
 },
 "nbformat": 4,
 "nbformat_minor": 2
}
