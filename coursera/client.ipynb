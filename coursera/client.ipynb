{
 "cells": [
  {
   "cell_type": "code",
   "execution_count": 38,
   "metadata": {},
   "outputs": [
    {
     "name": "stdout",
     "output_type": "stream",
     "text": [
      "b'palm.cpu 0.5 1150864247.0\\npalm.cpu 2.0 1150864248.0\\npalm.cpu 0.5 1150864248.0\\neardrum.cpu 3.0 1150864250.0\\neardrum.cpu 4.0 1150864251.0\\neardrum.memory 4200000.0 1526142658.7329304\\n'\n"
     ]
    }
   ],
   "source": [
    "# создание сокета, клиент\n",
    "\n",
    "import socket\n",
    "import time\n",
    "\n",
    "class Client():\n",
    "    \n",
    "    def __init__(self, url, port,timeout=None):\n",
    "        self.sock = socket.socket()\n",
    "        self.sock.settimeout(timeout)\n",
    "        self.sock.connect((str(url), port))\n",
    "        \n",
    "    def put(self,name,metric,timestamp = None):\n",
    "        times = timestamp or time.time()\n",
    "        message = \"put \" + str(name) + \" \" + str(metric) + \" \" + str(times) + \"\\n\"\n",
    "        self.sock.sendall(message.encode(\"utf8\"))\n",
    "        try:\n",
    "            data = self.sock.recv(1024)\n",
    "            if \"ok\" in str(data):\n",
    "                pass\n",
    "            else:\n",
    "                raise Exception\n",
    "        except:\n",
    "            raise Exception\n",
    "                \n",
    "        \n",
    "    def get(self, name):\n",
    "        message = \"get \" + str(name) + \"\\n\"\n",
    "        self.sock.sendall(message.encode(\"utf8\"))\n",
    "        datas = \"\"\n",
    "        \n",
    "        data = self.sock.recv(1024)\n",
    "        datas += str(data)\n",
    "        return datas\n",
    "        \n",
    "    def __del__(self):\n",
    "        self.sock.close()\n",
    "\n",
    "        \n",
    "client = Client(\"127.0.0.1\", 8889, timeout=15)\n",
    "\n",
    "client.put(\"palm.cpu\", 0.5, timestamp=1150864247)\n",
    "client.put(\"palm.cpu\", 2.0, timestamp=1150864248)\n",
    "client.put(\"palm.cpu\", 0.5, timestamp=1150864248)\n",
    "\n",
    "client.put(\"eardrum.cpu\", 3, timestamp=1150864250)\n",
    "client.put(\"eardrum.cpu\", 4, timestamp=1150864251)\n",
    "client.put(\"eardrum.memory\", 4200000)\n",
    "\n",
    "print(client.get(\"*\"))\n"
   ]
  },
  {
   "cell_type": "code",
   "execution_count": 35,
   "metadata": {},
   "outputs": [
    {
     "ename": "TypeError",
     "evalue": "a bytes-like object is required, not 'NoneType'",
     "output_type": "error",
     "traceback": [
      "\u001b[1;31m---------------------------------------------------------------------------\u001b[0m",
      "\u001b[1;31mTypeError\u001b[0m                                 Traceback (most recent call last)",
      "\u001b[1;32m<ipython-input-35-fc2a76b25aa3>\u001b[0m in \u001b[0;36m<module>\u001b[1;34m()\u001b[0m\n\u001b[1;32m----> 1\u001b[1;33m \u001b[0mclient\u001b[0m\u001b[1;33m.\u001b[0m\u001b[0msock\u001b[0m\u001b[1;33m.\u001b[0m\u001b[0msendall\u001b[0m\u001b[1;33m(\u001b[0m\u001b[1;32mNone\u001b[0m\u001b[1;33m)\u001b[0m\u001b[1;33m\u001b[0m\u001b[0m\n\u001b[0m",
      "\u001b[1;31mTypeError\u001b[0m: a bytes-like object is required, not 'NoneType'"
     ]
    }
   ],
   "source": [
    "client.sock.sendall(None)"
   ]
  }
 ],
 "metadata": {
  "kernelspec": {
   "display_name": "Python 3",
   "language": "python",
   "name": "python3"
  },
  "language_info": {
   "codemirror_mode": {
    "name": "ipython",
    "version": 3
   },
   "file_extension": ".py",
   "mimetype": "text/x-python",
   "name": "python",
   "nbconvert_exporter": "python",
   "pygments_lexer": "ipython3",
   "version": "3.6.4"
  }
 },
 "nbformat": 4,
 "nbformat_minor": 2
}
