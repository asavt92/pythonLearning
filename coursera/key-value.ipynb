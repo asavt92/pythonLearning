{
 "cells": [
  {
   "cell_type": "markdown",
   "metadata": {},
   "source": [
    "а этой неделе мы с вами реализуем собственный key-value storage. Вашей задачей будет написать скрипт, который принимает в качестве аргументов ключи и значения и выводит информацию из хранилища (в нашем случае — из файла).\n",
    "\n",
    "Запись значения по ключу\n",
    "\n",
    "> storage.py --key key_name --val value\n",
    "\n",
    "Получение значения по ключу\n",
    "\n",
    "> storage.py --key key_name\n",
    "\n",
    "Ответом в данном случае будет вывод с помощью print соответствующего значения\n",
    "\n",
    "> value\n",
    "\n",
    "или\n",
    "\n",
    "> value_1, value_2\n",
    "\n",
    "если значений по этому ключу было записано несколько. Метрики сохраняйте в порядке их добавления. Обратите внимание на пробел после запятой.\n",
    "\n",
    "Если значений по ключу не было найдено, выводите пустую строку или None.\n",
    "\n",
    "Для работы с аргументами командной строки используйте модуль argparse. Вашей задачей будет считать аргументы, переданные вашей программе, и записать соответствующую пару ключ-значение в файл хранилища или вывести значения, если был передан только ключ. Хранить данные вы можете в формате JSON с помощью стандартного модуля json. Проверьте добавление нескольких ключей и разных значений.\n",
    "\n",
    "Файл следует создавать с помощью модуля tempfile."
   ]
  },
  {
   "cell_type": "code",
   "execution_count": 60,
   "metadata": {},
   "outputs": [
    {
     "name": "stdout",
     "output_type": "stream",
     "text": [
      "\n"
     ]
    }
   ],
   "source": [
    "import os\n",
    "import tempfile\n",
    "\n",
    "data = {\"key11\":111}\n",
    "a = json.dumps(data,sort_keys=True, indent=4)\n",
    "\n",
    "storage_path = os.path.join(tempfile.gettempdir(), 'storage.data')\n",
    "with open(storage_path, 'w+') as f:\n",
    "    #f.writelines(a)\n",
    "    f.mode = \"r+\"\n",
    "    print(\"\".join(f.readlines()))\n",
    "    #print(f.readline())"
   ]
  },
  {
   "cell_type": "code",
   "execution_count": 23,
   "metadata": {},
   "outputs": [
    {
     "data": {
      "text/plain": [
       "'C:\\\\Users\\\\Alex\\\\AppData\\\\Local\\\\Temp'"
      ]
     },
     "execution_count": 23,
     "metadata": {},
     "output_type": "execute_result"
    }
   ],
   "source": [
    "tempfile.gettempdir()"
   ]
  },
  {
   "cell_type": "code",
   "execution_count": 43,
   "metadata": {},
   "outputs": [
    {
     "data": {
      "text/plain": [
       "1"
      ]
     },
     "execution_count": 43,
     "metadata": {},
     "output_type": "execute_result"
    }
   ],
   "source": [
    "import json\n",
    "\n",
    "data = {\"key\":1}\n",
    "\n",
    "a = json.dumps(data,sort_keys=True, indent=4)\n",
    "b = json.loads(a)\n",
    "\n",
    "data.update([(\"1\", 2)])\n",
    "data.get(\"key\")"
   ]
  },
  {
   "cell_type": "markdown",
   "metadata": {},
   "source": [
    "# Decorator JSON"
   ]
  },
  {
   "cell_type": "code",
   "execution_count": 73,
   "metadata": {},
   "outputs": [
    {
     "data": {
      "text/plain": [
       "'[0, 1, 4, 9, 16]'"
      ]
     },
     "execution_count": 73,
     "metadata": {},
     "output_type": "execute_result"
    }
   ],
   "source": [
    "@to_json\n",
    "def get_data():\n",
    "  return({'data': 42})\n",
    "\n",
    "@to_json\n",
    "def func(a):\n",
    "    return([i**2 for i in range(a)])\n",
    "    \n",
    "get_data()  # вернёт '{\"data\": 42}'\n",
    "func(5)"
   ]
  },
  {
   "cell_type": "code",
   "execution_count": 70,
   "metadata": {},
   "outputs": [],
   "source": [
    "import json\n",
    "\n",
    "def to_json(func):\n",
    "    def wrapper(*args, **kwargs):\n",
    "        return(json.dumps(func(*args, **kwargs)))     \n",
    "    return(wrapper)\n"
   ]
  },
  {
   "cell_type": "code",
   "execution_count": null,
   "metadata": {},
   "outputs": [],
   "source": []
  },
  {
   "cell_type": "code",
   "execution_count": null,
   "metadata": {},
   "outputs": [],
   "source": []
  }
 ],
 "metadata": {
  "kernelspec": {
   "display_name": "Python 3",
   "language": "python",
   "name": "python3"
  },
  "language_info": {
   "codemirror_mode": {
    "name": "ipython",
    "version": 3
   },
   "file_extension": ".py",
   "mimetype": "text/x-python",
   "name": "python",
   "nbconvert_exporter": "python",
   "pygments_lexer": "ipython3",
   "version": "3.6.4"
  }
 },
 "nbformat": 4,
 "nbformat_minor": 2
}
