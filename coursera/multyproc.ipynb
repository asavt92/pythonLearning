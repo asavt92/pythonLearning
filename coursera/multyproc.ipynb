{
 "cells": [
  {
   "cell_type": "code",
   "execution_count": 1,
   "metadata": {},
   "outputs": [
    {
     "name": "stdout",
     "output_type": "stream",
     "text": [
      "7684 1525627761.394312\n",
      "7684 1525627763.3949795\n",
      "7684 1525627765.3951387\n",
      "7684 1525627767.3960238\n",
      "7684 1525627769.396175\n",
      "7684 1525627771.3970401\n",
      "7684 1525627773.3980389\n",
      "7684 1525627775.398619\n",
      "7684 1525627777.398928\n",
      "7684 1525627779.3996093\n",
      "7684 1525627781.4005213\n",
      "7684 1525627783.4013705\n",
      "7684 1525627785.4022417\n"
     ]
    },
    {
     "ename": "KeyboardInterrupt",
     "evalue": "",
     "output_type": "error",
     "traceback": [
      "\u001b[1;31m---------------------------------------------------------------------------\u001b[0m",
      "\u001b[1;31mKeyboardInterrupt\u001b[0m                         Traceback (most recent call last)",
      "\u001b[1;32m<ipython-input-1-0040e9ccbbf0>\u001b[0m in \u001b[0;36m<module>\u001b[1;34m()\u001b[0m\n\u001b[0;32m      8\u001b[0m \u001b[1;32mwhile\u001b[0m \u001b[1;32mTrue\u001b[0m\u001b[1;33m:\u001b[0m\u001b[1;33m\u001b[0m\u001b[0m\n\u001b[0;32m      9\u001b[0m     \u001b[0mprint\u001b[0m\u001b[1;33m(\u001b[0m\u001b[0mpid\u001b[0m\u001b[1;33m,\u001b[0m \u001b[0mtime\u001b[0m\u001b[1;33m.\u001b[0m\u001b[0mtime\u001b[0m\u001b[1;33m(\u001b[0m\u001b[1;33m)\u001b[0m\u001b[1;33m)\u001b[0m\u001b[1;33m\u001b[0m\u001b[0m\n\u001b[1;32m---> 10\u001b[1;33m     \u001b[0mtime\u001b[0m\u001b[1;33m.\u001b[0m\u001b[0msleep\u001b[0m\u001b[1;33m(\u001b[0m\u001b[1;36m2\u001b[0m\u001b[1;33m)\u001b[0m\u001b[1;33m\u001b[0m\u001b[0m\n\u001b[0m",
      "\u001b[1;31mKeyboardInterrupt\u001b[0m: "
     ]
    }
   ],
   "source": [
    "# простой Python процесс\n",
    "\n",
    "import time\n",
    "import os\n",
    "\n",
    "pid = os.getpid()\n",
    "\n",
    "while True:\n",
    "    print(pid, time.time())\n",
    "    time.sleep(2)"
   ]
  },
  {
   "cell_type": "code",
   "execution_count": 2,
   "metadata": {},
   "outputs": [
    {
     "ename": "AttributeError",
     "evalue": "module 'os' has no attribute 'fork'",
     "output_type": "error",
     "traceback": [
      "\u001b[1;31m---------------------------------------------------------------------------\u001b[0m",
      "\u001b[1;31mAttributeError\u001b[0m                            Traceback (most recent call last)",
      "\u001b[1;32m<ipython-input-2-ae8e57ed3deb>\u001b[0m in \u001b[0;36m<module>\u001b[1;34m()\u001b[0m\n\u001b[0;32m      4\u001b[0m \u001b[1;32mimport\u001b[0m \u001b[0mos\u001b[0m\u001b[1;33m\u001b[0m\u001b[0m\n\u001b[0;32m      5\u001b[0m \u001b[1;33m\u001b[0m\u001b[0m\n\u001b[1;32m----> 6\u001b[1;33m \u001b[0mpid\u001b[0m \u001b[1;33m=\u001b[0m \u001b[0mos\u001b[0m\u001b[1;33m.\u001b[0m\u001b[0mfork\u001b[0m\u001b[1;33m(\u001b[0m\u001b[1;33m)\u001b[0m\u001b[1;33m\u001b[0m\u001b[0m\n\u001b[0m\u001b[0;32m      7\u001b[0m \u001b[1;32mif\u001b[0m \u001b[0mpid\u001b[0m \u001b[1;33m==\u001b[0m \u001b[1;36m0\u001b[0m\u001b[1;33m:\u001b[0m\u001b[1;33m\u001b[0m\u001b[0m\n\u001b[0;32m      8\u001b[0m     \u001b[1;31m# дочерний процесс\u001b[0m\u001b[1;33m\u001b[0m\u001b[1;33m\u001b[0m\u001b[0m\n",
      "\u001b[1;31mAttributeError\u001b[0m: module 'os' has no attribute 'fork'"
     ]
    }
   ],
   "source": [
    "# Создание процесса на Python\n",
    "\n",
    "import time\n",
    "import os\n",
    "\n",
    "pid = os.fork()\n",
    "if pid == 0:\n",
    "    # дочерний процесс\n",
    "    while True:\n",
    "        print(\"child:\", os.getpid())\n",
    "        time.sleep(5)\n",
    "else:\n",
    "    # родительский процесс\n",
    "    print(\"parent:\", os.getpid())\n",
    "    os.wait()"
   ]
  },
  {
   "cell_type": "code",
   "execution_count": 5,
   "metadata": {},
   "outputs": [],
   "source": [
    "# Создание процесса, модуль multiprocessing\n",
    "\n",
    "from multiprocessing import Process\n",
    "\n",
    "def f(name):\n",
    "    print(\"hello\", name)\n",
    "\n",
    "p = Process(target=f, args=(\"Bob\",))\n",
    "p.start()\n",
    "p.join()"
   ]
  },
  {
   "cell_type": "code",
   "execution_count": 6,
   "metadata": {},
   "outputs": [],
   "source": [
    "# Создание процесса, модуль multiprocessing\n",
    "\n",
    "from multiprocessing import Process\n",
    "\n",
    "class PrintProcess(Process):\n",
    "    def __init__(self, name):\n",
    "        super().__init__()\n",
    "        self.name = name\n",
    "\n",
    "    def run(self):\n",
    "        print(\"hello\", self.name)\n",
    "\n",
    "p = PrintProcess(\"Mike\")\n",
    "p.start()\n",
    "p.join()"
   ]
  },
  {
   "cell_type": "code",
   "execution_count": 7,
   "metadata": {},
   "outputs": [
    {
     "name": "stdout",
     "output_type": "stream",
     "text": [
      "hello Bob\n"
     ]
    }
   ],
   "source": [
    "# Создание потока\n",
    "\n",
    "from threading import Thread\n",
    "\n",
    "def f(name):\n",
    "    print(\"hello\", name)\n",
    "\n",
    "th = Thread(target=f, args=(\"Bob\",))\n",
    "th.start()\n",
    "th.join()"
   ]
  },
  {
   "cell_type": "code",
   "execution_count": 8,
   "metadata": {},
   "outputs": [
    {
     "name": "stdout",
     "output_type": "stream",
     "text": [
      "hello Mike\n"
     ]
    }
   ],
   "source": [
    "# Создание потока\n",
    "\n",
    "from threading import Thread\n",
    "\n",
    "class PrintThread(Thread):\n",
    "    def __init__(self, name):\n",
    "        super().__init__()\n",
    "        self.name = name\n",
    "\n",
    "    def run(self):\n",
    "        print(\"hello\", self.name)\n",
    "\n",
    "th = PrintThread(\"Mike\")\n",
    "th.start()\n",
    "th.join()"
   ]
  },
  {
   "cell_type": "code",
   "execution_count": 15,
   "metadata": {},
   "outputs": [
    {
     "name": "stdout",
     "output_type": "stream",
     "text": [
      "4\n",
      "0\n",
      "1\n",
      "9\n",
      "16\n",
      "25\n",
      "36\n",
      "49\n",
      "64\n",
      "81\n"
     ]
    }
   ],
   "source": [
    "# Пул потоков, concurrent.futures.Future\n",
    "\n",
    "from concurrent.futures import ThreadPoolExecutor, as_completed\n",
    "\n",
    "def f(a):\n",
    "    return a * a\n",
    "\n",
    "# .shutdown() in exit\n",
    "with ThreadPoolExecutor(max_workers=3) as pool:\n",
    "    results = [pool.submit(f, i) for i in range(10)]\n",
    "\n",
    "    for future in as_completed(results):\n",
    "        print(future.result())"
   ]
  },
  {
   "cell_type": "markdown",
   "metadata": {},
   "source": [
    "# Синхронизация потоков\n",
    "Очереди\n",
    "Блокировки\n",
    "Условные переменные\n",
    "В многопоточной программе доступ к объектам иногда нужно синхронизировать.\n",
    "Часто для синхронизации потоков используют блокировки.\n",
    "Любые блокировки замедляют выполнение программы.\n",
    "\n",
    "Лучше избегать использование блокировок \n",
    "и отдавать предпочтение обмену данными через очереди.\n",
    "\n",
    "Использование очередей для потоков выглядит как показано на слайде.\n",
    "Создаем очередь с максимальным размером 5.\n",
    "Используем методы put() для того чтобы поместить данные в очередь\n",
    "и get() для того чтобы забрать данные из очереди\n",
    "\n",
    "Использование очередей делает код выполняемой программы более простым.\n",
    "И по возможности лучше разрабатывать код таким образом,\n",
    "чтобы не было глобального разделяемого ресурса, или состояния."
   ]
  },
  {
   "cell_type": "code",
   "execution_count": 16,
   "metadata": {},
   "outputs": [
    {
     "name": "stdout",
     "output_type": "stream",
     "text": [
      "process data:process data: 1 0\n",
      "process data: 1 2\n",
      "process data: 1 3\n",
      "process data: 1 4\n",
      "process data: 1 5\n",
      "process data: 1 6\n",
      "process data: 1 7\n",
      "process data: 1 8\n",
      "process data: 1 9\n",
      "process data: 1 10\n",
      "process data: 1 11\n",
      "process data:  1 12\n",
      "process data: 12 1\n",
      "process data: 2 14\n",
      "process data: 2 15\n",
      "process data: 2 16\n",
      "process data: 2 17\n",
      "process data: 2 18\n",
      " 13\n",
      "process data: 1 19process data: 2 20\n",
      "process data: 2 21\n",
      "process data: 2 22\n",
      "\n",
      "process data: 2 23\n",
      "process data: 1 24\n",
      "process data: 1 25\n",
      "process data: 1 26\n",
      "process data: 1 27\n",
      "process data: 1 28\n",
      "process data: 1 29\n",
      "process data: 1 30\n",
      "process data: 1 31\n",
      "process data: 1 32\n",
      "process data: 1 33\n",
      "process data: 1 34process data: 2 35\n",
      "process data: 2 36\n",
      "process data: \n",
      "process data: 1 38\n",
      "process data: 1 39\n",
      "process data: 1 40\n",
      "process data: 1 41\n",
      "process data: 1 42\n",
      "process data: 1 43\n",
      "process data: 1 44\n",
      "process data: 1 45\n",
      "2 37\n",
      "process data: 2 46\n",
      "process data: 2 process data:47\n",
      "process data: 2  1 48\n",
      "49\n"
     ]
    }
   ],
   "source": [
    "# Очереди, модуль queue\n",
    "from queue import Queue\n",
    "from threading import Thread\n",
    "\n",
    "def worker(q, n):\n",
    "    while True:\n",
    "        item = q.get()\n",
    "        if item is None:\n",
    "            break\n",
    "        print(\"process data:\", n, item)\n",
    "\n",
    "q = Queue(5)\n",
    "th1 = Thread(target=worker, args=(q, 1))\n",
    "th2 = Thread(target=worker, args=(q, 2))\n",
    "th1.start(); th2.start()\n",
    "\n",
    "for i in range(50):\n",
    "    q.put(i)\n",
    "\n",
    "q.put(None); q.put(None)\n",
    "th1.join(); th2.join()"
   ]
  },
  {
   "cell_type": "code",
   "execution_count": 18,
   "metadata": {},
   "outputs": [
    {
     "data": {
      "text/plain": [
       "(15, 10)"
      ]
     },
     "execution_count": 18,
     "metadata": {},
     "output_type": "execute_result"
    }
   ],
   "source": [
    "# Синхронизация потоков, race condition\n",
    "\n",
    "import threading\n",
    "\n",
    "class Point(object):\n",
    "    def __init__(self, x, y):\n",
    "        self.set(x, y)\n",
    "\n",
    "    def get(self):\n",
    "        return (self.x, self.y)\n",
    "\n",
    "    def set(self, x, y):\n",
    "        self.x = x\n",
    "        self.y = y\n",
    "\n",
    "# use in threads\n",
    "my_point = Point(10, 20)\n",
    "my_point.set(15, 10)\n",
    "my_point.get()"
   ]
  },
  {
   "cell_type": "markdown",
   "metadata": {},
   "source": [
    "Этот код гарантирует что если объект класса Point будет использоваться в разных потоках,\n",
    "то изменение x и y будет всегда атомарным.\n",
    "\n",
    "Работает все это так: - при вызове метода берем блокировку через with self._mutex\n",
    "Весь код внутри with блока будет выполнятся только в одном потоке.\n",
    "\n",
    "Другими словами, если два разных потока вызовут .get то пока первый поток не выйдет из блока \n",
    "второй будет его ждать - и только потом продолжит выполнение.\n",
    "\n",
    "Зачем это все нужно? Координаты нужно менять одновременно - ведь точка это атомарный объект.\n",
    "Если позволить одному потоку поменять x, а другой в это же время поправит y\n",
    "логика алгоритма может сломаться."
   ]
  },
  {
   "cell_type": "code",
   "execution_count": 19,
   "metadata": {},
   "outputs": [
    {
     "data": {
      "text/plain": [
       "(15, 10)"
      ]
     },
     "execution_count": 19,
     "metadata": {},
     "output_type": "execute_result"
    }
   ],
   "source": [
    "# Синхронизация потоков, блокировки\n",
    "\n",
    "import threading\n",
    "\n",
    "class Point(object):\n",
    "    def __init__(self, x, y):\n",
    "        self.mutex = threading.RLock()\n",
    "        self.set(x, y)\n",
    "\n",
    "    def get(self):\n",
    "        with self.mutex:\n",
    "            return (self.x, self.y)\n",
    "\n",
    "    def set(self, x, y):\n",
    "        with self.mutex:\n",
    "            self.x = x\n",
    "            self.y = y\n",
    "\n",
    "# use in threads\n",
    "my_point = Point(10, 20)\n",
    "my_point.set(15, 10)\n",
    "my_point.get()"
   ]
  },
  {
   "cell_type": "code",
   "execution_count": 20,
   "metadata": {},
   "outputs": [],
   "source": [
    "# Синхронизация потоков, блокировки\n",
    "\n",
    "import threading\n",
    "\n",
    "\n",
    "a = threading.RLock()\n",
    "b = threading.RLock()\n",
    "\n",
    "def foo():\n",
    "    try:\n",
    "        a.acquire()\n",
    "        b.acquire()\n",
    "    finally:\n",
    "        a.release()\n",
    "        b.release()"
   ]
  },
  {
   "cell_type": "code",
   "execution_count": 21,
   "metadata": {},
   "outputs": [],
   "source": [
    "# Синхронизация потоков, условные переменные\n",
    "\n",
    "class Queue(object):\n",
    "    def __init__(self, size=5):\n",
    "        self._size = size\n",
    "        self._queue = []\n",
    "        self._mutex = threading.RLock()\n",
    "        self._empty = threading.Condition(self._mutex)\n",
    "        self._full = threading.Condition(self._mutex)\n",
    "    \n",
    "    def put(self, val):\n",
    "        with self._full:\n",
    "            while len(self._queue) >= self._size:\n",
    "                self._full.wait()\n",
    "            \n",
    "            self._queue.append(val)\n",
    "            self._empty.notify()\n",
    "\n",
    "    def get(self):\n",
    "        with self._empty:\n",
    "            while len(self._queue) == 0:\n",
    "                self._empty.wait()\n",
    "            \n",
    "            ret = self._queue.pop(0)\n",
    "            self._full.notify()\n",
    "            return ret"
   ]
  },
  {
   "cell_type": "markdown",
   "metadata": {},
   "source": [
    "# asyncio"
   ]
  },
  {
   "cell_type": "code",
   "execution_count": 28,
   "metadata": {},
   "outputs": [
    {
     "name": "stdout",
     "output_type": "stream",
     "text": [
      "A-1\n",
      "B-1\n",
      "B-2\n",
      "A-2\n"
     ]
    }
   ],
   "source": [
    "import asyncio\n",
    "import aiohttp\n",
    "\n",
    "async def simulate_io():\n",
    "    async with aiohttp.ClientSession() as session:\n",
    "        async with session.get('http://python.org') as resp:\n",
    "            await resp.text()\n",
    "\n",
    "async def coro(name):\n",
    "    await simulate_io()\n",
    "    print(f'{name}-1')\n",
    "    await simulate_io()\n",
    "    print(f'{name}-2')\n",
    "\n",
    "async def main():\n",
    "    await asyncio.gather(coro('A'), coro('B'))\n",
    "\n",
    "loop = asyncio.get_event_loop()\n",
    "loop.run_until_complete(main())"
   ]
  },
  {
   "cell_type": "code",
   "execution_count": null,
   "metadata": {},
   "outputs": [],
   "source": []
  },
  {
   "cell_type": "code",
   "execution_count": null,
   "metadata": {},
   "outputs": [],
   "source": []
  }
 ],
 "metadata": {
  "kernelspec": {
   "display_name": "Python 3",
   "language": "python",
   "name": "python3"
  },
  "language_info": {
   "codemirror_mode": {
    "name": "ipython",
    "version": 3
   },
   "file_extension": ".py",
   "mimetype": "text/x-python",
   "name": "python",
   "nbconvert_exporter": "python",
   "pygments_lexer": "ipython3",
   "version": "3.6.4"
  }
 },
 "nbformat": 4,
 "nbformat_minor": 2
}
