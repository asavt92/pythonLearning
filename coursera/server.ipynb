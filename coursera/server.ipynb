{
 "cells": [
  {
   "cell_type": "code",
   "execution_count": null,
   "metadata": {},
   "outputs": [
    {
     "name": "stdout",
     "output_type": "stream",
     "text": [
      "connected: ('127.0.0.1', 49814)\n",
      "b'put palm.cpu 0.5 1150864247\\n'\n",
      "b'put palm.cpu 2.0 1150864248\\n'\n",
      "b'put palm.cpu 0.5 1150864248\\n'\n",
      "b'put eardrum.cpu 3 1150864250\\n'\n",
      "b'put eardrum.cpu 4 1150864251\\n'\n",
      "b'put eardrum.memory 4200000 1526142658.7329304\\n'\n",
      "b'get *\\n'\n"
     ]
    }
   ],
   "source": [
    "import socket\n",
    "import json \n",
    "\n",
    "class Server():\n",
    "    \n",
    "    def __init__(self,host = '127.0.0.1',port = 8889):\n",
    "        self.datas = {}\n",
    "        self.sock = socket.socket()\n",
    "        self.sock.bind((host, port))\n",
    "        self.sock.listen(1)\n",
    "    \n",
    "    def run(self):\n",
    "        conn, addr = self.sock.accept()\n",
    "        print('connected:', addr)\n",
    "        while True:\n",
    "            data = conn.recv(1024)\n",
    "            print(str(data))\n",
    "            if not data:\n",
    "                break\n",
    "            elif \"put\" in str(data):\n",
    "                self.put(str(data))\n",
    "                conn.send(b\"ok\\n\")\n",
    "            elif \"get\" in str(data):\n",
    "                name = str(data).split()[1]\n",
    "                conn.send((self.get(name)).encode(\"utf-8\"))\n",
    "                \n",
    "    def __del__(self):\n",
    "        self.sock.close()\n",
    "        \n",
    "    def put(self, message):\n",
    "        message = message.replace(\"\\\\n\",\" \").split()\n",
    "        name = message[1]\n",
    "        metric = message[2]\n",
    "        time = message[3]\n",
    "        \n",
    "        if name not in self.datas: \n",
    "            self.datas.update([(name,[])])\n",
    "        self.datas[name].append({\"value\":float(metric),\"timestamp\":float(time)})\n",
    "        \n",
    "    def get(self, name):\n",
    "        message = \"\"\n",
    "        if name in self.datas:\n",
    "            for i in self.datas[name]:\n",
    "                message += \" \".join(name, str(i[\"value\"]),str(i[\"timestamp\"])) + \"\\n\"\n",
    "        elif \"*\" in name:\n",
    "            for name in self.datas.keys():\n",
    "                for i in self.datas[name]:\n",
    "                    message += \" \".join([name, str(i[\"value\"]),str(i[\"timestamp\"])]) + \"\\n\"\n",
    "        else:\n",
    "            return \"None\"\n",
    "        return message\n",
    "\n",
    "    \n",
    "server = Server()\n",
    "server.run()\n",
    "server.sock.close()"
   ]
  },
  {
   "cell_type": "code",
   "execution_count": 7,
   "metadata": {},
   "outputs": [],
   "source": [
    "server.sock.close()"
   ]
  },
  {
   "cell_type": "code",
   "execution_count": 44,
   "metadata": {},
   "outputs": [
    {
     "data": {
      "text/plain": [
       "'put palm.cpu 0.5 1150864247 '"
      ]
     },
     "execution_count": 44,
     "metadata": {},
     "output_type": "execute_result"
    }
   ],
   "source": [
    "'put palm.cpu 0.5 1150864247\\n'.replace(\"\\n\",\" \")"
   ]
  },
  {
   "cell_type": "code",
   "execution_count": 13,
   "metadata": {},
   "outputs": [],
   "source": [
    "{}.update([(\"name\",[])])"
   ]
  },
  {
   "cell_type": "code",
   "execution_count": 3,
   "metadata": {},
   "outputs": [
    {
     "data": {
      "text/plain": [
       "'dssd'"
      ]
     },
     "execution_count": 3,
     "metadata": {},
     "output_type": "execute_result"
    }
   ],
   "source": [
    "\"\".join([\"ds\",\"sd\"])"
   ]
  }
 ],
 "metadata": {
  "kernelspec": {
   "display_name": "Python 3",
   "language": "python",
   "name": "python3"
  },
  "language_info": {
   "codemirror_mode": {
    "name": "ipython",
    "version": 3
   },
   "file_extension": ".py",
   "mimetype": "text/x-python",
   "name": "python",
   "nbconvert_exporter": "python",
   "pygments_lexer": "ipython3",
   "version": "3.6.4"
  }
 },
 "nbformat": 4,
 "nbformat_minor": 2
}
