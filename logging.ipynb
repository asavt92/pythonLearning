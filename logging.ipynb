{
 "cells": [
  {
   "cell_type": "markdown",
   "metadata": {},
   "source": [
    "# logging "
   ]
  },
  {
   "cell_type": "code",
   "execution_count": null,
   "metadata": {},
   "outputs": [],
   "source": []
  },
  {
   "cell_type": "code",
   "execution_count": 1,
   "metadata": {},
   "outputs": [
    {
     "name": "stderr",
     "output_type": "stream",
     "text": [
      "2018-04-22 13:45:10,804 ERROR 6 Where is my mind?\n"
     ]
    }
   ],
   "source": [
    "import logging\n",
    "f = \"%(asctime)s %(levelname)s %(lineno)s %(message)s\"\n",
    "logging.basicConfig(level=\"DEBUG\", format = f)\n",
    "\n",
    "logger = logging.getLogger(\"logger_name\")\n",
    "logger.error(\"Where is my mind?\")"
   ]
  },
  {
   "cell_type": "code",
   "execution_count": 9,
   "metadata": {},
   "outputs": [
    {
     "name": "stderr",
     "output_type": "stream",
     "text": [
      "2018-04-22 20:55:11,376 INFO 20 Вызов функции: double_function\n",
      "2018-04-22 20:55:11,381 INFO 22 Результат: 4\n"
     ]
    }
   ],
   "source": [
    "import logging\n",
    "\n",
    "def log(func):\n",
    "    \"\"\"\n",
    "    Логируем какая функция вызывается\n",
    "    \"\"\"\n",
    "    \n",
    "    def wrap_log(*args, **kwargs):\n",
    "        name = func.__name__\n",
    "        logger = logging.getLogger(name)\n",
    "        logger.setLevel(logging.INFO)\n",
    "    \n",
    "        # Открываем файл логов для записи\n",
    "        fh = logging.FileHandler(\"%s.log\" % name)\n",
    "        fmt = '%(asctime)s - %(name)s - %(levelname)s - %(message)s'\n",
    "        formatter = logging.Formatter(fmt)\n",
    "        fh.setFormatter(formatter)\n",
    "        logger.addHandler(fh)\n",
    "        \n",
    "        logger.info(\"Вызов функции: %s\" % name)\n",
    "        result = func(*args, **kwargs)\n",
    "        logger.info(\"Результат: %s\" % result)\n",
    "        return func\n",
    "    \n",
    "    return wrap_log\n",
    "\n",
    "\n",
    "@log\n",
    "def double_function(a):\n",
    "    \"\"\"\n",
    "    Умножаем полученный параметр\n",
    "    \"\"\"\n",
    "    return a*2\n",
    "\n",
    "\n",
    "if __name__ == \"__main__\":\n",
    "    value = double_function(2)"
   ]
  },
  {
   "cell_type": "markdown",
   "metadata": {},
   "source": [
    "# timeit"
   ]
  },
  {
   "cell_type": "code",
   "execution_count": 8,
   "metadata": {},
   "outputs": [
    {
     "name": "stdout",
     "output_type": "stream",
     "text": [
      "0.11738877127243796\n"
     ]
    }
   ],
   "source": [
    "import timeit\n",
    "\n",
    "def func():\n",
    "    a = []\n",
    "    for value in range(10000):\n",
    "        a.append(value)\n",
    "    return a\n",
    "\n",
    "print(timeit.timeit(func,number = 100))"
   ]
  },
  {
   "cell_type": "code",
   "execution_count": null,
   "metadata": {},
   "outputs": [],
   "source": []
  }
 ],
 "metadata": {
  "kernelspec": {
   "display_name": "Python 3",
   "language": "python",
   "name": "python3"
  },
  "language_info": {
   "codemirror_mode": {
    "name": "ipython",
    "version": 3
   },
   "file_extension": ".py",
   "mimetype": "text/x-python",
   "name": "python",
   "nbconvert_exporter": "python",
   "pygments_lexer": "ipython3",
   "version": "3.6.4"
  }
 },
 "nbformat": 4,
 "nbformat_minor": 2
}
