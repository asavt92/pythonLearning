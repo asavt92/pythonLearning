{
 "cells": [
  {
   "cell_type": "markdown",
   "metadata": {},
   "source": [
    "## Multiprocessing"
   ]
  },
  {
   "cell_type": "code",
   "execution_count": null,
   "metadata": {},
   "outputs": [
    {
     "name": "stdout",
     "output_type": "stream",
     "text": [
      "1 processing salad thing\n",
      "1 processing bread thing\n",
      "1 processing dessert thing\n",
      "1 processing apples thing\n",
      "1 processing bug thing\n"
     ]
    }
   ],
   "source": [
    "import multiprocessing as mp\n",
    "\n",
    "def proc1(things,output):\n",
    "    for thing in things:\n",
    "        print(\"1 processing {} thing\".format(thing))\n",
    "        output.put(thing)\n",
    "        \n",
    "def proc2(input):\n",
    "    while(True):\n",
    "        thing = input.get()\n",
    "        print(\"2 processing {} thing\".format(thing))\n",
    "        input.task_done()\n",
    "        \n",
    "queue = mp.JoinableQueue()\n",
    "process_2 = mp.Process(target = proc2,args=(queue,))\n",
    "process_2.daemon = True\n",
    "process_2.start()\n",
    "\n",
    "things = [\"salad\",\"bread\",\"dessert\",\"apples\",\"bug\"]\n",
    "proc1(things,queue)\n",
    "queue.join()"
   ]
  },
  {
   "cell_type": "markdown",
   "metadata": {},
   "source": [
    "## mp.dummy  http://toly.github.io/blog/2014/02/13/parallelism-in-one-line/"
   ]
  },
  {
   "cell_type": "code",
   "execution_count": null,
   "metadata": {},
   "outputs": [],
   "source": [
    "import urllib2\n",
    "from multiprocessing.dummy import Pool as ThreadPool\n",
    "\n",
    "urls = ['http://www.python.org',\n",
    "\t'http://www.python.org/about/',\n",
    "\t'http://www.onlamp.com/pub/a/python/2003/04/17/metaclasses.html',\n",
    "\t'http://www.python.org/doc/',\n",
    "\t'http://www.python.org/download/',\n",
    "\t'http://www.python.org/getit/',\n",
    "\t'http://www.python.org/community/',\n",
    "\t'https://wiki.python.org/moin/',\n",
    "\t'http://planet.python.org/',\n",
    "\t'https://wiki.python.org/moin/LocalUserGroups',\n",
    "\t'http://www.python.org/psf/',\n",
    "\t'http://docs.python.org/devguide/',\n",
    "\t'http://www.python.org/community/awards/']\n",
    "\n",
    "# Make the Pool of workers\n",
    "pool = ThreadPool(4)\n",
    "\n",
    "# Open the urls in their own threads\n",
    "# and return the results\n",
    "results = pool.map(urllib2.urlopen, urls)\n",
    "\n",
    "#close the pool and wait for the work to finish \n",
    "pool.close()\n",
    "pool.join()\n",
    "\n",
    "results"
   ]
  },
  {
   "cell_type": "markdown",
   "metadata": {},
   "source": [
    "## threding\n",
    "\n",
    "Треды - внутри процесса"
   ]
  },
  {
   "cell_type": "code",
   "execution_count": 18,
   "metadata": {},
   "outputs": [
    {
     "name": "stdout",
     "output_type": "stream",
     "text": [
      "Thread <_MainThread(MainThread, started 11560)> says: i'm main programm\n",
      "Thread <Thread(Thread-41, started 10476)> says: i'm function 0\n",
      "Thread <Thread(Thread-42, started 3108)> says: i'm function 1Thread <Thread(Thread-43, started 11260)> says: i'm function 2\n",
      "\n",
      "Thread <Thread(Thread-44, started 9624)> says: i'm function 3Thread <Thread(Thread-45, started 4208)> says: i'm function 4\n",
      "\n"
     ]
    }
   ],
   "source": [
    "import threading\n",
    "\n",
    "def say(thing):\n",
    "    print(\"Thread {} says: {}\".format(threading.current_thread(),thing))\n",
    "if __name__ == \"__main__\":\n",
    "    say(\"i'm main programm\")\n",
    "    for n in range(5):\n",
    "        p = threading.Thread(target = say,args = (\"i'm function %s\" %n,))\n",
    "        p.start()"
   ]
  },
  {
   "cell_type": "code",
   "execution_count": 19,
   "metadata": {},
   "outputs": [
    {
     "name": "stdout",
     "output_type": "stream",
     "text": [
      "1 processing salad thing\n",
      "1 processing bread thing2 processing salad thing\n",
      "\n",
      "1 processing dessert thing2 processing bread thing\n",
      "\n",
      "1 processing apples thing2 processing dessert thing\n",
      "\n",
      "1 processing bug thing2 processing apples thing\n",
      "\n",
      "2 processing bug thing\n"
     ]
    }
   ],
   "source": [
    "import threading, queue\n",
    "import time\n",
    "\n",
    "def proc1(things,output):\n",
    "    for thing in things:\n",
    "        print(\"1 processing {} thing\".format(thing))\n",
    "        time.sleep(2)\n",
    "        output.put(thing)\n",
    "        \n",
    "def proc2(input):\n",
    "    while(True):\n",
    "        thing = input.get()\n",
    "        print(\"2 processing {} thing\".format(thing))\n",
    "        time.sleep(0.5)\n",
    "        input.task_done()\n",
    "        \n",
    "queue = queue.Queue()\n",
    "for n in range(3):\n",
    "    proc2_thred = threading.Thread(target=proc2,args=(queue,))\n",
    "    proc2_thred.start()\n",
    "    \n",
    "things = [\"salad\",\"bread\",\"dessert\",\"apples\",\"bug\"]\n",
    "proc1(things,queue)\n",
    "queue.join()\n",
    "\n"
   ]
  },
  {
   "cell_type": "code",
   "execution_count": null,
   "metadata": {},
   "outputs": [],
   "source": []
  },
  {
   "cell_type": "markdown",
   "metadata": {},
   "source": [
    "## Gevent"
   ]
  },
  {
   "cell_type": "code",
   "execution_count": 22,
   "metadata": {},
   "outputs": [
    {
     "data": {
      "text/plain": [
       "['74.125.232.178', '93.184.216.34', '151.101.84.223']"
      ]
     },
     "execution_count": 22,
     "metadata": {},
     "output_type": "execute_result"
    }
   ],
   "source": [
    ">>> import gevent\n",
    ">>> from gevent import socket\n",
    ">>> urls = ['www.google.com', 'www.example.com', 'www.python.org']\n",
    ">>> jobs = [gevent.spawn(socket.gethostbyname, url) for url in urls]\n",
    ">>> gevent.joinall(jobs, timeout=2)\n",
    ">>> [job.value for job in jobs]"
   ]
  },
  {
   "cell_type": "code",
   "execution_count": null,
   "metadata": {},
   "outputs": [],
   "source": []
  },
  {
   "cell_type": "markdown",
   "metadata": {},
   "source": [
    "## BOT"
   ]
  },
  {
   "cell_type": "code",
   "execution_count": 6,
   "metadata": {},
   "outputs": [],
   "source": [
    "from enum import Enum\n",
    "\n",
    "class Action(Enum):\n",
    "    SHOT = \"shot {} {} {}\"\n",
    "    MOVE_COMMAND = \"move {} {}\"\n",
    "    DONE = \"done\"\n",
    "\n",
    "   # def str(self):\n",
    "        #return(self.value.replace(\"{}\",r\"\\d+\"))\n",
    "\n",
    "class Move(Enum):\n",
    "    UP = (0, -1)\n",
    "    DOWN = (0, 1)\n",
    "    LEFT = (-1, 0)\n",
    "    RIGHT = (1, 0)\n",
    "\n",
    "class Except(Enum):\n",
    "    OUT_OF_BOUND = \"Out of bound (0:{})\"\n",
    "    TOO_CLOSE = \"to near\"\n",
    "    MINE = \"Mine!!!!\"\n",
    "    NO_SHIP = \"Ship not found\"\n",
    "    WTF = \"command not recognized\"\n",
    "    CANT_SHOT = \"ship {} can\\'t  shot\"\n",
    "    YOURE_LATE = \"This field already mined\"\n",
    "    WHERE_AM_I = \"Unknown direction\"\n",
    "\n",
    "    def str(self):\n",
    "        return(self.value.replace(\"{}\",r\"\\d+\"))\n",
    "\n",
    "class Info(Enum):\n",
    "    SIZE = \"World size is: {}\"\n",
    "    SHIP_NUM = \"number of ships is: {}\"\n",
    "    SHIP_COORD = \"coords for ship number {}: \"\n",
    "    SEND_COM = \"Send Command:\"\n",
    "    TURN_ENDED = \"Turn ended\"\n",
    "    THEY_KILLED_KENNY = \"Kill\"\n",
    "    HIT = \"Hit\"\n",
    "    MISS = \"Miss; distance: {}; mine placed\"\n",
    "    SHIPS = \"ships:\"\n",
    "    SHIP_INFO = \"name:{} ap:{} hp:{} coords: {}-{}\"\n",
    "\n",
    "    def str(self):\n",
    "        return(self.value.replace(\"{}\",r\"\\d+\"))\n",
    "\n"
   ]
  },
  {
   "cell_type": "code",
   "execution_count": 5,
   "metadata": {},
   "outputs": [
    {
     "name": "stdout",
     "output_type": "stream",
     "text": [
      "не подходит\n"
     ]
    }
   ],
   "source": [
    "import re \n",
    "\n",
    "list(Info.__members__.values())[0]\n",
    "Info.SHIP_NUM.value\n",
    "\n",
    "pattern = str(Info.SHIP_NUM)\n",
    "\n",
    "result = re.finditer(pattern,\"number of ships is: 4 2\")\n",
    "for m in result:\n",
    "    print(m.group())\n",
    "    \n",
    "a = re.match(pattern, \"number of ships is: 4 asdfasf\")\n",
    "if(not a):\n",
    "    print(\"не подходит\")\n",
    "else:\n",
    "    print(a[0])"
   ]
  }
 ],
 "metadata": {
  "kernelspec": {
   "display_name": "Python 3",
   "language": "python",
   "name": "python3"
  },
  "language_info": {
   "codemirror_mode": {
    "name": "ipython",
    "version": 3
   },
   "file_extension": ".py",
   "mimetype": "text/x-python",
   "name": "python",
   "nbconvert_exporter": "python",
   "pygments_lexer": "ipython3",
   "version": "3.6.4"
  }
 },
 "nbformat": 4,
 "nbformat_minor": 2
}
