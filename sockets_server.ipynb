{
 "cells": [
  {
   "cell_type": "markdown",
   "metadata": {},
   "source": [
    "## SOCKETS"
   ]
  },
  {
   "cell_type": "code",
   "execution_count": 1,
   "metadata": {},
   "outputs": [
    {
     "name": "stdout",
     "output_type": "stream",
     "text": [
      "Starting server  2018-04-17 23:31:43.781600\n",
      "2018-04-17 23:31:47.624487 ('127.0.0.1', 60045) b'Hi'\n"
     ]
    }
   ],
   "source": [
    "#Server\n",
    "import socket\n",
    "from datetime import datetime\n",
    "\n",
    "server_adr = (\"localhost\",9988)\n",
    "max_size = 5000\n",
    "print('Starting server ', datetime.now())\n",
    "server = socket.socket(socket.AF_INET,socket.SOCK_DGRAM)\n",
    "server.bind(server_adr)\n",
    "data, client = server.recvfrom(max_size)\n",
    "print(datetime.now(), client, data)\n",
    "server.sendto(b\"Hi from serve\",client)\n",
    "server.close()"
   ]
  },
  {
   "cell_type": "code",
   "execution_count": 3,
   "metadata": {},
   "outputs": [
    {
     "data": {
      "text/plain": [
       "('www.google.com',\n",
       " [],\n",
       " ['173.194.44.49',\n",
       "  '173.194.44.50',\n",
       "  '173.194.44.48',\n",
       "  '173.194.44.51',\n",
       "  '173.194.44.52'])"
      ]
     },
     "execution_count": 3,
     "metadata": {},
     "output_type": "execute_result"
    }
   ],
   "source": [
    "import socket\n",
    "\n",
    "socket.gethostbyname_ex(\"www.google.com\")"
   ]
  },
  {
   "cell_type": "markdown",
   "metadata": {},
   "source": [
    "# RPC "
   ]
  },
  {
   "cell_type": "code",
   "execution_count": null,
   "metadata": {},
   "outputs": [
    {
     "name": "stderr",
     "output_type": "stream",
     "text": [
      "127.0.0.1 - - [22/Apr/2018 11:01:35] \"POST / HTTP/1.1\" 200 -\n"
     ]
    }
   ],
   "source": [
    "from xmlrpc.server import SimpleXMLRPCServer\n",
    "\n",
    "def finc(d):\n",
    "    return(d**2)\n",
    "server = SimpleXMLRPCServer((\"localhost\",7777))\n",
    "server.register_function(finc,\"finc\")\n",
    "server.serve_forever()"
   ]
  },
  {
   "cell_type": "code",
   "execution_count": null,
   "metadata": {},
   "outputs": [],
   "source": []
  },
  {
   "cell_type": "code",
   "execution_count": null,
   "metadata": {},
   "outputs": [],
   "source": []
  },
  {
   "cell_type": "code",
   "execution_count": null,
   "metadata": {},
   "outputs": [],
   "source": []
  },
  {
   "cell_type": "code",
   "execution_count": null,
   "metadata": {},
   "outputs": [],
   "source": []
  }
 ],
 "metadata": {
  "kernelspec": {
   "display_name": "Python 3",
   "language": "python",
   "name": "python3"
  },
  "language_info": {
   "codemirror_mode": {
    "name": "ipython",
    "version": 3
   },
   "file_extension": ".py",
   "mimetype": "text/x-python",
   "name": "python",
   "nbconvert_exporter": "python",
   "pygments_lexer": "ipython3",
   "version": "3.6.4"
  }
 },
 "nbformat": 4,
 "nbformat_minor": 2
}
